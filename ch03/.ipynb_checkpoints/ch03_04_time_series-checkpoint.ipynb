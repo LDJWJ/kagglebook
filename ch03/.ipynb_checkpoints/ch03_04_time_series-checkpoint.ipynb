{
 "cells": [
  {
   "cell_type": "markdown",
   "id": "3afd39e6",
   "metadata": {},
   "source": [
    "### 데이터 전처리 - 시계열 데이터 셋"
   ]
  },
  {
   "cell_type": "code",
   "execution_count": null,
   "id": "37859241",
   "metadata": {},
   "outputs": [],
   "source": []
  },
  {
   "cell_type": "code",
   "execution_count": 1,
   "id": "567ff8e1",
   "metadata": {},
   "outputs": [],
   "source": [
    "import numpy as np\n",
    "import pandas as pd"
   ]
  },
  {
   "cell_type": "markdown",
   "id": "6732e646",
   "metadata": {},
   "source": [
    "### 데이터 확인"
   ]
  },
  {
   "cell_type": "code",
   "execution_count": 2,
   "id": "dad40179",
   "metadata": {},
   "outputs": [
    {
     "name": "stdout",
     "output_type": "stream",
     "text": [
      "              A     B     C\n",
      "2016-07-01  532  3314  1136\n",
      "2016-07-02  798  2461  1188\n",
      "2016-07-03  823  3522  1711\n",
      "2016-07-04  937  5451  1977\n",
      "2016-07-05  881  4729  1975\n"
     ]
    },
    {
     "data": {
      "text/plain": [
       "'\\n              A     B     C\\ndate\\n2016-07-01  532  3314  1136\\n2016-07-02  798  2461  1188\\n2016-07-03  823  3522  1711\\n2016-07-04  937  5451  1977\\n2016-07-05  881  4729  1975\\n'"
      ]
     },
     "execution_count": 2,
     "metadata": {},
     "output_type": "execute_result"
    }
   ],
   "source": [
    "# -----------------------------------\n",
    "# 와이드 포맷, 롱 포맷\n",
    "# -----------------------------------\n",
    "\n",
    "# 와이드 포맷의 데이터 읽기\n",
    "df_wide = pd.read_csv('../input/ch03/time_series_wide.csv', index_col=0)\n",
    "# 인덱스의 형태를 날짜형으로 변경\n",
    "df_wide.index = pd.to_datetime(df_wide.index)\n",
    "\n",
    "print(df_wide.iloc[:5, :3])\n",
    "'''\n",
    "              A     B     C\n",
    "date\n",
    "2016-07-01  532  3314  1136\n",
    "2016-07-02  798  2461  1188\n",
    "2016-07-03  823  3522  1711\n",
    "2016-07-04  937  5451  1977\n",
    "2016-07-05  881  4729  1975\n",
    "'''"
   ]
  },
  {
   "cell_type": "markdown",
   "id": "3879ec91",
   "metadata": {},
   "source": [
    "### 데이터 변환 - 롱 포맷으로 변환"
   ]
  },
  {
   "cell_type": "code",
   "execution_count": 3,
   "id": "5dacaac3",
   "metadata": {},
   "outputs": [
    {
     "name": "stdout",
     "output_type": "stream",
     "text": [
      "           id  value\n",
      "2016-07-01  A    532\n",
      "2016-07-01  B   3314\n",
      "2016-07-01  C   1136\n",
      "2016-07-02  A    798\n",
      "2016-07-02  B   2461\n",
      "2016-07-02  C   1188\n",
      "2016-07-03  A    823\n",
      "2016-07-03  B   3522\n",
      "2016-07-03  C   1711\n",
      "2016-07-04  A    937\n"
     ]
    },
    {
     "data": {
      "text/plain": [
       "'\\n           id  value\\ndate\\n2016-07-01  A    532\\n2016-07-01  B   3314\\n2016-07-01  C   1136\\n2016-07-02  A    798\\n2016-07-02  B   2461\\n2016-07-02  C   1188\\n2016-07-03  A    823\\n2016-07-03  B   3522\\n2016-07-03  C   1711\\n2016-07-04  A    937\\n...\\n'"
      ]
     },
     "execution_count": 3,
     "metadata": {},
     "output_type": "execute_result"
    }
   ],
   "source": [
    "# 롱 포맷으로 변환\n",
    "df_long = df_wide.stack().reset_index(1)\n",
    "df_long.columns = ['id', 'value']\n",
    "\n",
    "print(df_long.head(10))\n",
    "'''\n",
    "           id  value\n",
    "date\n",
    "2016-07-01  A    532\n",
    "2016-07-01  B   3314\n",
    "2016-07-01  C   1136\n",
    "2016-07-02  A    798\n",
    "2016-07-02  B   2461\n",
    "2016-07-02  C   1188\n",
    "2016-07-03  A    823\n",
    "2016-07-03  B   3522\n",
    "2016-07-03  C   1711\n",
    "2016-07-04  A    937\n",
    "...\n",
    "'''"
   ]
  },
  {
   "cell_type": "markdown",
   "id": "fcb58a4a",
   "metadata": {},
   "source": [
    "### 다양한 시간 데이터 셋의 값을 획득"
   ]
  },
  {
   "cell_type": "code",
   "execution_count": 6,
   "id": "241d9d4c",
   "metadata": {},
   "outputs": [],
   "source": [
    "# 와이드 포맷으로 되돌림\n",
    "df_wide = df_long.pivot(index=None, columns='id', values='value')\n",
    "\n",
    "# -----------------------------------\n",
    "# lag 특징\n",
    "# -----------------------------------\n",
    "# 와이드 포맷의 데이터 세팅\n",
    "x = df_wide\n",
    "# -----------------------------------\n",
    "# x는 와이드 포맷의 데이터 프레임\n",
    "# 인덱스 = 날짜 등의 시간, 열 = 사용자나 매장 등, 값 = 매출 등 주목 대상 변수를 나타냄\n",
    "\n",
    "# 1일 전의 값을 획득\n",
    "x_lag1 = x.shift(1)\n",
    "\n",
    "# 7일 전의 값을 획득\n",
    "x_lag7 = x.shift(7)"
   ]
  },
  {
   "cell_type": "code",
   "execution_count": 7,
   "id": "ce932305",
   "metadata": {},
   "outputs": [],
   "source": [
    "# -----------------------------------\n",
    "# shift() 함수로 각각의 날짜 데이터 값을 일정 기간 전의 데이터로 치환(여기서는 1일전)\n",
    "# 첫 번째 행은 이전 날짜가 없어 NaN(빈 값)이 됨. 두 번째부터는 전날 데이터로 치환\n",
    "# 변환된 데이터 기준으로 rolling() 함수를 이용. window=3(자신을 포함하여 3개 행)\n",
    "# 3일 범위의 날짜 기간(자신 포함 이전 3일)의 데이터 평균을 구함. 단, NaN이 하나라도 포함되면 NaN 반환\n",
    "\n",
    "# 1기전부터 3기간의 이동평균 산출\n",
    "x_avg3 = x.shift(1).rolling(window=3).mean()\n",
    "\n",
    "# -----------------------------------\n",
    "# 모든 날짜를 1일 이전 데이터로 치환한 뒤,\n",
    "# 변환된 데이터의 지정 시점부터 이전 날짜의 7일간의 범위에서 최댓값을 산출\n",
    "x_max7 = x.shift(1).rolling(window=7).max()\n",
    "\n",
    "# -----------------------------------\n",
    "# 7일 이전, 14일 이전, 21일 이전, 28일 이전의 합의 평균으로 치환\n",
    "x_e7_avg = (x.shift(7) + x.shift(14) + x.shift(21) + x.shift(28)) / 4.0\n",
    "\n",
    "# -----------------------------------\n",
    "# 1일 이후의 값을 취득\n",
    "x_lead1 = x.shift(-1)"
   ]
  },
  {
   "cell_type": "code",
   "execution_count": 8,
   "id": "f36c17e2",
   "metadata": {},
   "outputs": [],
   "source": [
    "# -----------------------------------\n",
    "# lag 특징\n",
    "# -----------------------------------\n",
    "# 데이터 읽어오기\n",
    "train_x = pd.read_csv('../input/ch03/time_series_train.csv')\n",
    "event_history = pd.read_csv('../input/ch03/time_series_events.csv')\n",
    "train_x['date'] = pd.to_datetime(train_x['date'])\n",
    "event_history['date'] = pd.to_datetime(event_history['date'])\n",
    "# -----------------------------------\n",
    "\n",
    "# train_x는 학습 데이터로 사용자 ID, 날짜를 열로 갖는 데이터 프레임\n",
    "# event_history는 과거에 개최한 이벤트의 정보로 날짜, 이벤트를 열로 가진 데이터 프레임\n",
    "# occurrences는 날짜, 세일 개최 여부를 열로 가진 DataFrame이 됨\n",
    "dates = np.sort(train_x['date'].unique())\n",
    "occurrences = pd.DataFrame(dates, columns=['date'])\n",
    "sale_history = event_history[event_history['event'] == 'sale']\n",
    "occurrences['sale'] = occurrences['date'].isin(sale_history['date'])\n",
    "\n",
    "# 누적합을 얻어 각 날짜별 누적 출현 횟수를 표시\n",
    "# occurrences는 날짜, 세일 누적 출현 횟수를 열로 갖는 데이터 프레임이 됨\n",
    "occurrences['sale'] = occurrences['sale'].cumsum()\n",
    "\n",
    "# 날짜를 기준으로 학습 데이터와 결합\n",
    "train_x = train_x.merge(occurrences, on='date', how='left')\n"
   ]
  }
 ],
 "metadata": {
  "kernelspec": {
   "display_name": "Python 3 (ipykernel)",
   "language": "python",
   "name": "python3"
  },
  "language_info": {
   "codemirror_mode": {
    "name": "ipython",
    "version": 3
   },
   "file_extension": ".py",
   "mimetype": "text/x-python",
   "name": "python",
   "nbconvert_exporter": "python",
   "pygments_lexer": "ipython3",
   "version": "3.9.13"
  }
 },
 "nbformat": 4,
 "nbformat_minor": 5
}
