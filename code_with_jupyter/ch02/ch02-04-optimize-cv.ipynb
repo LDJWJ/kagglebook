{
 "cells": [
  {
   "cell_type": "markdown",
   "id": "finite-overall",
   "metadata": {},
   "source": [
    "## 2.5 평가지표의 최적화"
   ]
  },
  {
   "cell_type": "markdown",
   "id": "matched-debut",
   "metadata": {},
   "source": [
    "### 목차\n",
    " * 2.5.1 평가지표의 최적화 접근법\n",
    " * 2.5.2 임곗값 최적화\n",
    " * **2.5.3 임곗값 최적화와 OOF 예측의 필요성**"
   ]
  },
  {
   "cell_type": "markdown",
   "id": "cultural-opposition",
   "metadata": {},
   "source": [
    "### 2.5.3 임곗값 최적화와 OOF 예측의 필요성"
   ]
  },
  {
   "cell_type": "code",
   "execution_count": 7,
   "id": "invalid-capitol",
   "metadata": {},
   "outputs": [],
   "source": [
    "import numpy as np\n",
    "import pandas as pd"
   ]
  },
  {
   "cell_type": "code",
   "execution_count": 8,
   "id": "approximate-habitat",
   "metadata": {},
   "outputs": [],
   "source": [
    "# -----------------------------------\n",
    "# out-of-fold에서의 임곗값(threshold)의 최적화\n",
    "# -----------------------------------\n",
    "from scipy.optimize import minimize\n",
    "from sklearn.metrics import f1_score\n",
    "from sklearn.model_selection import KFold\n",
    "\n",
    "# 샘플 데이터 생성 준비\n",
    "rand = np.random.RandomState(seed=71)\n",
    "train_y_prob = np.linspace(0, 1.0, 10000)\n",
    "\n",
    "# 실젯값과 예측값을 다음과 같은 train_y, train_pred_prob이었다고 가정\n",
    "train_y = pd.Series(rand.uniform(0.0, 1.0, train_y_prob.size) < train_y_prob)\n",
    "train_pred_prob = np.clip(train_y_prob * np.exp(\n",
    "                           rand.standard_normal(train_y_prob.shape) * 0.3),0.0, 1.0)"
   ]
  },
  {
   "cell_type": "code",
   "execution_count": 12,
   "id": "thrown-iceland",
   "metadata": {},
   "outputs": [
    {
     "name": "stdout",
     "output_type": "stream",
     "text": [
      "0.34257812499999984 0.7559183673469387 0.7570422535211268\n",
      "0.34277343749999983 0.7598457403295548 0.7450980392156863\n",
      "0.31787109374999983 0.7548253676470588 0.7584803256445047\n",
      "0.3234374999999998 0.7545569184913447 0.7588603196664351\n",
      "0.33166503906249983\n"
     ]
    }
   ],
   "source": [
    "# 교차 검증 구조로 임곗값을 구함\n",
    "thresholds = []\n",
    "scores_tr = []\n",
    "scores_va = []\n",
    "\n",
    "kf = KFold(n_splits=4, random_state=71, shuffle=True)\n",
    "for i, (tr_idx, va_idx) in enumerate(kf.split(train_pred_prob)):\n",
    "    tr_pred_prob, va_pred_prob = train_pred_prob[tr_idx], train_pred_prob[va_idx]\n",
    "    tr_y, va_y = train_y.iloc[tr_idx], train_y.iloc[va_idx]\n",
    "\n",
    "    # 최적화 목적함수를 설정\n",
    "    def f1_opt(x):\n",
    "        return -f1_score(tr_y, tr_pred_prob >= x)\n",
    "    \n",
    "    # 학습 데이터로 임곗값을 실시하고 검증 데이터로 평가를 수행\n",
    "    result = minimize(f1_opt, x0=np.array([0.5]), method=\"Nelder-Mead\")\n",
    "    threshold = result[\"x\"].item()\n",
    "    \n",
    "    score_tr = f1_score(tr_y, tr_pred_prob >= threshold)\n",
    "    score_va = f1_score(va_y, va_pred_prob >= threshold)\n",
    "    print(threshold, score_tr, score_va)\n",
    "    \n",
    "    thresholds.append(threshold)\n",
    "    scores_tr.append(score_tr)\n",
    "    scores_va.append(score_va)\n",
    "\n",
    "# 각 fold의 임곗값 평균을 테스트 데이터에 적용\n",
    "threshold_test = np.mean(thresholds)\n",
    "print(threshold_test)"
   ]
  }
 ],
 "metadata": {
  "kernelspec": {
   "display_name": "Python 3",
   "language": "python",
   "name": "python3"
  },
  "language_info": {
   "codemirror_mode": {
    "name": "ipython",
    "version": 3
   },
   "file_extension": ".py",
   "mimetype": "text/x-python",
   "name": "python",
   "nbconvert_exporter": "python",
   "pygments_lexer": "ipython3",
   "version": "3.8.5"
  }
 },
 "nbformat": 4,
 "nbformat_minor": 5
}
