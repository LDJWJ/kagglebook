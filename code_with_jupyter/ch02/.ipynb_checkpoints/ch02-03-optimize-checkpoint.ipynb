{
 "cells": [
  {
   "cell_type": "markdown",
   "id": "decimal-forest",
   "metadata": {},
   "source": [
    "## 2.5 평가지표의 최적화"
   ]
  },
  {
   "cell_type": "markdown",
   "id": "continent-timing",
   "metadata": {},
   "source": [
    "### 목차\n",
    " * 2.5.1 평가지표의 최적화 접근법\n",
    " * 2.5.2 임곗값 최적화"
   ]
  },
  {
   "cell_type": "markdown",
   "id": "indonesian-webcam",
   "metadata": {},
   "source": [
    "### 2.5.2 임곗값 최적화"
   ]
  },
  {
   "cell_type": "code",
   "execution_count": 3,
   "id": "concerned-basket",
   "metadata": {},
   "outputs": [],
   "source": [
    "import numpy as np\n",
    "import pandas as pd"
   ]
  },
  {
   "cell_type": "code",
   "execution_count": 4,
   "id": "novel-bread",
   "metadata": {},
   "outputs": [],
   "source": [
    "# -----------------------------------\n",
    "# 임곗값(threshold)의 최적화\n",
    "# -----------------------------------\n",
    "from sklearn.metrics import f1_score\n",
    "from scipy.optimize import minimize\n",
    "\n",
    "# 행 데이터 데이터 생성 준비\n",
    "rand = np.random.RandomState(seed=71)\n",
    "train_y_prob = np.linspace(0, 1.0, 10000)"
   ]
  },
  {
   "cell_type": "markdown",
   "id": "ignored-gasoline",
   "metadata": {},
   "source": [
    "### 임곗값을 0.5로 하여 F1을 구하기"
   ]
  },
  {
   "cell_type": "code",
   "execution_count": 8,
   "id": "documentary-techno",
   "metadata": {},
   "outputs": [
    {
     "name": "stdout",
     "output_type": "stream",
     "text": [
      "0.5 0.7170388498011624\n"
     ]
    }
   ],
   "source": [
    "# 실젯값과 예측값을 다음과 같은 train_y, train_pred_prob이었다고 가정\n",
    "train_y = pd.Series(rand.uniform(0.0, 1.0, train_y_prob.size) < train_y_prob)\n",
    "train_pred_prob = np.clip(train_y_prob * np.exp(\n",
    "                            rand.standard_normal(train_y_prob.shape) * 0.3), 0.0, 1.0)\n",
    "\n",
    "# 임곗값(threshold)을 0.5로 하면, F1은 0.722\n",
    "init_threshold = 0.5\n",
    "init_score = f1_score(train_y, train_pred_prob >= init_threshold)\n",
    "print(init_threshold, init_score)"
   ]
  },
  {
   "cell_type": "markdown",
   "id": "attended-minutes",
   "metadata": {},
   "source": [
    "### 최적의 임계값을 기준으로 F1을 구하기"
   ]
  },
  {
   "cell_type": "code",
   "execution_count": 6,
   "id": "metropolitan-discharge",
   "metadata": {},
   "outputs": [
    {
     "name": "stdout",
     "output_type": "stream",
     "text": [
      "0.32324218749999983 0.7557317703844165\n"
     ]
    }
   ],
   "source": [
    "# 최적화의 목적함수를 설정\n",
    "def f1_opt(x):\n",
    "    return -f1_score(train_y, train_pred_prob >= x)\n",
    "\n",
    "# scipy.optimize의 minimize 메소드에서 최적의 임곗값 구하기\n",
    "# 구한 최적의 임곗값을 바탕으로 F1을 구하면 0.756이 됨\n",
    "result = minimize(f1_opt, x0=np.array([0.5]), method=\"Nelder-Mead\")\n",
    "best_threshold = result['x'].item()\n",
    "best_score = f1_score(train_y, train_pred_prob >= best_threshold)\n",
    "print(best_threshold, best_score)"
   ]
  }
 ],
 "metadata": {
  "kernelspec": {
   "display_name": "Python 3",
   "language": "python",
   "name": "python3"
  },
  "language_info": {
   "codemirror_mode": {
    "name": "ipython",
    "version": 3
   },
   "file_extension": ".py",
   "mimetype": "text/x-python",
   "name": "python",
   "nbconvert_exporter": "python",
   "pygments_lexer": "ipython3",
   "version": "3.8.5"
  }
 },
 "nbformat": 4,
 "nbformat_minor": 5
}
