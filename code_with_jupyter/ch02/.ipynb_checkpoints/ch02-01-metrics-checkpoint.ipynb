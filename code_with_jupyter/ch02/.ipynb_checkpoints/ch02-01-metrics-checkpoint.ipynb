{
 "cells": [
  {
   "cell_type": "markdown",
   "id": "empty-joint",
   "metadata": {},
   "source": [
    "## ch02 경진대회의 평가지표"
   ]
  },
  {
   "cell_type": "markdown",
   "id": "beneficial-monitor",
   "metadata": {},
   "source": [
    "### 목차\n",
    "### 2.3.2 회귀의 평가지표\n",
    "### 2.3.3 이진분류의 평가지표(1)\n",
    "### 2.3.4 이진분류의 평가지표(2)\n",
    "### 2.3.6 추천의 평가지표"
   ]
  },
  {
   "cell_type": "markdown",
   "id": "collaborative-twenty",
   "metadata": {},
   "source": [
    "### 라이브러리 불러오기 및 데이터 준비"
   ]
  },
  {
   "cell_type": "code",
   "execution_count": 3,
   "id": "extraordinary-exhaust",
   "metadata": {},
   "outputs": [],
   "source": [
    "import numpy as np\n",
    "import pandas as pd"
   ]
  },
  {
   "cell_type": "markdown",
   "id": "abroad-circle",
   "metadata": {},
   "source": [
    "### 2.3.2 회귀의 평가지표"
   ]
  },
  {
   "cell_type": "code",
   "execution_count": 4,
   "id": "sized-interaction",
   "metadata": {},
   "outputs": [
    {
     "name": "stdout",
     "output_type": "stream",
     "text": [
      "0.5531726674375732\n"
     ]
    }
   ],
   "source": [
    "# -----------------------------------\n",
    "# 회귀\n",
    "# -----------------------------------\n",
    "# rmse\n",
    "from sklearn.metrics import mean_squared_error\n",
    "# y_true - 실젯값, y_pred - 예측값\n",
    "y_true = [1.0, 1.5, 2.0, 1.2, 1.8]\n",
    "y_pred = [0.8, 1.5, 1.8, 1.3, 3.0]\n",
    "rmse = np.sqrt(mean_squared_error(y_true, y_pred))\n",
    "print(rmse)\n",
    "# 0.5532"
   ]
  },
  {
   "cell_type": "markdown",
   "id": "printable-mainland",
   "metadata": {},
   "source": [
    "### 2.3.3 이진분류의 평가지표(1)"
   ]
  },
  {
   "cell_type": "markdown",
   "id": "funded-ecology",
   "metadata": {},
   "source": [
    "### 혼동행렬"
   ]
  },
  {
   "cell_type": "code",
   "execution_count": 6,
   "id": "significant-tuition",
   "metadata": {},
   "outputs": [
    {
     "name": "stdout",
     "output_type": "stream",
     "text": [
      "[[3 1]\n",
      " [2 2]]\n"
     ]
    }
   ],
   "source": [
    "# -----------------------------------\n",
    "# 이진 분류\n",
    "# -----------------------------------\n",
    "# 혼동행렬\n",
    "\n",
    "from sklearn.metrics import confusion_matrix\n",
    "\n",
    "# 0, 1로 표현되는 이진 분류의 실젯값과 예측값\n",
    "y_true = [1, 0, 1, 1, 0, 1, 1, 0]\n",
    "y_pred = [0, 0, 1, 1, 0, 0, 1, 1]\n",
    "\n",
    "tp = np.sum((np.array(y_true) == 1) & (np.array(y_pred) == 1))\n",
    "tn = np.sum((np.array(y_true) == 0) & (np.array(y_pred) == 0))\n",
    "fp = np.sum((np.array(y_true) == 0) & (np.array(y_pred) == 1))\n",
    "fn = np.sum((np.array(y_true) == 1) & (np.array(y_pred) == 0))\n",
    "\n",
    "confusion_matrix1 = np.array([[tp, fp],\n",
    "                              [fn, tn]])\n",
    "print(confusion_matrix1)\n",
    "# array([[3, 1],\n",
    "#        [2, 2]])"
   ]
  },
  {
   "cell_type": "markdown",
   "id": "executed-admission",
   "metadata": {},
   "source": [
    "### 정확도와 오류율"
   ]
  },
  {
   "cell_type": "code",
   "execution_count": 7,
   "id": "listed-bachelor",
   "metadata": {},
   "outputs": [
    {
     "name": "stdout",
     "output_type": "stream",
     "text": [
      "0.625\n"
     ]
    }
   ],
   "source": [
    "# -----------------------------------\n",
    "# 정확도(accuracy)\n",
    "# -----------------------------------\n",
    "\n",
    "from sklearn.metrics import accuracy_score\n",
    "\n",
    "# 0, 1로 표현되는 이진 분류의 실젯값과 예측값\n",
    "y_true = [1, 0, 1, 1, 0, 1, 1, 0]\n",
    "y_pred = [0, 0, 1, 1, 0, 0, 1, 1]\n",
    "accuracy = accuracy_score(y_true, y_pred)\n",
    "print(accuracy)\n",
    "# 0.625"
   ]
  },
  {
   "cell_type": "markdown",
   "id": "unavailable-queue",
   "metadata": {},
   "source": [
    "* 대표적인 경진 대회는 캐글의 Text Normalization Challenge - English Language\n",
    "대회"
   ]
  },
  {
   "cell_type": "markdown",
   "id": "divine-boring",
   "metadata": {},
   "source": [
    "### 2.3.4 이진분류의 평가지표(2)"
   ]
  },
  {
   "cell_type": "markdown",
   "id": "robust-consolidation",
   "metadata": {},
   "source": [
    "### 로그 손실(logloss)"
   ]
  },
  {
   "cell_type": "code",
   "execution_count": 8,
   "id": "interior-composite",
   "metadata": {},
   "outputs": [
    {
     "name": "stdout",
     "output_type": "stream",
     "text": [
      "0.7135581778200728\n"
     ]
    }
   ],
   "source": [
    "# -----------------------------------\n",
    "# logloss\n",
    "# -----------------------------------\n",
    "from sklearn.metrics import log_loss\n",
    "# 0, 1로 나타나는 이진 분류의 실젯값과 예측 확률\n",
    "y_true = [1, 0, 1, 1, 0, 1]\n",
    "y_prob = [0.1, 0.2, 0.8, 0.8, 0.1, 0.3]\n",
    "logloss = log_loss(y_true, y_prob)\n",
    "print(logloss)\n",
    "# 0.7136"
   ]
  },
  {
   "cell_type": "markdown",
   "id": "personal-things",
   "metadata": {},
   "source": [
    "* 대표적인 경진 대회는 캐글의 Quora Question Pairs 대회"
   ]
  },
  {
   "cell_type": "markdown",
   "id": "behind-bowling",
   "metadata": {},
   "source": [
    "### 다중 클래스 분류\n",
    " * multi-class logloss"
   ]
  },
  {
   "cell_type": "code",
   "execution_count": 10,
   "id": "undefined-split",
   "metadata": {},
   "outputs": [
    {
     "name": "stdout",
     "output_type": "stream",
     "text": [
      "0.3625557672904274\n"
     ]
    }
   ],
   "source": [
    "# -----------------------------------\n",
    "# 다중 클래스 분류\n",
    "# -----------------------------------\n",
    "# multi-class logloss\n",
    "\n",
    "from sklearn.metrics import log_loss\n",
    "\n",
    "# 3 클래스 분류의 실젯값과 예측값\n",
    "y_true = np.array([0, 2, 1, 2, 2])\n",
    "y_pred = np.array([[0.68, 0.32, 0.00],\n",
    "                    [0.00, 0.00, 1.00],\n",
    "                    [0.60, 0.40, 0.00],\n",
    "                    [0.00, 0.00, 1.00],\n",
    "                    [0.28, 0.12, 0.60]])\n",
    "\n",
    "logloss = log_loss(y_true, y_pred)\n",
    "print(logloss)\n",
    "# 0.3626"
   ]
  },
  {
   "cell_type": "markdown",
   "id": "invalid-impossible",
   "metadata": {},
   "source": [
    "* 대표적인 경진 대회는 캐글의 Two Sigma Connect: Rental Listing Inquiries 대회"
   ]
  },
  {
   "cell_type": "markdown",
   "id": "surprised-version",
   "metadata": {},
   "source": [
    "### 다중 레이블 분류"
   ]
  },
  {
   "cell_type": "code",
   "execution_count": 15,
   "id": "criminal-travel",
   "metadata": {},
   "outputs": [
    {
     "name": "stdout",
     "output_type": "stream",
     "text": [
      "0.5933333333333334 0.5523809523809523 0.6250000000000001\n",
      "0.5933333333333334 0.5523809523809523 0.6250000000000001\n"
     ]
    }
   ],
   "source": [
    "# -----------------------------------\n",
    "# 다중 레이블 분류\n",
    "# -----------------------------------\n",
    "# mean_f1, macro_f1, micro_f1\n",
    "from sklearn.metrics import f1_score\n",
    "# 다중 레이블 분류의 실젯값·예측값은 평가지표 계산상으로는 \n",
    "# 행 데이터 × 클래스의 두값 행렬로 해야 다루기 쉬움\n",
    "\n",
    "# 실젯값 - [[1,2], [1], [1,2,3], [2,3], [3]]\n",
    "y_true = np.array([[1, 1, 0],\n",
    "                    [1, 0, 0],\n",
    "                    [1, 1, 1],\n",
    "                    [0, 1, 1],\n",
    "                    [0, 0, 1]])\n",
    "\n",
    "# 예측값 - [[1,3], [2], [1,3], [3], [3]]\n",
    "y_pred = np.array([[1, 0, 1],\n",
    "                    [0, 1, 0],\n",
    "                    [1, 0, 1],\n",
    "                    [0, 0, 1],\n",
    "                    [0, 0, 1]])\n",
    "\n",
    "# mean-f1는 행 데이터마다 F1-score를 계산하여 평균을 취함\n",
    "mean_f1 = np.mean([f1_score(y_true[i, :], y_pred[i, :]) \n",
    "                          for i in range(len(y_true))])\n",
    "\n",
    "# macro-f1에서는 행 데이터마다 F1-score를 계산하여 평균을 취함\n",
    "n_class = 3\n",
    "macro_f1 = np.mean([f1_score(y_true[:, c], y_pred[:, c]) \n",
    "                          for c in range(n_class)])\n",
    "\n",
    "# micro-f1에서는 행 데이터 × 클래스의 쌍으로 TP/TN/FP/FN을 계산하여 \n",
    "# F1-score를 구함\n",
    "\n",
    "micro_f1 = f1_score(y_true.reshape(-1), y_pred.reshape(-1))\n",
    "print(mean_f1, macro_f1, micro_f1)\n",
    "# 0.5933, 0.5524, 0.6250\n",
    "\n",
    "# scikit-learn 메소드를 사용하여 계산 가능\n",
    "mean_f1 = f1_score(y_true, y_pred, average='samples')\n",
    "macro_f1 = f1_score(y_true, y_pred, average='macro')\n",
    "micro_f1 = f1_score(y_true, y_pred, average='micro')\n",
    "\n",
    "print(mean_f1, macro_f1, micro_f1)"
   ]
  },
  {
   "cell_type": "markdown",
   "id": "round-identification",
   "metadata": {},
   "source": [
    "* 대표적인 경진 대회는 캐글의 Instacart Market Basket Analysis(mean-F1) 대회와\n",
    "Human Protein Atlas Image Classification(macro-F1) 대회"
   ]
  },
  {
   "cell_type": "markdown",
   "id": "color-designation",
   "metadata": {},
   "source": [
    "### QWK(quadratic weighted kappa)"
   ]
  },
  {
   "cell_type": "code",
   "execution_count": 18,
   "id": "legendary-bandwidth",
   "metadata": {},
   "outputs": [
    {
     "name": "stdout",
     "output_type": "stream",
     "text": [
      "0.6153846153846154\n"
     ]
    }
   ],
   "source": [
    "# -----------------------------------\n",
    "# 클래스간 순서관계가 있는 다중 클래스 분류\n",
    "# -----------------------------------\n",
    "# QWK(quadratic weighted kappa)\n",
    "\n",
    "from sklearn.metrics import confusion_matrix, cohen_kappa_score\n",
    "\n",
    "# quadratic weighted kappa을 계산하는 함수\n",
    "def quadratic_weighted_kappa(c_matrix):\n",
    "    numer = 0.0\n",
    "    denom = 0.0\n",
    "\n",
    "    for i in range(c_matrix.shape[0]):\n",
    "        for j in range(c_matrix.shape[1]):\n",
    "            n = c_matrix.shape[0]\n",
    "            wij = ((i - j) ** 2.0)\n",
    "            oij = c_matrix[i, j]\n",
    "            eij = c_matrix[i, :].sum() * c_matrix[:, j].sum() / c_matrix.sum()\n",
    "            numer += wij * oij\n",
    "            denom += wij * eij\n",
    "    return 1.0 - numer / denom\n",
    "\n",
    "# y_true는 실젯값 클래스 목록, y_pred는 예측값 클래스 목록\n",
    "y_true = [1, 2, 3, 4, 3]\n",
    "y_pred = [2, 2, 4, 4, 5]\n",
    "\n",
    "# 혼동행렬을 계산\n",
    "c_matrix = confusion_matrix(y_true, y_pred, labels=[1, 2, 3, 4, 5])\n",
    "\n",
    "# quadratic weighted kappa를 계산\n",
    "kappa = quadratic_weighted_kappa(c_matrix)\n",
    "print(kappa)\n",
    "\n",
    "# 0.6154\n",
    "# scikit-learn의 메소드로도 계산 가능\n",
    "kappa = cohen_kappa_score(y_true, y_pred, weights='quadratic')"
   ]
  },
  {
   "cell_type": "markdown",
   "id": "certified-spice",
   "metadata": {},
   "source": [
    "* 대표적인 QWK 경진 대회는 캐글의 Prudential Life Insurance Assessment 대회"
   ]
  },
  {
   "cell_type": "markdown",
   "id": "imperial-pencil",
   "metadata": {},
   "source": [
    "### 2.3.6 추천의 평가지표"
   ]
  },
  {
   "cell_type": "code",
   "execution_count": 20,
   "id": "intense-departure",
   "metadata": {},
   "outputs": [
    {
     "name": "stdout",
     "output_type": "stream",
     "text": [
      "0.6499999999999999\n",
      "1.0\n",
      "0.5833333333333333\n"
     ]
    }
   ],
   "source": [
    "# -----------------------------------\n",
    "# Recommendation(추천)\n",
    "# -----------------------------------\n",
    "# MAP@K\n",
    "\n",
    "# K=3, 행의 수는 5개, 클래스는 4종류\n",
    "K = 3\n",
    "\n",
    "# 각 행의 실젯값\n",
    "y_true = [[1, 2], [1, 2], [4], [1, 2, 3, 4], [3, 4]]\n",
    "\n",
    "# 각 행에 대한 예측값 - K = 3이므로, 일반적으로 각 행에 각각 3개까지 \n",
    "# 순위를 매겨 예측\n",
    "y_pred = [[1, 2, 4], [4, 1, 2], [1, 4, 3], [1, 2, 3], [1, 2, 4]]\n",
    "\n",
    "# 각 행의 average precision을 계산하는 함수\n",
    "def apk(y_i_true, y_i_pred):\n",
    "    # y_pred가 K이하의 길이이고 모든 요소가 달라야 함\n",
    "    assert (len(y_i_pred) <= K)\n",
    "    assert (len(np.unique(y_i_pred)) == len(y_i_pred))\n",
    "\n",
    "    sum_precision = 0.0\n",
    "    num_hits = 0.0\n",
    "\n",
    "    for i, p in enumerate(y_i_pred):\n",
    "        if p in y_i_true:\n",
    "            num_hits += 1\n",
    "            precision = num_hits / (i + 1)\n",
    "            sum_precision += precision\n",
    "\n",
    "    return sum_precision / min(len(y_i_true), K)\n",
    "\n",
    "# MAP@K을 계산하는 함수\n",
    "def mapk(y_true, y_pred):\n",
    "    return np.mean([apk(y_i_true, y_i_pred) for y_i_true, y_i_pred in zip(y_true, y_pred)])\n",
    "\n",
    "# MAP@K을 요청\n",
    "print(mapk(y_true, y_pred))\n",
    "# 0.65\n",
    "\n",
    "# 정답 수가 같아도 순서가 다르면 점수도 다름\n",
    "print(apk(y_true[0], y_pred[0]))\n",
    "print(apk(y_true[1], y_pred[1]))\n",
    "# 1.0, 0.5833"
   ]
  }
 ],
 "metadata": {
  "kernelspec": {
   "display_name": "Python 3",
   "language": "python",
   "name": "python3"
  },
  "language_info": {
   "codemirror_mode": {
    "name": "ipython",
    "version": 3
   },
   "file_extension": ".py",
   "mimetype": "text/x-python",
   "name": "python",
   "nbconvert_exporter": "python",
   "pygments_lexer": "ipython3",
   "version": "3.8.5"
  }
 },
 "nbformat": 4,
 "nbformat_minor": 5
}
