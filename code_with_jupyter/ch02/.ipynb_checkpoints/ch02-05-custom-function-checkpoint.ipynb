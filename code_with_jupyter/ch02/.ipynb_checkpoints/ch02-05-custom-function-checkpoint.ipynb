{
 "cells": [
  {
   "cell_type": "markdown",
   "id": "efficient-layer",
   "metadata": {},
   "source": [
    "## 2.6 평가지표 최적화 사례"
   ]
  },
  {
   "cell_type": "markdown",
   "id": "weird-philadelphia",
   "metadata": {},
   "source": [
    "### 목차\n",
    " * 2.6.1 BA 최적화\n",
    " * 2.6.2 mean-F1에서의 임곗값 최적화\n",
    " * 2.6.3 QWK(quadratic weighted kappa)에서의 임곗값 최적화\n",
    " * **2.6.4 사용자 정의 목적함수에서의 평가지표 근사에 따른 MAE 최적화**"
   ]
  },
  {
   "cell_type": "markdown",
   "id": "offensive-animation",
   "metadata": {},
   "source": [
    "### 2.6.4 사용자 정의 목적함수에서의 평가지표 근사에 따른 MAE 최적화"
   ]
  },
  {
   "cell_type": "code",
   "execution_count": 2,
   "id": "impressed-workplace",
   "metadata": {},
   "outputs": [],
   "source": [
    "import numpy as np\n",
    "import pandas as pd"
   ]
  },
  {
   "cell_type": "code",
   "execution_count": 1,
   "id": "compatible-clarity",
   "metadata": {},
   "outputs": [],
   "source": [
    "# -----------------------------------\n",
    "# 사용자 정의 목적함수의 평가지표 근사에 의한 MAE 최적화\n",
    "# -----------------------------------\n",
    "# Fair 함수\n",
    "def fair(preds, dtrain):\n",
    "    x = preds - dtrain.get_labels() # 잔차 획득\n",
    "    c = 1.0 # Fair 함수 파라미터\n",
    "    den = abs(x) + c # 그레디언트 식의 분모 계산\n",
    "    grad = c * x / den # 그레디언트\n",
    "    hess = c * c / den ** 2 # 이차 미분값\n",
    "    return grad, hess\n",
    "\n",
    "\n",
    "# Pseudo-Huber 함수\n",
    "def psuedo_huber(preds, dtrain):\n",
    "    d = preds - dtrain.get_labels() # 잔차 획득\n",
    "    delta = 1.0 # Pseudo-Huber 함수 파라미터\n",
    "    scale = 1 + (d / delta) ** 2\n",
    "    scale_sqrt = np.sqrt(scale)\n",
    "    grad = d / scale_sqrt # 그레디언트\n",
    "    hess = 1 / scale / scale_sqrt # 이차 미분값\n",
    "    return grad, hess"
   ]
  },
  {
   "cell_type": "code",
   "execution_count": null,
   "id": "banned-england",
   "metadata": {},
   "outputs": [],
   "source": []
  }
 ],
 "metadata": {
  "kernelspec": {
   "display_name": "Python 3",
   "language": "python",
   "name": "python3"
  },
  "language_info": {
   "codemirror_mode": {
    "name": "ipython",
    "version": 3
   },
   "file_extension": ".py",
   "mimetype": "text/x-python",
   "name": "python",
   "nbconvert_exporter": "python",
   "pygments_lexer": "ipython3",
   "version": "3.8.5"
  }
 },
 "nbformat": 4,
 "nbformat_minor": 5
}
