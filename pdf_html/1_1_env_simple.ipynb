{
 "cells": [
  {
   "cell_type": "markdown",
   "metadata": {},
   "source": [
    "## 환경 준비하기(원도우용)"
   ]
  },
  {
   "cell_type": "markdown",
   "metadata": {},
   "source": [
    "### 설치 비디오"
   ]
  },
  {
   "cell_type": "markdown",
   "metadata": {},
   "source": [
    "* 01 아나콘다 설치 및 라이브러리 설치 ([영상보기](https://youtu.be/ZGGm64rxl1o) )\n",
    "* 02 pycharm 설치 및 github 코드 가져오기([영상보기]() )"
   ]
  },
  {
   "cell_type": "markdown",
   "metadata": {},
   "source": [
    "## 01 아나콘다 및 라이브러리 설치"
   ]
  },
  {
   "cell_type": "markdown",
   "metadata": {},
   "source": [
    "- [HTML](https://ldjwj.github.io/kagglebook/pdf_html/ch1_2_anaconda_simple.html)"
   ]
  },
  {
   "cell_type": "markdown",
   "metadata": {},
   "source": [
    "- 현재 아나콘다 설치 버전 : Anaconda3-2020.11 (Window버전)\n",
    "    * 설치 버전 (파이썬 버전 3.8.5)\n",
    "        - 파일명 : Anaconda3-2020.11-Windows-x86_64.exe\n",
    "        - URL : https://repo.anaconda.com/archive/"
   ]
  },
  {
   "cell_type": "markdown",
   "metadata": {},
   "source": [
    "### 02 Pycharm 설치 및 환경 설정\n",
    " * [자세한 설명보기](https://ldjwj.github.io/kagglebook/pdf_html/ch1_3_pycharm_install.html)"
   ]
  },
  {
   "cell_type": "markdown",
   "metadata": {},
   "source": [
    "- URL : https://www.jetbrains.com/pycharm/download/#section=windows"
   ]
  },
  {
   "cell_type": "markdown",
   "metadata": {},
   "source": [
    "### 03 Pycharm에서 github 소스 코드 불러오기\n",
    "   - https://github.com/LDJWJ/kagglebook 로 이동\n",
    "   - CODE 버튼 선택 - Download Zip 선택 후, 소스 코드 다운로드\n",
    "   - 내가 원하는 위치로 zip 파일을 이동 후, 압축을 파일을 풀어준다.\n",
    "   - 메뉴 [File]-[Open...]선택 후, 소스코드 폴더를 선택 후, OK선택\n",
    "   - 각각의 상황에 따라 폴더를 열어준다. 여기서는 Attach로 여러 폴더를 함께 사용.\n",
    "   - 파일을 하나 선택해서 진행해 본다.   "
   ]
  }
 ],
 "metadata": {
  "kernelspec": {
   "display_name": "Python 3",
   "language": "python",
   "name": "python3"
  },
  "language_info": {
   "codemirror_mode": {
    "name": "ipython",
    "version": 3
   },
   "file_extension": ".py",
   "mimetype": "text/x-python",
   "name": "python",
   "nbconvert_exporter": "python",
   "pygments_lexer": "ipython3",
   "version": "3.8.5"
  }
 },
 "nbformat": 4,
 "nbformat_minor": 4
}
