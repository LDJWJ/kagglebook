{
 "cells": [
  {
   "cell_type": "markdown",
   "metadata": {},
   "source": [
    "## 환경 준비하기(원도우용)"
   ]
  },
  {
   "cell_type": "markdown",
   "metadata": {},
   "source": [
    "### 설치 비디오"
   ]
  },
  {
   "cell_type": "markdown",
   "metadata": {},
   "source": [
    "* 01 아나콘다 설치 ([영상보기](https://youtu.be/ZGGm64rxl1o) )\n",
    "* 02 가상 환경 설치([영상보기](https://youtu.be/ecEURCnXuBM) )\n",
    "* 03 Pycharm 설치 및 시작하기([영상보기](https://youtu.be/1RXlAmyvRQI) )\n",
    "* 04 github 소스 코드 다운로드([영상보기]() )"
   ]
  },
  {
   "cell_type": "markdown",
   "metadata": {},
   "source": [
    "## 01 아나콘다 설치 "
   ]
  },
  {
   "cell_type": "markdown",
   "metadata": {},
   "source": [
    "- [PDF](https://ldjwj.github.io/kagglebook/pdf_html/01_anaconda_install.pdf) \n",
    "- [HTML](https://ldjwj.github.io/kagglebook/pdf_html/ch1_2_anaconda.html)"
   ]
  },
  {
   "cell_type": "markdown",
   "metadata": {},
   "source": [
    "- 현재 아나콘다 설치 버전 : Anaconda3-2020.11 (Window버전)\n",
    "    * 설치 버전 (파이썬 버전 3.8.5)\n",
    "        - 파일명 : Anaconda3-2020.11-Windows-x86_64.exe\n",
    "        - URL : https://repo.anaconda.com/archive/"
   ]
  },
  {
   "cell_type": "markdown",
   "metadata": {},
   "source": [
    "## 02 가상 환경 설치\n",
    " * (가상환경을 사용하지 않을 시, 2번은 건너뛰어도 됨.)\n",
    " * 라이브러리 설치 시, 버전이 변경되면서 라이브러리 의존성으로 에러가 발생되는 경우가 있어, 일부 라이브러리는 버전을 지정하여 설치합니다.\n",
    "   - https://github.com/LDJWJ/kagglebook의 Readme를 참고해 주세요."
   ]
  },
  {
   "cell_type": "markdown",
   "metadata": {},
   "source": [
    "###  anaconda prompt 실행\n",
    "### 가상환경 설치 및 활성화 \n",
    "     - (명령어) conda create  --name  tf2x python=3.8.5\n",
    "     - (명령어) conda activate tf2x   # 가상 환경 활성화\n",
    "     \n",
    "### tensorflow, keras 및 기본 라이브러리 설치\n",
    " * 아래 명령을 anaconda prompt에 순서대로 명령어를 실행 입력합니다.\n",
    "     - (명령어) pip  install  tensorflow==2.4.1\n",
    "     - (명령어) pip install keras==2.4.3 \n",
    "     - (명령어) pip install seaborn pandas jupyter matplotlib scikit-learn\n",
    "     - (명령어) pip install xgboost==1.3.3\n",
    "     - (명령어) pip install lightgbm==3.1.1\n",
    "     \n",
    "     - (명령어) pip install --upgrade pywin32==225\n",
    "     - (명령어) python C:\\Users\\[PC사용자이름지정]\\anaconda3\\Scripts\\pywin32_postinstall.py -install\n",
    "\n",
    " * [입력 예] (base) C:\\Users\\toto> pip  install  tensorflow==2.4.1\n",
    " * [PC사용자이름지정]는 자신의 컴퓨터의 User안의 이름을 지정합니다.\n",
    "   * C:\\Users\\[PC사용자이름지정]\\anaconda3는 앞에서 아나콘다가 설치된 경로를 나타냅니다.\n",
    " * 버전이 다르거나 등의 이유로 pywin32_postinstall.py 파일이 없을 수 있습니다. \n",
    "   \n",
    "#### (알아두기1) 가상환경 설치 후, 가상환경 설치 후, 주피터 노트북을 실행할 때, 에러가 발생하는 경우가 있음. 이때 아래의 명령으로 일부 이슈 해결\n",
    "     - 아나콘다 Prompt-관리자 권한실행 후,  \n",
    "     - (명령어) pip install --upgrade pywin32==225\n",
    "     - (명령어) python C:\\Users\\[PC사용자이름지정]\\anaconda3\\Scripts\\pywin32_postinstall.py -install\n",
    "     \n",
    "     - 이후에 주피터 노트북 실행할때, \n",
    "      - 아나콘다 Prompt 닫고, 다시 가상환경에서 아나콘다 실행\n",
    "      - (명령어) conda activate tf2x   # 가상 환경 활성화\n",
    "      - (명령어) jupyter notebook      # 주피터 노트북 실행\n",
    "       \n",
    "#### (알아두기2) 가상환경 생성 시 실수하여 가상환경 삭제할 때(꼭 주의해서 실행요함)\n",
    " - 가상환경 삭제\n",
    "   - conda env remove --name [가상환경이름]\n",
    "     - (예) conda env remove --name tf2x\n",
    " - 가상환경 리스트 확인\n",
    "   - conda env list\n",
    " \n",
    "### 설치 확인\n",
    " - 주피터 노트북 실행 후,"
   ]
  },
  {
   "cell_type": "code",
   "execution_count": 1,
   "metadata": {},
   "outputs": [
    {
     "name": "stdout",
     "output_type": "stream",
     "text": [
      "2.4.1\n",
      "3.1.1\n",
      "1.3.3\n",
      "2.4.0\n"
     ]
    }
   ],
   "source": [
    "import xgboost \n",
    "import tensorflow as tf\n",
    "import lightgbm\n",
    "from tensorflow import keras\n",
    "\n",
    "print(tf.__version__)\n",
    "print(lightgbm.__version__)\n",
    "print(xgboost.__version__)\n",
    "print(keras.__version__)"
   ]
  },
  {
   "cell_type": "markdown",
   "metadata": {},
   "source": [
    "### 03 Pycharm 설치 및 환경 설정\n",
    " * [자세한 설명보기](https://ldjwj.github.io/kagglebook/pdf_html/ch1_3_pycharm_install.html)"
   ]
  },
  {
   "cell_type": "markdown",
   "metadata": {},
   "source": [
    "- URL : https://www.jetbrains.com/pycharm/download/#section=windows"
   ]
  },
  {
   "cell_type": "markdown",
   "metadata": {},
   "source": [
    "## 04 github 소스 코드 다운로드"
   ]
  },
  {
   "cell_type": "markdown",
   "metadata": {},
   "source": [
    "   - https://github.com/LDJWJ/kagglebook 로 이동\n",
    "   - CODE 버튼 선택 - Download Zip 선택 후, 소스 코드 다운로드\n",
    "   - 내가 원하는 위치로 zip 파일을 이동 후, 압축을 파일을 풀어준다."
   ]
  },
  {
   "cell_type": "markdown",
   "metadata": {},
   "source": [
    "## 05 다운로드 된 소스코드를 pycharm에서 폴더를 선택 후, 불러오기\n",
    "\n",
    " "
   ]
  },
  {
   "cell_type": "markdown",
   "metadata": {},
   "source": [
    "   - 메뉴 [File]-[Open...]선택 후, 소스코드 폴더를 선택 후, OK선택\n",
    "   - 각각의 상황에 따라 폴더를 열어준다. 여기서는 Attach로 여러 폴더를 함께 사용.\n",
    "   - 파일을 하나 선택해서 진행해 본다.   "
   ]
  }
 ],
 "metadata": {
  "kernelspec": {
   "display_name": "Python 3",
   "language": "python",
   "name": "python3"
  },
  "language_info": {
   "codemirror_mode": {
    "name": "ipython",
    "version": 3
   },
   "file_extension": ".py",
   "mimetype": "text/x-python",
   "name": "python",
   "nbconvert_exporter": "python",
   "pygments_lexer": "ipython3",
   "version": "3.8.5"
  }
 },
 "nbformat": 4,
 "nbformat_minor": 4
}
