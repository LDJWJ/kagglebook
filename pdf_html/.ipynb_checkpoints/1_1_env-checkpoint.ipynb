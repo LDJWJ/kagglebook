{
 "cells": [
  {
   "cell_type": "markdown",
   "metadata": {},
   "source": [
    "## 환경 준비하기(원도우용)"
   ]
  },
  {
   "cell_type": "markdown",
   "metadata": {},
   "source": [
    "## 01 아나콘다 설치 "
   ]
  },
  {
   "cell_type": "markdown",
   "metadata": {},
   "source": [
    "- [PDF](https://ldjwj.github.io/kagglebook/pdf_html/01_anaconda_install.pdf) \n",
    "- [HTML](https://ldjwj.github.io/kagglebook/pdf_html/1_1_anaconda_install_202103.html)"
   ]
  },
  {
   "cell_type": "markdown",
   "metadata": {},
   "source": [
    "   - 최신버전 다운로드 및 파일명\n",
    "     - https://www.anaconda.com/products/individual\n",
    "     - 파일명 : Anaconda3-2020.11-Windows-x86_64.exe, 버전 확인 : conda 버전 4.8.2, python 3.7.6\n",
    "     - (명령어) python --version, conda --version\n",
    "   - 이전버전 사용시 아래 URL에서 다운로드 가능\n",
    "     - 다운로드 URL : https://repo.anaconda.com/archive/\n",
    "       - 파일명 : Anaconda3-2020.02-Windows-x86_64. 버전확인 : conda 버전 4.8.2, python 3.7.6\n",
    "     - (명령어) python --version, conda --version"
   ]
  },
  {
   "cell_type": "markdown",
   "metadata": {},
   "source": [
    "## 02 가상 환경 설치\n",
    " * (가상환경을 사용하지 않을 시, 2번은 건너뛰어도 됨.)"
   ]
  },
  {
   "cell_type": "markdown",
   "metadata": {},
   "source": [
    "###  anaconda prompt 실행\n",
    "### 가상환경 설치 및 활성화 \n",
    "     - (명령어) conda create  --name  tf2x python=3.8.5\n",
    "     - (명령어) conda activate tf2x   # 가상 환경 활성화\n",
    "### tensorflow, keras 및 기본 라이브러리 설치\n",
    "     - (명령어) pip  install  tensorflow\n",
    "     - (명령어) pip install keras seaborn pandas jupyter matplotlib scikit-learn\n",
    "     - (명령어) pip install xgboost\n",
    "     - (명령어) pip install lightgbm\n",
    "     - \n",
    "### (알아두기1) 추후 버전 변경으로 인한 일부 코드가 돌아가지 않을 때, 라이브러리 버전이 달라 발생할 경우 아래의 명령으로 버전을 지정하여 설치가 가능합니다.(pip 사용)\n",
    "     - (설치된것 삭제)  pip uninstall xgboost\n",
    "     - (버전지정 설치) pip install xgboost==1.3.3\n",
    " \n",
    "    - (알아두기2) 가상환경 설치 후, 가상환경 설치 후, 주피터 노트북을 실행할 때, 에러가 발생하는 경우가 있음. 이때 아래의 명령으로 일부 이슈 해결\n",
    "     - 아나콘다 Prompt-관리자 권한실행 후,  \n",
    "       - pip install --upgrade pywin32==225\n",
    "       - python C:\\Users\\[PC사용자이름지정]\\anaconda3\\Scripts\\pywin32_postinstall.py -install\n",
    "     - 아나콘다 Prompt 닫고, 다시 가상환경에서 아나콘다 실행\n",
    "       - (명령어) conda activate tf2x   # 가상 환경 활성화\n",
    "       - (명령어) jupyter notebook      # 주피터 노트북 실행"
   ]
  },
  {
   "cell_type": "markdown",
   "metadata": {},
   "source": [
    "## 03 Pycharm 설치 및 환경 설정"
   ]
  },
  {
   "cell_type": "markdown",
   "metadata": {},
   "source": [
    "- URL : https://www.jetbrains.com/pycharm/download/#section=windows"
   ]
  },
  {
   "cell_type": "markdown",
   "metadata": {},
   "source": [
    "## 04 github 소스 코드 다운로드"
   ]
  },
  {
   "cell_type": "markdown",
   "metadata": {},
   "source": [
    "   - https://github.com/LDJWJ/kagglebook 로 이동\n",
    "   - CODE 버튼 선택 - Download Zip 선택 후, 소스 코드 다운로드\n",
    "   - 내가 원하는 위치로 zip 파일을 이동 후, 압축을 파일을 풀어준다."
   ]
  },
  {
   "cell_type": "markdown",
   "metadata": {},
   "source": [
    "## 05 다운로드 된 소스코드를 pycharm에서 폴더를 선택 후, 불러오기\n",
    "\n",
    " "
   ]
  },
  {
   "cell_type": "markdown",
   "metadata": {},
   "source": [
    "   - 메뉴 [File]-[Open...]선택 후, 소스코드 폴더를 선택 후, OK선택\n",
    "   - 각각의 상황에 따라 폴더를 열어준다. 여기서는 Attach로 여러 폴더를 함께 사용.\n",
    "   - 파일을 하나 선택해서 진행해 본다.   "
   ]
  }
 ],
 "metadata": {
  "kernelspec": {
   "display_name": "Python 3",
   "language": "python",
   "name": "python3"
  },
  "language_info": {
   "codemirror_mode": {
    "name": "ipython",
    "version": 3
   },
   "file_extension": ".py",
   "mimetype": "text/x-python",
   "name": "python",
   "nbconvert_exporter": "python",
   "pygments_lexer": "ipython3",
   "version": "3.7.6"
  }
 },
 "nbformat": 4,
 "nbformat_minor": 4
}
