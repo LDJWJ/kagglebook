{
 "cells": [
  {
   "cell_type": "markdown",
   "metadata": {},
   "source": [
    "## 환경 준비하기(원도우용)"
   ]
  },
  {
   "cell_type": "markdown",
   "metadata": {},
   "source": [
    "### 설치 비디오"
   ]
  },
  {
   "cell_type": "markdown",
   "metadata": {},
   "source": [
    "* 01 아나콘다 설치 및 라이브러리 설치 ([영상보기](https://youtu.be/ZGGm64rxl1o) )\n",
    "* 02 pycharm 설치 및 github 코드 가져오기([영상보기]() )"
   ]
  },
  {
   "cell_type": "markdown",
   "metadata": {},
   "source": [
    "## 01 아나콘다 및 라이브러리 설치"
   ]
  },
  {
   "attachments": {},
   "cell_type": "markdown",
   "metadata": {},
   "source": [
    "- 현재 아나콘다 설치 버전 : Anaconda3-2022.10 (Window 11) (2023.02기준)\n",
    "    * 설치 버전 (파이썬 버전 3.9.13)\n",
    "        - 파일명 : Anaconda3-2022.10-Windows-x86_64\n",
    "        - URL : https://repo.anaconda.com/archive/\n",
    "\n",
    "- 상세설명이동 [HTML](https://ldjwj.github.io/kagglebook/pdf_html/env01_anaconda_install_220208.html)"
   ]
  },
  {
   "attachments": {},
   "cell_type": "markdown",
   "metadata": {},
   "source": [
    "- 현재 아나콘다 설치 버전 : Anaconda3-2020.11 (Window 10)\n",
    "    * 설치 버전 (파이썬 버전 3.8.5)\n",
    "        - 파일명 : Anaconda3-2020.11-Windows-x86_64.exe\n",
    "        - URL : https://repo.anaconda.com/archive/\n",
    "\n",
    "- 상세설명이동 [HTML](https://ldjwj.github.io/kagglebook/pdf_html/ch1_2_anaconda_simple.html)"
   ]
  },
  {
   "attachments": {},
   "cell_type": "markdown",
   "metadata": {},
   "source": [
    "### 02 Pycharm 설치 및 환경 설정\n",
    " * [자세한 설명보기](https://ldjwj.github.io/kagglebook/pdf_html/env02_pycharm_install_220208.html) - PyCharm 22.03 버전 기준 (2023.02기준, Windown 11)\n",
    " * [자세한 설명보기](https://ldjwj.github.io/kagglebook/pdf_html/ch1_3_pycharm_install.html) - PyCharm 21.01 버전 기준"
   ]
  },
  {
   "cell_type": "markdown",
   "metadata": {},
   "source": [
    "- URL : https://www.jetbrains.com/pycharm/download/#section=windows"
   ]
  },
  {
   "attachments": {},
   "cell_type": "markdown",
   "metadata": {},
   "source": [
    "### 03 VisualStudio Code 설치 및 환경 설정\n",
    " * VisualStudio Code 설치 및 환경 설정(2023.02기준)\n",
    "   * 설치 환경 : Windonw 11\n",
    "   * VS Version : VS 1.75.0\n",
    "   * [상세설명](https://ldjwj.github.io/kagglebook/pdf_html/env03_VisualStudioCode_install.html)\n",
    " * VisualStudio Code 설치 및 환경 설정\n",
    "   * Windonw 10, VS 1.67.x\n",
    "   * VisualStudio Code 설치  [상세설명](https://ldjwj.github.io/kagglebook/pdf_html/03_[Window]01_visual_studio_code_install.html)\n",
    "   * VisualStudio Code 환경 설정  [상세설명](https://ldjwj.github.io/kagglebook/pdf_html/03_[Window]02_visual_studio_code_install_02.html)"
   ]
  },
  {
   "attachments": {},
   "cell_type": "markdown",
   "metadata": {},
   "source": [
    "### 04 Pycharm에서 github 소스 코드 불러오기\n",
    "   - https://github.com/LDJWJ/kagglebook 로 이동\n",
    "   - CODE 버튼 선택 - Download Zip 선택 후, 소스 코드 다운로드\n",
    "   - 내가 원하는 위치로 zip 파일을 이동 후, 압축을 파일을 풀어준다.\n",
    "   - 메뉴 [File]-[Open...]선택 후, 소스코드 폴더를 선택 후, OK선택\n",
    "   - 각각의 상황에 따라 폴더를 열어준다. 여기서는 Attach로 여러 폴더를 함께 사용.\n",
    "   - 파일을 하나 선택해서 진행해 본다.   "
   ]
  }
 ],
 "metadata": {
  "kernelspec": {
   "display_name": "Python 3",
   "language": "python",
   "name": "python3"
  },
  "language_info": {
   "codemirror_mode": {
    "name": "ipython",
    "version": 3
   },
   "file_extension": ".py",
   "mimetype": "text/x-python",
   "name": "python",
   "nbconvert_exporter": "python",
   "pygments_lexer": "ipython3",
   "version": "3.8.5"
  }
 },
 "nbformat": 4,
 "nbformat_minor": 4
}
