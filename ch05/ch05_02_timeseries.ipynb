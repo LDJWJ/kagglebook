{
 "cells": [
  {
   "cell_type": "markdown",
   "id": "4be35a08",
   "metadata": {},
   "source": [
    "### 시계열 데이터의 홀드아웃 방법과 교차 검증"
   ]
  },
  {
   "cell_type": "markdown",
   "id": "2507e1bc",
   "metadata": {},
   "source": [
    "### 학습 내용\n",
    " * 데이터 및 라이브러리 사전 준비\n",
    " * Hold-out - 홀드아웃\n",
    " * 시계열 데이터의 교차 검증"
   ]
  },
  {
   "cell_type": "markdown",
   "id": "8a98268f",
   "metadata": {},
   "source": [
    "### 데이터 및 라이브러리 사전 준비"
   ]
  },
  {
   "cell_type": "code",
   "execution_count": 1,
   "id": "98be0e62",
   "metadata": {},
   "outputs": [],
   "source": [
    "# ---------------------------------\n",
    "# 데이터 등의 사전 준비\n",
    "# ----------------------------------\n",
    "import numpy as np\n",
    "import pandas as pd\n",
    "\n",
    "# train_x는 학습 데이터, train_y는 목적 변수, test_x는 테스트 데이터\n",
    "# pandas의 DataFrame, Series로 유지합니다.(numpy의 array로 유지하기도 합니다)\n",
    "\n",
    "train = pd.read_csv('../input/sample-data/train_preprocessed.csv')\n",
    "train_x = train.drop(['target'], axis=1)\n",
    "train_y = train['target']\n",
    "test_x = pd.read_csv('../input/sample-data/test_preprocessed.csv')"
   ]
  },
  {
   "cell_type": "code",
   "execution_count": 2,
   "id": "8416413f",
   "metadata": {},
   "outputs": [
    {
     "data": {
      "text/plain": [
       "((10000, 28), (10000,), (10000, 28))"
      ]
     },
     "execution_count": 2,
     "metadata": {},
     "output_type": "execute_result"
    }
   ],
   "source": [
    "train_x.shape, train_y.shape, test_x.shape"
   ]
  },
  {
   "cell_type": "markdown",
   "id": "60704ec3",
   "metadata": {},
   "source": [
    "* 시계열 데이터의 인덱스를 기반으로 데이터를 4개의 기간(period)으로 분할하여 각 데이터가 어느 기간에 속하는지를 나타내는 'period' 변수를 생성"
   ]
  },
  {
   "cell_type": "code",
   "execution_count": 3,
   "id": "9a3bb57f",
   "metadata": {},
   "outputs": [],
   "source": [
    "# 시계열 데이터이며, 시간에 따라 변수 period 생성\n",
    "train_x['period'] = np.arange(0, len(train_x)) // (len(train_x) // 4)\n",
    "train_x['period'] = np.clip(train_x['period'], 0, 3)\n",
    "test_x['period'] = 4"
   ]
  },
  {
   "cell_type": "markdown",
   "id": "bab07759",
   "metadata": {},
   "source": [
    "### Hold-out - 홀드아웃"
   ]
  },
  {
   "cell_type": "code",
   "execution_count": 4,
   "id": "5ac45ee6",
   "metadata": {},
   "outputs": [],
   "source": [
    "# -----------------------------------\n",
    "# 시계열 데이터의 홀드아웃(hold-out)방법\n",
    "# -----------------------------------\n",
    "# 변수 period를 기준으로 분할(0부터 2까지 학습 데이터, 3이 테스트 데이터)\n",
    "# 변수 period가 1, 2, 3의 데이터를 각각 검증 데이터로 하고 \n",
    "# 그 이전 데이터를 학습에 사용\n",
    "is_tr = train_x['period'] < 3\n",
    "is_va = train_x['period'] == 3\n",
    "tr_x, va_x = train_x[is_tr], train_x[is_va]\n",
    "tr_y, va_y = train_y[is_tr], train_y[is_va]"
   ]
  },
  {
   "cell_type": "markdown",
   "id": "b9d47e24",
   "metadata": {},
   "source": [
    "### 시계열 데이터의 교차 검증"
   ]
  },
  {
   "cell_type": "code",
   "execution_count": 6,
   "id": "074d9135",
   "metadata": {},
   "outputs": [
    {
     "name": "stdout",
     "output_type": "stream",
     "text": [
      "기준 period :  1\n",
      "(2500, 29) (2500, 29) (2500,) (2500,)\n",
      "기준 period :  2\n",
      "(5000, 29) (2500, 29) (5000,) (2500,)\n",
      "기준 period :  3\n",
      "(7500, 29) (2500, 29) (7500,) (2500,)\n"
     ]
    }
   ],
   "source": [
    "# -----------------------------------\n",
    "# 시계열 데이터의 교차 검증(시계열에 따라 시행하는 방법)\n",
    "# -----------------------------------\n",
    "# 변수 period를 기준으로 분할(0부터 2까지가 학습 데이터, 3이 테스트 데이터)\n",
    "# 변수 period가 1, 2, 3의 데이터를 각각 검증 데이터로 하고 그 이전 데이터를 학습에 사용\n",
    "\n",
    "va_period_list = [1, 2, 3]\n",
    "for va_period in va_period_list:\n",
    "    is_tr = train_x['period'] < va_period\n",
    "    is_va = train_x['period'] == va_period\n",
    "    tr_x, va_x = train_x[is_tr], train_x[is_va]\n",
    "    tr_y, va_y = train_y[is_tr], train_y[is_va]\n",
    "    \n",
    "    print(\"기준 period : \", va_period)\n",
    "    print(tr_x.shape, va_x.shape, tr_y.shape, va_y.shape) # 23/06추가"
   ]
  },
  {
   "cell_type": "markdown",
   "id": "d4132975",
   "metadata": {},
   "source": [
    "### 시계열 데이터의 교차 검증을 수행"
   ]
  },
  {
   "cell_type": "markdown",
   "id": "f20adcc5",
   "metadata": {},
   "source": [
    "* TimeSeriesSplit과 변수 period를 활용하여 데이터를 학습과 검증 세트로 분할"
   ]
  },
  {
   "cell_type": "code",
   "execution_count": 7,
   "id": "3cf6035e",
   "metadata": {},
   "outputs": [],
   "source": [
    "# (참고)periodSeriesSplit의 경우, \n",
    "# 데이터 정렬 순서밖에 사용할 수 없으므로 쓰기 어려움\n",
    "from sklearn.model_selection import TimeSeriesSplit\n",
    "\n",
    "tss = TimeSeriesSplit(n_splits=4)\n",
    "for tr_idx, va_idx in tss.split(train_x):\n",
    "    tr_x, va_x = train_x.iloc[tr_idx], train_x.iloc[va_idx]\n",
    "    tr_y, va_y = train_y.iloc[tr_idx], train_y.iloc[va_idx]\n",
    "\n",
    "# -----------------------------------\n",
    "# 시계열 데이터의 교차 검증(단순하게 시간으로 분할하는 방법)\n",
    "# -----------------------------------\n",
    "# 변수 period를 기준으로 분할(0부터 3까지가 학습 데이터, 3이 테스트 데이터).\n",
    "# 변수 period가 0, 1, 2, 3인 데이터를 각각 검증 데이터로 하고, 그 이외의 학습 데이터를 학습에 사용\n",
    "\n",
    "va_period_list = [0, 1, 2, 3]\n",
    "for va_period in va_period_list:\n",
    "    is_tr = train_x['period'] != va_period\n",
    "    is_va = train_x['period'] == va_period\n",
    "    tr_x, va_x = train_x[is_tr], train_x[is_va]\n",
    "    tr_y, va_y = train_y[is_tr], train_y[is_va]"
   ]
  }
 ],
 "metadata": {
  "kernelspec": {
   "display_name": "Python 3 (ipykernel)",
   "language": "python",
   "name": "python3"
  },
  "language_info": {
   "codemirror_mode": {
    "name": "ipython",
    "version": 3
   },
   "file_extension": ".py",
   "mimetype": "text/x-python",
   "name": "python",
   "nbconvert_exporter": "python",
   "pygments_lexer": "ipython3",
   "version": "3.9.13"
  }
 },
 "nbformat": 4,
 "nbformat_minor": 5
}
