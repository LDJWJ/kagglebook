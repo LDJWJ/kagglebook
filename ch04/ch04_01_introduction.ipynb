{
 "cells": [
  {
   "cell_type": "markdown",
   "id": "b16f431d",
   "metadata": {},
   "source": [
    "### XGBOOST 라이브러리를 활용한 머신러닝 학습, 예측"
   ]
  },
  {
   "cell_type": "markdown",
   "id": "0842d894",
   "metadata": {},
   "source": [
    "### 데이터 준비 및 라이브러리 불러오기"
   ]
  },
  {
   "cell_type": "code",
   "execution_count": 1,
   "id": "874066c2",
   "metadata": {},
   "outputs": [],
   "source": [
    "import numpy as np\n",
    "import pandas as pd"
   ]
  },
  {
   "cell_type": "code",
   "execution_count": 8,
   "id": "6c855931",
   "metadata": {},
   "outputs": [],
   "source": [
    "# train 학습 데이터 셋 \n",
    "# train를 train_x 학습용 입력, train_y 학습용 출력(예측대상)\n",
    "# test_x 테스트 입력\n",
    "\n",
    "train = pd.read_csv('../input/sample-data/train_preprocessed.csv')\n",
    "train_x = train.drop(['target'], axis=1)\n",
    "train_y = train['target']\n",
    "test_x = pd.read_csv('../input/sample-data/test_preprocessed.csv')"
   ]
  },
  {
   "cell_type": "code",
   "execution_count": 14,
   "id": "5df8972b",
   "metadata": {},
   "outputs": [
    {
     "data": {
      "text/plain": [
       "Index(['age', 'sex', 'height', 'weight', 'product', 'amount',\n",
       "       'medical_info_a1', 'medical_info_a2', 'medical_info_a3',\n",
       "       'medical_info_b1', 'medical_info_b2', 'medical_info_b3',\n",
       "       'medical_info_c1', 'medical_info_c2', 'medical_keyword_1',\n",
       "       'medical_keyword_2', 'medical_keyword_3', 'medical_keyword_4',\n",
       "       'medical_keyword_5', 'medical_keyword_6', 'medical_keyword_7',\n",
       "       'medical_keyword_8', 'medical_keyword_9', 'medical_keyword_10', 'year',\n",
       "       'month', 'day', 'yearmonth', 'target'],\n",
       "      dtype='object')"
      ]
     },
     "execution_count": 14,
     "metadata": {},
     "output_type": "execute_result"
    }
   ],
   "source": [
    "train.columns"
   ]
  },
  {
   "cell_type": "code",
   "execution_count": 5,
   "id": "46dc5ec4",
   "metadata": {},
   "outputs": [
    {
     "data": {
      "text/html": [
       "<div>\n",
       "<style scoped>\n",
       "    .dataframe tbody tr th:only-of-type {\n",
       "        vertical-align: middle;\n",
       "    }\n",
       "\n",
       "    .dataframe tbody tr th {\n",
       "        vertical-align: top;\n",
       "    }\n",
       "\n",
       "    .dataframe thead th {\n",
       "        text-align: right;\n",
       "    }\n",
       "</style>\n",
       "<table border=\"1\" class=\"dataframe\">\n",
       "  <thead>\n",
       "    <tr style=\"text-align: right;\">\n",
       "      <th></th>\n",
       "      <th>age</th>\n",
       "      <th>sex</th>\n",
       "      <th>height</th>\n",
       "      <th>weight</th>\n",
       "      <th>product</th>\n",
       "      <th>amount</th>\n",
       "      <th>medical_info_a1</th>\n",
       "      <th>medical_info_a2</th>\n",
       "      <th>medical_info_a3</th>\n",
       "      <th>medical_info_b1</th>\n",
       "      <th>...</th>\n",
       "      <th>medical_keyword_5</th>\n",
       "      <th>medical_keyword_6</th>\n",
       "      <th>medical_keyword_7</th>\n",
       "      <th>medical_keyword_8</th>\n",
       "      <th>medical_keyword_9</th>\n",
       "      <th>medical_keyword_10</th>\n",
       "      <th>year</th>\n",
       "      <th>month</th>\n",
       "      <th>day</th>\n",
       "      <th>yearmonth</th>\n",
       "    </tr>\n",
       "  </thead>\n",
       "  <tbody>\n",
       "    <tr>\n",
       "      <th>0</th>\n",
       "      <td>50</td>\n",
       "      <td>1</td>\n",
       "      <td>166.445608</td>\n",
       "      <td>65.016732</td>\n",
       "      <td>9</td>\n",
       "      <td>7000000</td>\n",
       "      <td>134</td>\n",
       "      <td>202</td>\n",
       "      <td>1</td>\n",
       "      <td>11</td>\n",
       "      <td>...</td>\n",
       "      <td>0</td>\n",
       "      <td>1</td>\n",
       "      <td>0</td>\n",
       "      <td>1</td>\n",
       "      <td>0</td>\n",
       "      <td>0</td>\n",
       "      <td>2015</td>\n",
       "      <td>2</td>\n",
       "      <td>3</td>\n",
       "      <td>24182</td>\n",
       "    </tr>\n",
       "    <tr>\n",
       "      <th>1</th>\n",
       "      <td>68</td>\n",
       "      <td>0</td>\n",
       "      <td>164.334615</td>\n",
       "      <td>56.544217</td>\n",
       "      <td>0</td>\n",
       "      <td>7000000</td>\n",
       "      <td>438</td>\n",
       "      <td>263</td>\n",
       "      <td>3</td>\n",
       "      <td>14</td>\n",
       "      <td>...</td>\n",
       "      <td>0</td>\n",
       "      <td>0</td>\n",
       "      <td>1</td>\n",
       "      <td>1</td>\n",
       "      <td>0</td>\n",
       "      <td>0</td>\n",
       "      <td>2015</td>\n",
       "      <td>5</td>\n",
       "      <td>9</td>\n",
       "      <td>24185</td>\n",
       "    </tr>\n",
       "    <tr>\n",
       "      <th>2</th>\n",
       "      <td>77</td>\n",
       "      <td>1</td>\n",
       "      <td>167.462917</td>\n",
       "      <td>54.242267</td>\n",
       "      <td>2</td>\n",
       "      <td>6000000</td>\n",
       "      <td>313</td>\n",
       "      <td>325</td>\n",
       "      <td>1</td>\n",
       "      <td>18</td>\n",
       "      <td>...</td>\n",
       "      <td>0</td>\n",
       "      <td>1</td>\n",
       "      <td>0</td>\n",
       "      <td>1</td>\n",
       "      <td>0</td>\n",
       "      <td>0</td>\n",
       "      <td>2016</td>\n",
       "      <td>2</td>\n",
       "      <td>13</td>\n",
       "      <td>24194</td>\n",
       "    </tr>\n",
       "  </tbody>\n",
       "</table>\n",
       "<p>3 rows × 28 columns</p>\n",
       "</div>"
      ],
      "text/plain": [
       "   age  sex      height     weight  product   amount  medical_info_a1  \\\n",
       "0   50    1  166.445608  65.016732        9  7000000              134   \n",
       "1   68    0  164.334615  56.544217        0  7000000              438   \n",
       "2   77    1  167.462917  54.242267        2  6000000              313   \n",
       "\n",
       "   medical_info_a2  medical_info_a3  medical_info_b1  ...  medical_keyword_5  \\\n",
       "0              202                1               11  ...                  0   \n",
       "1              263                3               14  ...                  0   \n",
       "2              325                1               18  ...                  0   \n",
       "\n",
       "   medical_keyword_6  medical_keyword_7  medical_keyword_8  medical_keyword_9  \\\n",
       "0                  1                  0                  1                  0   \n",
       "1                  0                  1                  1                  0   \n",
       "2                  1                  0                  1                  0   \n",
       "\n",
       "   medical_keyword_10  year  month  day  yearmonth  \n",
       "0                   0  2015      2    3      24182  \n",
       "1                   0  2015      5    9      24185  \n",
       "2                   0  2016      2   13      24194  \n",
       "\n",
       "[3 rows x 28 columns]"
      ]
     },
     "execution_count": 5,
     "metadata": {},
     "output_type": "execute_result"
    }
   ],
   "source": [
    "train_x.head(3)"
   ]
  },
  {
   "cell_type": "code",
   "execution_count": 7,
   "id": "c107dd0d",
   "metadata": {},
   "outputs": [
    {
     "data": {
      "text/plain": [
       "0    0\n",
       "1    0\n",
       "2    1\n",
       "Name: target, dtype: int64"
      ]
     },
     "execution_count": 7,
     "metadata": {},
     "output_type": "execute_result"
    }
   ],
   "source": [
    "train_y.head(3)"
   ]
  },
  {
   "cell_type": "code",
   "execution_count": 6,
   "id": "cbd66c10",
   "metadata": {},
   "outputs": [
    {
     "data": {
      "text/html": [
       "<div>\n",
       "<style scoped>\n",
       "    .dataframe tbody tr th:only-of-type {\n",
       "        vertical-align: middle;\n",
       "    }\n",
       "\n",
       "    .dataframe tbody tr th {\n",
       "        vertical-align: top;\n",
       "    }\n",
       "\n",
       "    .dataframe thead th {\n",
       "        text-align: right;\n",
       "    }\n",
       "</style>\n",
       "<table border=\"1\" class=\"dataframe\">\n",
       "  <thead>\n",
       "    <tr style=\"text-align: right;\">\n",
       "      <th></th>\n",
       "      <th>age</th>\n",
       "      <th>sex</th>\n",
       "      <th>height</th>\n",
       "      <th>weight</th>\n",
       "      <th>product</th>\n",
       "      <th>amount</th>\n",
       "      <th>medical_info_a1</th>\n",
       "      <th>medical_info_a2</th>\n",
       "      <th>medical_info_a3</th>\n",
       "      <th>medical_info_b1</th>\n",
       "      <th>...</th>\n",
       "      <th>medical_keyword_5</th>\n",
       "      <th>medical_keyword_6</th>\n",
       "      <th>medical_keyword_7</th>\n",
       "      <th>medical_keyword_8</th>\n",
       "      <th>medical_keyword_9</th>\n",
       "      <th>medical_keyword_10</th>\n",
       "      <th>year</th>\n",
       "      <th>month</th>\n",
       "      <th>day</th>\n",
       "      <th>yearmonth</th>\n",
       "    </tr>\n",
       "  </thead>\n",
       "  <tbody>\n",
       "    <tr>\n",
       "      <th>0</th>\n",
       "      <td>49</td>\n",
       "      <td>1</td>\n",
       "      <td>187.431987</td>\n",
       "      <td>81.008363</td>\n",
       "      <td>1</td>\n",
       "      <td>1000000</td>\n",
       "      <td>302</td>\n",
       "      <td>212</td>\n",
       "      <td>1</td>\n",
       "      <td>10</td>\n",
       "      <td>...</td>\n",
       "      <td>0</td>\n",
       "      <td>1</td>\n",
       "      <td>0</td>\n",
       "      <td>1</td>\n",
       "      <td>0</td>\n",
       "      <td>0</td>\n",
       "      <td>2016</td>\n",
       "      <td>12</td>\n",
       "      <td>6</td>\n",
       "      <td>24204</td>\n",
       "    </tr>\n",
       "    <tr>\n",
       "      <th>1</th>\n",
       "      <td>79</td>\n",
       "      <td>1</td>\n",
       "      <td>171.632630</td>\n",
       "      <td>71.067812</td>\n",
       "      <td>6</td>\n",
       "      <td>2000</td>\n",
       "      <td>197</td>\n",
       "      <td>469</td>\n",
       "      <td>0</td>\n",
       "      <td>14</td>\n",
       "      <td>...</td>\n",
       "      <td>0</td>\n",
       "      <td>0</td>\n",
       "      <td>0</td>\n",
       "      <td>0</td>\n",
       "      <td>1</td>\n",
       "      <td>1</td>\n",
       "      <td>2016</td>\n",
       "      <td>9</td>\n",
       "      <td>3</td>\n",
       "      <td>24201</td>\n",
       "    </tr>\n",
       "    <tr>\n",
       "      <th>2</th>\n",
       "      <td>78</td>\n",
       "      <td>0</td>\n",
       "      <td>163.543983</td>\n",
       "      <td>64.032098</td>\n",
       "      <td>0</td>\n",
       "      <td>4000000</td>\n",
       "      <td>247</td>\n",
       "      <td>225</td>\n",
       "      <td>2</td>\n",
       "      <td>17</td>\n",
       "      <td>...</td>\n",
       "      <td>0</td>\n",
       "      <td>1</td>\n",
       "      <td>0</td>\n",
       "      <td>1</td>\n",
       "      <td>0</td>\n",
       "      <td>0</td>\n",
       "      <td>2015</td>\n",
       "      <td>4</td>\n",
       "      <td>10</td>\n",
       "      <td>24184</td>\n",
       "    </tr>\n",
       "  </tbody>\n",
       "</table>\n",
       "<p>3 rows × 28 columns</p>\n",
       "</div>"
      ],
      "text/plain": [
       "   age  sex      height     weight  product   amount  medical_info_a1  \\\n",
       "0   49    1  187.431987  81.008363        1  1000000              302   \n",
       "1   79    1  171.632630  71.067812        6     2000              197   \n",
       "2   78    0  163.543983  64.032098        0  4000000              247   \n",
       "\n",
       "   medical_info_a2  medical_info_a3  medical_info_b1  ...  medical_keyword_5  \\\n",
       "0              212                1               10  ...                  0   \n",
       "1              469                0               14  ...                  0   \n",
       "2              225                2               17  ...                  0   \n",
       "\n",
       "   medical_keyword_6  medical_keyword_7  medical_keyword_8  medical_keyword_9  \\\n",
       "0                  1                  0                  1                  0   \n",
       "1                  0                  0                  0                  1   \n",
       "2                  1                  0                  1                  0   \n",
       "\n",
       "   medical_keyword_10  year  month  day  yearmonth  \n",
       "0                   0  2016     12    6      24204  \n",
       "1                   1  2016      9    3      24201  \n",
       "2                   0  2015      4   10      24184  \n",
       "\n",
       "[3 rows x 28 columns]"
      ]
     },
     "execution_count": 6,
     "metadata": {},
     "output_type": "execute_result"
    }
   ],
   "source": [
    "test_x.head(3)"
   ]
  },
  {
   "cell_type": "markdown",
   "id": "107d6ec4",
   "metadata": {},
   "source": [
    "### Model 클래스 "
   ]
  },
  {
   "cell_type": "markdown",
   "id": "cf25adfd",
   "metadata": {},
   "source": [
    "* XGBoost 라이브러리를 사용하여 분류 모델을 구현한 클래스\n",
    "* Model의 생성자, 학습메서드, 예측 메서드 정의"
   ]
  },
  {
   "cell_type": "code",
   "execution_count": 9,
   "id": "ce7d1c4b",
   "metadata": {},
   "outputs": [],
   "source": [
    "import xgboost as xgb\n",
    "\n",
    "class Model:\n",
    "\n",
    "    def __init__(self, params=None):\n",
    "        self.model = None\n",
    "        if params is None:\n",
    "            self.params = {}\n",
    "        else:\n",
    "            self.params = params\n",
    "\n",
    "    def fit(self, tr_x, tr_y):\n",
    "        # params = {'objective': 'binary:logistic', 'silent': 1, 'random_state': 71}\n",
    "        params = {'objective': 'binary:logistic', 'verbosity': 0, 'random_state': 71}\n",
    "        params.update(self.params)\n",
    "        num_round = 10\n",
    "        dtrain = xgb.DMatrix(tr_x, label=tr_y)\n",
    "        self.model = xgb.train(params, dtrain, num_round)\n",
    "\n",
    "    def predict(self, x):\n",
    "        data = xgb.DMatrix(x)\n",
    "        pred = self.model.predict(data)\n",
    "        return pred"
   ]
  },
  {
   "cell_type": "markdown",
   "id": "49adaa73",
   "metadata": {},
   "source": [
    "### 모델 생성, 학습, 예측"
   ]
  },
  {
   "cell_type": "code",
   "execution_count": 11,
   "id": "3e62957c",
   "metadata": {},
   "outputs": [
    {
     "data": {
      "text/plain": [
       "array([0.36924043, 0.14066012, 0.09131076, 0.05323898, 0.04907488,\n",
       "       0.32397205, 0.47429284, 0.53221506, 0.48663282, 0.18739568],\n",
       "      dtype=float32)"
      ]
     },
     "execution_count": 11,
     "metadata": {},
     "output_type": "execute_result"
    }
   ],
   "source": [
    "# 모델의 하이퍼파라미터를 지정\n",
    "params = {'param1': 10, 'param2': 100}\n",
    "\n",
    "# Model 클래스를 정의\n",
    "# Model 클래스는 fit로 학습하고 predict로 예측값 확률을 출력\n",
    "\n",
    "# 모델 정의\n",
    "model = Model(params)\n",
    "\n",
    "# 학습 데이터로 모델 학습\n",
    "model.fit(train_x, train_y)\n",
    "\n",
    "# 테스트 데이터에 대해 예측 결과를 출력\n",
    "pred = model.predict(test_x)\n",
    "pred[0:10]"
   ]
  },
  {
   "cell_type": "markdown",
   "id": "4f48cea1",
   "metadata": {},
   "source": [
    "### 모델 예측 및 검증"
   ]
  },
  {
   "cell_type": "code",
   "execution_count": 12,
   "id": "faf39f09",
   "metadata": {},
   "outputs": [
    {
     "name": "stdout",
     "output_type": "stream",
     "text": [
      "logloss: 0.3009\n"
     ]
    }
   ],
   "source": [
    "# -----------------------------------\n",
    "# 검증\n",
    "# -----------------------------------\n",
    "from sklearn.metrics import log_loss\n",
    "from sklearn.model_selection import KFold\n",
    "\n",
    "# 학습 데이터 검증 데이터를 나누는 인덱스를 작성\n",
    "# 학습 데이터를 4개로 나누고 그중 하나를 검증 데이터로 지정\n",
    "kf = KFold(n_splits=4, shuffle=True, random_state=71)\n",
    "tr_idx, va_idx = list(kf.split(train_x))[0]\n",
    "\n",
    "# 학습 데이터와 검증 데이터로 구분\n",
    "tr_x, va_x = train_x.iloc[tr_idx], train_x.iloc[va_idx]\n",
    "tr_y, va_y = train_y.iloc[tr_idx], train_y.iloc[va_idx]\n",
    "\n",
    "# 모델 정의\n",
    "model = Model(params)\n",
    "\n",
    "# 학습 데이터에 이용하여 모델의 학습 수행\n",
    "# 모델에 따라서는 검증 데이터를 동시에 제공하여 점수 모니터링\n",
    "model.fit(tr_x, tr_y)\n",
    "\n",
    "# 검증 데이터에 대해 예측하고 평가 수행\n",
    "va_pred = model.predict(va_x)\n",
    "score = log_loss(va_y, va_pred)\n",
    "print(f'logloss: {score:.4f}')"
   ]
  },
  {
   "cell_type": "markdown",
   "id": "3dcc2db4",
   "metadata": {},
   "source": [
    "### 교차 검증(crossvalidation)"
   ]
  },
  {
   "cell_type": "code",
   "execution_count": 13,
   "id": "c28019eb",
   "metadata": {},
   "outputs": [
    {
     "name": "stdout",
     "output_type": "stream",
     "text": [
      "logloss: 0.2967\n"
     ]
    }
   ],
   "source": [
    "# -----------------------------------\n",
    "# 교차 검증(crossvalidation)\n",
    "# -----------------------------------\n",
    "from sklearn.metrics import log_loss\n",
    "from sklearn.model_selection import KFold\n",
    "\n",
    "# 학습 데이터를 4개로 나누고 그 중 1개를 검증 데이터로 지정\n",
    "# 분할한 검증 데이터를 바꾸어가며 학습 및 평가를 4회 실시\n",
    "scores = []\n",
    "kf = KFold(n_splits=4, shuffle=True, random_state=71)\n",
    "\n",
    "for tr_idx, va_idx in kf.split(train_x):\n",
    "    tr_x, va_x = train_x.iloc[tr_idx], train_x.iloc[va_idx]\n",
    "    tr_y, va_y = train_y.iloc[tr_idx], train_y.iloc[va_idx]\n",
    "    model = Model(params)\n",
    "    model.fit(tr_x, tr_y)\n",
    "    va_pred = model.predict(va_x)\n",
    "    score = log_loss(va_y, va_pred)\n",
    "    scores.append(score)\n",
    "\n",
    "# 교차 검증의 평균 점수를 출력\n",
    "print(f'logloss: {np.mean(scores):.4f}')"
   ]
  }
 ],
 "metadata": {
  "kernelspec": {
   "display_name": "Python 3 (ipykernel)",
   "language": "python",
   "name": "python3"
  },
  "language_info": {
   "codemirror_mode": {
    "name": "ipython",
    "version": 3
   },
   "file_extension": ".py",
   "mimetype": "text/x-python",
   "name": "python",
   "nbconvert_exporter": "python",
   "pygments_lexer": "ipython3",
   "version": "3.9.13"
  }
 },
 "nbformat": 4,
 "nbformat_minor": 5
}
