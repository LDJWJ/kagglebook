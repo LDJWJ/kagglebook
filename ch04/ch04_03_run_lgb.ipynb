{
 "cells": [
  {
   "cell_type": "markdown",
   "id": "558d97fe",
   "metadata": {},
   "source": [
    "### LightGBM 라이브러리를 활용한 머신러닝 학습, 예측"
   ]
  },
  {
   "cell_type": "markdown",
   "id": "3c25939e",
   "metadata": {},
   "source": [
    "* LightGBM은 Microsoft에서 개발한 Gradient Boosting 프레임워크로, 대용량 데이터셋에 대한 고속 및 고성능 학습이 가능"
   ]
  },
  {
   "cell_type": "markdown",
   "id": "46db0b4e",
   "metadata": {},
   "source": [
    "### 데이터 불러오기 및 라이브러리 준비"
   ]
  },
  {
   "cell_type": "code",
   "execution_count": 1,
   "id": "a6d0a23c",
   "metadata": {},
   "outputs": [],
   "source": [
    "import numpy as np\n",
    "import pandas as pd\n",
    "\n",
    "# train_x는 학습 데이터, train_y는 목적 변수, test_x는 테스트 데이터\n",
    "# pandas의 DataFrame, Series로 유지합니다.(numpy의 array로 유지하기도 합니다)\n",
    "\n",
    "train = pd.read_csv('../input/sample-data/train_preprocessed.csv')\n",
    "train_x = train.drop(['target'], axis=1)\n",
    "train_y = train['target']\n",
    "test_x = pd.read_csv('../input/sample-data/test_preprocessed.csv')\n",
    "\n",
    "# 학습 데이터를 학습 데이터와 밸리데이션 데이터로 나눕니다.\n",
    "from sklearn.model_selection import KFold\n",
    "\n",
    "kf = KFold(n_splits=4, shuffle=True, random_state=71)\n",
    "tr_idx, va_idx = list(kf.split(train_x))[0]\n",
    "tr_x, va_x = train_x.iloc[tr_idx], train_x.iloc[va_idx]\n",
    "tr_y, va_y = train_y.iloc[tr_idx], train_y.iloc[va_idx]"
   ]
  },
  {
   "cell_type": "code",
   "execution_count": 2,
   "id": "029207cc",
   "metadata": {},
   "outputs": [
    {
     "data": {
      "text/plain": [
       "((7500, 28), (7500,), (2500, 28), (2500,))"
      ]
     },
     "execution_count": 2,
     "metadata": {},
     "output_type": "execute_result"
    }
   ],
   "source": [
    "tr_x.shape, tr_y.shape, va_x.shape, va_y.shape"
   ]
  },
  {
   "cell_type": "markdown",
   "id": "cffc99f3",
   "metadata": {},
   "source": [
    "### LightGBM을 활용한 이진 분류 모델의 구현"
   ]
  },
  {
   "cell_type": "code",
   "execution_count": 4,
   "id": "f18ec3da",
   "metadata": {},
   "outputs": [
    {
     "name": "stderr",
     "output_type": "stream",
     "text": [
      "C:\\Users\\daniel_wj\\anaconda3\\lib\\site-packages\\lightgbm\\basic.py:2068: UserWarning: categorical_feature in Dataset is overridden.\n",
      "New categorical_feature is ['medical_info_b2', 'medical_info_b3', 'product']\n",
      "  _log_warning('categorical_feature in Dataset is overridden.\\n'\n",
      "C:\\Users\\daniel_wj\\anaconda3\\lib\\site-packages\\lightgbm\\basic.py:1780: UserWarning: Overriding the parameters from Reference Dataset.\n",
      "  _log_warning('Overriding the parameters from Reference Dataset.')\n",
      "C:\\Users\\daniel_wj\\anaconda3\\lib\\site-packages\\lightgbm\\basic.py:1513: UserWarning: categorical_column in param dict is overridden.\n",
      "  _log_warning(f'{cat_alias} in param dict is overridden.')\n"
     ]
    },
    {
     "name": "stdout",
     "output_type": "stream",
     "text": [
      "[LightGBM] [Warning] Auto-choosing row-wise multi-threading, the overhead of testing was 0.000936 seconds.\n",
      "You can set `force_row_wise=true` to remove the overhead.\n",
      "And if memory is not enough, you can set `force_col_wise=true`.\n",
      "[1]\ttrain's binary_logloss: 0.454286\tvalid's binary_logloss: 0.4654\n",
      "[2]\ttrain's binary_logloss: 0.429348\tvalid's binary_logloss: 0.443537\n",
      "[3]\ttrain's binary_logloss: 0.409269\tvalid's binary_logloss: 0.425588\n",
      "[4]\ttrain's binary_logloss: 0.393109\tvalid's binary_logloss: 0.411213\n",
      "[5]\ttrain's binary_logloss: 0.379351\tvalid's binary_logloss: 0.399341\n",
      "[6]\ttrain's binary_logloss: 0.366138\tvalid's binary_logloss: 0.389055\n",
      "[7]\ttrain's binary_logloss: 0.35417\tvalid's binary_logloss: 0.378254\n",
      "[8]\ttrain's binary_logloss: 0.343782\tvalid's binary_logloss: 0.370131\n",
      "[9]\ttrain's binary_logloss: 0.334283\tvalid's binary_logloss: 0.362036\n",
      "[10]\ttrain's binary_logloss: 0.324802\tvalid's binary_logloss: 0.353452\n",
      "[11]\ttrain's binary_logloss: 0.316592\tvalid's binary_logloss: 0.346904\n",
      "[12]\ttrain's binary_logloss: 0.308484\tvalid's binary_logloss: 0.340248\n",
      "[13]\ttrain's binary_logloss: 0.301468\tvalid's binary_logloss: 0.335801\n",
      "[14]\ttrain's binary_logloss: 0.294674\tvalid's binary_logloss: 0.330487\n",
      "[15]\ttrain's binary_logloss: 0.288251\tvalid's binary_logloss: 0.325634\n",
      "[16]\ttrain's binary_logloss: 0.282225\tvalid's binary_logloss: 0.321448\n",
      "[17]\ttrain's binary_logloss: 0.277045\tvalid's binary_logloss: 0.318027\n",
      "[18]\ttrain's binary_logloss: 0.271694\tvalid's binary_logloss: 0.31501\n",
      "[19]\ttrain's binary_logloss: 0.265931\tvalid's binary_logloss: 0.311018\n",
      "[20]\ttrain's binary_logloss: 0.261148\tvalid's binary_logloss: 0.307548\n",
      "[21]\ttrain's binary_logloss: 0.255397\tvalid's binary_logloss: 0.30346\n",
      "[22]\ttrain's binary_logloss: 0.25054\tvalid's binary_logloss: 0.299063\n",
      "[23]\ttrain's binary_logloss: 0.245472\tvalid's binary_logloss: 0.295614\n",
      "[24]\ttrain's binary_logloss: 0.241049\tvalid's binary_logloss: 0.292596\n",
      "[25]\ttrain's binary_logloss: 0.237346\tvalid's binary_logloss: 0.289802\n",
      "[26]\ttrain's binary_logloss: 0.233644\tvalid's binary_logloss: 0.287015\n",
      "[27]\ttrain's binary_logloss: 0.229771\tvalid's binary_logloss: 0.285147\n",
      "[28]\ttrain's binary_logloss: 0.225304\tvalid's binary_logloss: 0.281868\n",
      "[29]\ttrain's binary_logloss: 0.221761\tvalid's binary_logloss: 0.279715\n",
      "[30]\ttrain's binary_logloss: 0.218152\tvalid's binary_logloss: 0.276755\n",
      "[31]\ttrain's binary_logloss: 0.214731\tvalid's binary_logloss: 0.274906\n",
      "[32]\ttrain's binary_logloss: 0.21187\tvalid's binary_logloss: 0.273533\n",
      "[33]\ttrain's binary_logloss: 0.208913\tvalid's binary_logloss: 0.271975\n",
      "[34]\ttrain's binary_logloss: 0.205932\tvalid's binary_logloss: 0.269754\n",
      "[35]\ttrain's binary_logloss: 0.20259\tvalid's binary_logloss: 0.267191\n",
      "[36]\ttrain's binary_logloss: 0.199625\tvalid's binary_logloss: 0.265015\n",
      "[37]\ttrain's binary_logloss: 0.197027\tvalid's binary_logloss: 0.264288\n",
      "[38]\ttrain's binary_logloss: 0.193946\tvalid's binary_logloss: 0.263265\n",
      "[39]\ttrain's binary_logloss: 0.191536\tvalid's binary_logloss: 0.262294\n",
      "[40]\ttrain's binary_logloss: 0.188342\tvalid's binary_logloss: 0.259765\n",
      "[41]\ttrain's binary_logloss: 0.185896\tvalid's binary_logloss: 0.257982\n",
      "[42]\ttrain's binary_logloss: 0.183334\tvalid's binary_logloss: 0.257238\n",
      "[43]\ttrain's binary_logloss: 0.181354\tvalid's binary_logloss: 0.256282\n",
      "[44]\ttrain's binary_logloss: 0.17922\tvalid's binary_logloss: 0.255055\n",
      "[45]\ttrain's binary_logloss: 0.176956\tvalid's binary_logloss: 0.253577\n",
      "[46]\ttrain's binary_logloss: 0.174588\tvalid's binary_logloss: 0.252098\n",
      "[47]\ttrain's binary_logloss: 0.172249\tvalid's binary_logloss: 0.250808\n",
      "[48]\ttrain's binary_logloss: 0.169526\tvalid's binary_logloss: 0.249644\n",
      "[49]\ttrain's binary_logloss: 0.167526\tvalid's binary_logloss: 0.24889\n",
      "[50]\ttrain's binary_logloss: 0.16545\tvalid's binary_logloss: 0.24807\n",
      "[51]\ttrain's binary_logloss: 0.162881\tvalid's binary_logloss: 0.245714\n",
      "[52]\ttrain's binary_logloss: 0.160862\tvalid's binary_logloss: 0.24506\n",
      "[53]\ttrain's binary_logloss: 0.158953\tvalid's binary_logloss: 0.244376\n",
      "[54]\ttrain's binary_logloss: 0.15685\tvalid's binary_logloss: 0.242814\n",
      "[55]\ttrain's binary_logloss: 0.155006\tvalid's binary_logloss: 0.241794\n",
      "[56]\ttrain's binary_logloss: 0.152759\tvalid's binary_logloss: 0.240173\n",
      "[57]\ttrain's binary_logloss: 0.150735\tvalid's binary_logloss: 0.239338\n",
      "[58]\ttrain's binary_logloss: 0.149108\tvalid's binary_logloss: 0.238941\n",
      "[59]\ttrain's binary_logloss: 0.147209\tvalid's binary_logloss: 0.238182\n",
      "[60]\ttrain's binary_logloss: 0.145662\tvalid's binary_logloss: 0.237785\n",
      "[61]\ttrain's binary_logloss: 0.143415\tvalid's binary_logloss: 0.236284\n",
      "[62]\ttrain's binary_logloss: 0.141762\tvalid's binary_logloss: 0.23558\n",
      "[63]\ttrain's binary_logloss: 0.140409\tvalid's binary_logloss: 0.235289\n",
      "[64]\ttrain's binary_logloss: 0.138893\tvalid's binary_logloss: 0.234525\n",
      "[65]\ttrain's binary_logloss: 0.137423\tvalid's binary_logloss: 0.234159\n",
      "[66]\ttrain's binary_logloss: 0.13595\tvalid's binary_logloss: 0.233513\n",
      "[67]\ttrain's binary_logloss: 0.134412\tvalid's binary_logloss: 0.232994\n",
      "[68]\ttrain's binary_logloss: 0.132967\tvalid's binary_logloss: 0.232634\n",
      "[69]\ttrain's binary_logloss: 0.131473\tvalid's binary_logloss: 0.231926\n",
      "[70]\ttrain's binary_logloss: 0.129883\tvalid's binary_logloss: 0.230888\n",
      "[71]\ttrain's binary_logloss: 0.128601\tvalid's binary_logloss: 0.230392\n",
      "[72]\ttrain's binary_logloss: 0.126664\tvalid's binary_logloss: 0.229085\n",
      "[73]\ttrain's binary_logloss: 0.125221\tvalid's binary_logloss: 0.228812\n",
      "[74]\ttrain's binary_logloss: 0.123835\tvalid's binary_logloss: 0.228386\n",
      "[75]\ttrain's binary_logloss: 0.122624\tvalid's binary_logloss: 0.227671\n",
      "[76]\ttrain's binary_logloss: 0.121111\tvalid's binary_logloss: 0.226936\n",
      "[77]\ttrain's binary_logloss: 0.119972\tvalid's binary_logloss: 0.226386\n",
      "[78]\ttrain's binary_logloss: 0.118846\tvalid's binary_logloss: 0.226546\n",
      "[79]\ttrain's binary_logloss: 0.117853\tvalid's binary_logloss: 0.226293\n",
      "[80]\ttrain's binary_logloss: 0.116445\tvalid's binary_logloss: 0.225336\n",
      "[81]\ttrain's binary_logloss: 0.114972\tvalid's binary_logloss: 0.224775\n",
      "[82]\ttrain's binary_logloss: 0.113891\tvalid's binary_logloss: 0.224523\n",
      "[83]\ttrain's binary_logloss: 0.112694\tvalid's binary_logloss: 0.224459\n",
      "[84]\ttrain's binary_logloss: 0.111511\tvalid's binary_logloss: 0.223836\n",
      "[85]\ttrain's binary_logloss: 0.110331\tvalid's binary_logloss: 0.223431\n",
      "[86]\ttrain's binary_logloss: 0.108975\tvalid's binary_logloss: 0.222701\n",
      "[87]\ttrain's binary_logloss: 0.107753\tvalid's binary_logloss: 0.221952\n",
      "[88]\ttrain's binary_logloss: 0.106266\tvalid's binary_logloss: 0.220822\n",
      "[89]\ttrain's binary_logloss: 0.105333\tvalid's binary_logloss: 0.220196\n",
      "[90]\ttrain's binary_logloss: 0.104252\tvalid's binary_logloss: 0.21966\n",
      "[91]\ttrain's binary_logloss: 0.103194\tvalid's binary_logloss: 0.219586\n",
      "[92]\ttrain's binary_logloss: 0.102277\tvalid's binary_logloss: 0.2194\n",
      "[93]\ttrain's binary_logloss: 0.101037\tvalid's binary_logloss: 0.218694\n",
      "[94]\ttrain's binary_logloss: 0.100107\tvalid's binary_logloss: 0.219007\n",
      "[95]\ttrain's binary_logloss: 0.0991938\tvalid's binary_logloss: 0.218588\n",
      "[96]\ttrain's binary_logloss: 0.0980778\tvalid's binary_logloss: 0.217905\n",
      "[97]\ttrain's binary_logloss: 0.0971554\tvalid's binary_logloss: 0.217729\n",
      "[98]\ttrain's binary_logloss: 0.0961875\tvalid's binary_logloss: 0.21756\n",
      "[99]\ttrain's binary_logloss: 0.0953092\tvalid's binary_logloss: 0.217168\n",
      "[100]\ttrain's binary_logloss: 0.0942369\tvalid's binary_logloss: 0.216144\n"
     ]
    }
   ],
   "source": [
    "# -----------------------------------\n",
    "# lightgbm의 구현\n",
    "# -----------------------------------\n",
    "import lightgbm as lgb\n",
    "from sklearn.metrics import log_loss\n",
    "\n",
    "# 특징과 목적변수를 lightgbm의 데이터 구조로 변환\n",
    "lgb_train = lgb.Dataset(tr_x, tr_y)\n",
    "lgb_eval = lgb.Dataset(va_x, va_y)\n",
    "\n",
    "# 하이퍼파라미터 설정\n",
    "params = {'objective': 'binary', 'seed': 71, \n",
    "          'verbose': 0, 'metrics': 'binary_logloss'}\n",
    "num_round = 100\n",
    "\n",
    "# 학습 실행\n",
    "# 범주형 변수를 지정\n",
    "# 검증 데이터도 추가 지정하여 학습 진행과 함께 점수가 어떻게 달라지는지 모니터링\n",
    "categorical_features = ['product', 'medical_info_b2', 'medical_info_b3']\n",
    "model = lgb.train(params, lgb_train, num_boost_round=num_round,\n",
    "                  categorical_feature=categorical_features,\n",
    "                  valid_names=['train', 'valid'], valid_sets=[lgb_train, lgb_eval])"
   ]
  },
  {
   "cell_type": "code",
   "execution_count": 6,
   "id": "ce23dd11",
   "metadata": {},
   "outputs": [
    {
     "name": "stdout",
     "output_type": "stream",
     "text": [
      "logloss: 0.2161\n"
     ]
    },
    {
     "data": {
      "text/plain": [
       "array([0.24319712, 0.04309432, 0.0089008 , 0.00154677, 0.00283472,\n",
       "       0.22837672, 0.52074278, 0.70167458, 0.67261649, 0.1007279 ])"
      ]
     },
     "execution_count": 6,
     "metadata": {},
     "output_type": "execute_result"
    }
   ],
   "source": [
    "# 검증 데이터에서의 점수 확인\n",
    "va_pred = model.predict(va_x)\n",
    "score = log_loss(va_y, va_pred)\n",
    "print(f'logloss: {score:.4f}')\n",
    "\n",
    "# 예측\n",
    "pred = model.predict(test_x)\n",
    "pred[0:10]"
   ]
  }
 ],
 "metadata": {
  "kernelspec": {
   "display_name": "Python 3 (ipykernel)",
   "language": "python",
   "name": "python3"
  },
  "language_info": {
   "codemirror_mode": {
    "name": "ipython",
    "version": 3
   },
   "file_extension": ".py",
   "mimetype": "text/x-python",
   "name": "python",
   "nbconvert_exporter": "python",
   "pygments_lexer": "ipython3",
   "version": "3.9.13"
  }
 },
 "nbformat": 4,
 "nbformat_minor": 5
}
