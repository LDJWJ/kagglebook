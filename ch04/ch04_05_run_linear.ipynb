{
 "cells": [
  {
   "cell_type": "markdown",
   "id": "ec539484",
   "metadata": {},
   "source": [
    "### 선형 모델을 활용한 이진 분류"
   ]
  },
  {
   "cell_type": "markdown",
   "id": "e5ee2708",
   "metadata": {},
   "source": [
    "### 학습 내용\n",
    " * 데이터 및 라이브러리의 사전 준비\n",
    " * 선형 모델의 구현 \n",
    " * 선형 모델의 학습 및 예측, 평가"
   ]
  },
  {
   "cell_type": "markdown",
   "id": "aa413c20",
   "metadata": {},
   "source": [
    "### 데이터 및 라이브러리 사전 준비"
   ]
  },
  {
   "cell_type": "code",
   "execution_count": 1,
   "id": "f39a106a",
   "metadata": {},
   "outputs": [],
   "source": [
    "import numpy as np\n",
    "import pandas as pd\n",
    "\n",
    "# train_x는 학습 데이터, train_y는 목적 변수, test_x는 테스트 데이터\n",
    "# pandas의 DataFrame, Series로 유지합니다.(numpy의 array로 유지하기도 합니다)\n",
    "# one-hot encoding된 것을 읽어오기\n",
    "\n",
    "train = pd.read_csv('../input/sample-data/train_preprocessed_onehot.csv')\n",
    "train_x = train.drop(['target'], axis=1)\n",
    "train_y = train['target']\n",
    "test_x = pd.read_csv('../input/sample-data/test_preprocessed_onehot.csv')"
   ]
  },
  {
   "cell_type": "code",
   "execution_count": 2,
   "id": "877f5df1",
   "metadata": {},
   "outputs": [
    {
     "data": {
      "text/plain": [
       "((10000, 59), (10000,), (10000, 59))"
      ]
     },
     "execution_count": 2,
     "metadata": {},
     "output_type": "execute_result"
    }
   ],
   "source": [
    "train_x.shape, train_y.shape, test_x.shape"
   ]
  },
  {
   "cell_type": "markdown",
   "id": "2107a2cb",
   "metadata": {},
   "source": [
    "### 학습 데이터와 검증 데이터 나누기"
   ]
  },
  {
   "cell_type": "code",
   "execution_count": 3,
   "id": "90dc9e0f",
   "metadata": {},
   "outputs": [
    {
     "data": {
      "text/plain": [
       "((7500, 59), (2500, 59), (7500,), (2500,))"
      ]
     },
     "execution_count": 3,
     "metadata": {},
     "output_type": "execute_result"
    }
   ],
   "source": [
    "# 학습 데이터를 학습 데이터와 검증 데이터로 나눕니다.\n",
    "from sklearn.model_selection import KFold\n",
    "\n",
    "kf = KFold(n_splits=4, shuffle=True, random_state=71)\n",
    "tr_idx, va_idx = list(kf.split(train_x))[0]\n",
    "tr_x, va_x = train_x.iloc[tr_idx], train_x.iloc[va_idx]\n",
    "tr_y, va_y = train_y.iloc[tr_idx], train_y.iloc[va_idx]\n",
    "\n",
    "tr_x.shape, va_x.shape, tr_y.shape, va_y.shape"
   ]
  },
  {
   "cell_type": "markdown",
   "id": "fb10aa96",
   "metadata": {},
   "source": [
    "### 선형 모델의 구현 및 예측, 평가"
   ]
  },
  {
   "cell_type": "code",
   "execution_count": 4,
   "id": "be6f5594",
   "metadata": {},
   "outputs": [
    {
     "name": "stdout",
     "output_type": "stream",
     "text": [
      "logloss: 0.3720\n"
     ]
    }
   ],
   "source": [
    "# -----------------------------------\n",
    "# 선형 모델의 구현\n",
    "# -----------------------------------\n",
    "from sklearn.linear_model import LogisticRegression\n",
    "from sklearn.metrics import log_loss\n",
    "from sklearn.preprocessing import StandardScaler\n",
    "\n",
    "# 데이터의 스케일링\n",
    "scaler = StandardScaler()\n",
    "tr_x = scaler.fit_transform(tr_x)\n",
    "va_x = scaler.transform(va_x)\n",
    "test_x = scaler.transform(test_x)\n",
    "\n",
    "# 선형 모델의 구축 및 학습\n",
    "model = LogisticRegression(C=1.0)\n",
    "model.fit(tr_x, tr_y)\n",
    "\n",
    "# 평가 데이터의 점수 확인\n",
    "# predict_proba로 확률 출력이 가능(predict에서는 두 값의 예측값(0,1)을 출력)\n",
    "va_pred = model.predict_proba(va_x)\n",
    "score = log_loss(va_y, va_pred)\n",
    "print(f'logloss: {score:.4f}')\n",
    "\n",
    "# 예측\n",
    "pred = model.predict(test_x)\n",
    "# print(pred)"
   ]
  }
 ],
 "metadata": {
  "kernelspec": {
   "display_name": "Python 3 (ipykernel)",
   "language": "python",
   "name": "python3"
  },
  "language_info": {
   "codemirror_mode": {
    "name": "ipython",
    "version": 3
   },
   "file_extension": ".py",
   "mimetype": "text/x-python",
   "name": "python",
   "nbconvert_exporter": "python",
   "pygments_lexer": "ipython3",
   "version": "3.9.13"
  }
 },
 "nbformat": 4,
 "nbformat_minor": 5
}
