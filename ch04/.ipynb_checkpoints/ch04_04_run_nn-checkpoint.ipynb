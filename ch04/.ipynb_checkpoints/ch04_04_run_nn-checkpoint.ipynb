{
 "cells": [
  {
   "cell_type": "markdown",
   "id": "ddf34e21",
   "metadata": {},
   "source": [
    "### 신경망 모델을 활용한 이진 분류"
   ]
  },
  {
   "cell_type": "markdown",
   "id": "42efe091",
   "metadata": {},
   "source": [
    "### 학습 내용 \n",
    " * 데이터의 사전 준비\n",
    " * 신경망 모델의 구현\n",
    " * 신경망 모델의 학습\n",
    " * Early Stopping을 적용한 신경망 모델의 학습"
   ]
  },
  {
   "cell_type": "code",
   "execution_count": 1,
   "id": "7a9625b7",
   "metadata": {},
   "outputs": [],
   "source": [
    "import numpy as np\n",
    "import pandas as pd\n",
    "\n",
    "# train_x는 학습 데이터, train_y는 목적 변수, test_x는 테스트 데이터\n",
    "# pandas의 DataFrame, Series로 유지합니다.(numpy의 array로 유지하기도 합니다)\n",
    "# one-hot encoding된 것을 읽어오기\n",
    "\n",
    "train = pd.read_csv('../input/sample-data/train_preprocessed_onehot.csv')\n",
    "train_x = train.drop(['target'], axis=1)\n",
    "train_y = train['target']\n",
    "test_x = pd.read_csv('../input/sample-data/test_preprocessed_onehot.csv')"
   ]
  },
  {
   "cell_type": "code",
   "execution_count": 2,
   "id": "d2dd4880",
   "metadata": {},
   "outputs": [
    {
     "data": {
      "text/plain": [
       "((10000, 59), (10000,), (10000, 59))"
      ]
     },
     "execution_count": 2,
     "metadata": {},
     "output_type": "execute_result"
    }
   ],
   "source": [
    "train_x.shape, train_y.shape, test_x.shape"
   ]
  },
  {
   "cell_type": "markdown",
   "id": "de64ffd5",
   "metadata": {},
   "source": [
    "### 데이터 나누기"
   ]
  },
  {
   "cell_type": "code",
   "execution_count": 3,
   "id": "3d63c25c",
   "metadata": {},
   "outputs": [],
   "source": [
    "# 학습 데이터를 학습 데이터와 검증 데이터로 나눕니다.\n",
    "from sklearn.model_selection import KFold\n",
    "\n",
    "kf = KFold(n_splits=4, shuffle=True, random_state=71)\n",
    "tr_idx, va_idx = list(kf.split(train_x))[0]\n",
    "tr_x, va_x = train_x.iloc[tr_idx], train_x.iloc[va_idx]\n",
    "tr_y, va_y = train_y.iloc[tr_idx], train_y.iloc[va_idx]"
   ]
  },
  {
   "cell_type": "code",
   "execution_count": 4,
   "id": "deb26d93",
   "metadata": {},
   "outputs": [
    {
     "data": {
      "text/plain": [
       "((7500, 59), (2500, 59), (7500,), (2500,))"
      ]
     },
     "execution_count": 4,
     "metadata": {},
     "output_type": "execute_result"
    }
   ],
   "source": [
    "tr_x.shape, va_x.shape, tr_y.shape, va_y.shape"
   ]
  },
  {
   "cell_type": "markdown",
   "id": "0c277610",
   "metadata": {},
   "source": [
    "```\n",
    "# tensorflow의 경고 억제\n",
    "import os\n",
    "os.environ['TF_CPP_MIN_LOG_LEVEL'] = '1'\n",
    "import tensorflow as tf\n",
    "tf.compat.v1.logging.set_verbosity(tf.compat.v1.logging.ERROR)\n",
    "```"
   ]
  },
  {
   "cell_type": "markdown",
   "id": "cd427bb3",
   "metadata": {},
   "source": [
    "```\n",
    "TensorFlow 2.x 버전부터는 tf.compat.v1.logging 모듈이 없어졌으며, 대신 Python의 logging 모듈을 사용하여 경고를 억제\n",
    "이 코드는 TensorFlow의 경고를 억제하기 위해 os.environ['TF_CPP_MIN_LOG_LEVEL'] = '2'를 설정합니다. 이 설정은 TensorFlow에서 출력하는 로그 메시지의 레벨을 변경하는 것입니다. '2'로 설정하면 INFO 레벨의 로그 메시지는 출력되지 않고, 경고 메시지만 억제\n",
    "```"
   ]
  },
  {
   "cell_type": "code",
   "execution_count": 5,
   "id": "270e1957",
   "metadata": {},
   "outputs": [],
   "source": [
    "import os\n",
    "import logging\n",
    "os.environ['TF_CPP_MIN_LOG_LEVEL'] = '2'\n",
    "logging.getLogger('tensorflow').setLevel(logging.ERROR)"
   ]
  },
  {
   "cell_type": "code",
   "execution_count": 7,
   "id": "5088cddf",
   "metadata": {},
   "outputs": [],
   "source": [
    "# -----------------------------------\n",
    "# 신경망의 구현\n",
    "# -----------------------------------\n",
    "from keras.layers import Dense, Dropout\n",
    "from keras.models import Sequential\n",
    "from sklearn.metrics import log_loss\n",
    "from sklearn.preprocessing import StandardScaler"
   ]
  },
  {
   "cell_type": "code",
   "execution_count": 8,
   "id": "f1daad77",
   "metadata": {},
   "outputs": [
    {
     "name": "stdout",
     "output_type": "stream",
     "text": [
      "Model: \"sequential\"\n",
      "_________________________________________________________________\n",
      " Layer (type)                Output Shape              Param #   \n",
      "=================================================================\n",
      " dense (Dense)               (None, 256)               15360     \n",
      "                                                                 \n",
      " dropout (Dropout)           (None, 256)               0         \n",
      "                                                                 \n",
      " dense_1 (Dense)             (None, 256)               65792     \n",
      "                                                                 \n",
      " dropout_1 (Dropout)         (None, 256)               0         \n",
      "                                                                 \n",
      " dense_2 (Dense)             (None, 1)                 257       \n",
      "                                                                 \n",
      "=================================================================\n",
      "Total params: 81,409\n",
      "Trainable params: 81,409\n",
      "Non-trainable params: 0\n",
      "_________________________________________________________________\n"
     ]
    }
   ],
   "source": [
    "# 데이터 스케일링\n",
    "scaler = StandardScaler()\n",
    "tr_x = scaler.fit_transform(tr_x)\n",
    "va_x = scaler.transform(va_x)\n",
    "test_x = scaler.transform(test_x)\n",
    "\n",
    "# 신경망 모델 구축\n",
    "model = Sequential()\n",
    "model.add(Dense(256, activation='relu', input_shape=(train_x.shape[1],)))\n",
    "model.add(Dropout(0.2))\n",
    "model.add(Dense(256, activation='relu'))\n",
    "model.add(Dropout(0.2))\n",
    "model.add(Dense(1, activation='sigmoid'))\n",
    "model.summary()  # 23/06 추가"
   ]
  },
  {
   "cell_type": "markdown",
   "id": "acce739f",
   "metadata": {},
   "source": [
    "### 신경망 모델의 구현 및 학습"
   ]
  },
  {
   "cell_type": "code",
   "execution_count": 9,
   "id": "36660ed1",
   "metadata": {},
   "outputs": [
    {
     "name": "stdout",
     "output_type": "stream",
     "text": [
      "Epoch 1/10\n",
      "59/59 [==============================] - 4s 17ms/step - loss: 0.4513 - accuracy: 0.8177 - val_loss: 0.3833 - val_accuracy: 0.8524\n",
      "Epoch 2/10\n",
      "59/59 [==============================] - 1s 13ms/step - loss: 0.3632 - accuracy: 0.8565 - val_loss: 0.3738 - val_accuracy: 0.8528\n",
      "Epoch 3/10\n",
      "59/59 [==============================] - 1s 13ms/step - loss: 0.3380 - accuracy: 0.8624 - val_loss: 0.3713 - val_accuracy: 0.8536\n",
      "Epoch 4/10\n",
      "59/59 [==============================] - 1s 12ms/step - loss: 0.3226 - accuracy: 0.8716 - val_loss: 0.3629 - val_accuracy: 0.8520\n",
      "Epoch 5/10\n",
      "59/59 [==============================] - 1s 11ms/step - loss: 0.2969 - accuracy: 0.8835 - val_loss: 0.3611 - val_accuracy: 0.8556\n",
      "Epoch 6/10\n",
      "59/59 [==============================] - 1s 9ms/step - loss: 0.2795 - accuracy: 0.8867 - val_loss: 0.3325 - val_accuracy: 0.8596\n",
      "Epoch 7/10\n",
      "59/59 [==============================] - 1s 9ms/step - loss: 0.2487 - accuracy: 0.8976 - val_loss: 0.3192 - val_accuracy: 0.8668\n",
      "Epoch 8/10\n",
      "59/59 [==============================] - 1s 10ms/step - loss: 0.2195 - accuracy: 0.9119 - val_loss: 0.3003 - val_accuracy: 0.8696\n",
      "Epoch 9/10\n",
      "59/59 [==============================] - 1s 9ms/step - loss: 0.2014 - accuracy: 0.9159 - val_loss: 0.3005 - val_accuracy: 0.8788\n",
      "Epoch 10/10\n",
      "59/59 [==============================] - 1s 10ms/step - loss: 0.1926 - accuracy: 0.9201 - val_loss: 0.2854 - val_accuracy: 0.8788\n",
      "79/79 [==============================] - 0s 3ms/step\n",
      "logloss: 0.2854\n",
      "313/313 [==============================] - 1s 3ms/step\n"
     ]
    },
    {
     "data": {
      "text/plain": [
       "array([[7.6245654e-01],\n",
       "       [6.3832283e-02],\n",
       "       [8.8009369e-03],\n",
       "       [3.7750293e-04],\n",
       "       [1.6229979e-03],\n",
       "       [1.0890779e-01],\n",
       "       [5.0249416e-01],\n",
       "       [5.7870322e-01],\n",
       "       [6.1341643e-01],\n",
       "       [6.7704946e-02]], dtype=float32)"
      ]
     },
     "execution_count": 9,
     "metadata": {},
     "output_type": "execute_result"
    }
   ],
   "source": [
    "model.compile(loss='binary_crossentropy', \n",
    "              optimizer='adam', metrics=['accuracy'])\n",
    "\n",
    "# 학습의 실행\n",
    "# 검증 데이터도 모델에 제공하여 학습 진행과 함께 점수가 어떻게 달라지는지 모니터링\n",
    "batch_size = 128\n",
    "epochs = 10\n",
    "history = model.fit(tr_x, tr_y,\n",
    "                    batch_size=batch_size, epochs=epochs,\n",
    "                    verbose=1, validation_data=(va_x, va_y))\n",
    "\n",
    "# 검증 데이터의 점수를 확인\n",
    "va_pred = model.predict(va_x)\n",
    "score = log_loss(va_y, va_pred, eps=1e-7)\n",
    "print(f'logloss: {score:.4f}')\n",
    "\n",
    "# 예측\n",
    "pred = model.predict(test_x)\n",
    "pred[0:10]"
   ]
  },
  {
   "cell_type": "markdown",
   "id": "66ee2f53",
   "metadata": {},
   "source": [
    "### Early Stopping을 적용한 신경망 모델의 학습"
   ]
  },
  {
   "cell_type": "code",
   "execution_count": 10,
   "id": "f1ad9427",
   "metadata": {},
   "outputs": [
    {
     "name": "stdout",
     "output_type": "stream",
     "text": [
      "Epoch 1/50\n",
      "59/59 [==============================] - 0s 3ms/step - loss: 0.1709 - accuracy: 0.9304 - val_loss: 0.3030 - val_accuracy: 0.8840\n",
      "Epoch 2/50\n",
      "59/59 [==============================] - 0s 3ms/step - loss: 0.1555 - accuracy: 0.9363 - val_loss: 0.3017 - val_accuracy: 0.8796\n",
      "Epoch 3/50\n",
      "59/59 [==============================] - 0s 3ms/step - loss: 0.1509 - accuracy: 0.9396 - val_loss: 0.2870 - val_accuracy: 0.8800\n",
      "Epoch 4/50\n",
      "59/59 [==============================] - 0s 2ms/step - loss: 0.1445 - accuracy: 0.9405 - val_loss: 0.2864 - val_accuracy: 0.8856\n",
      "Epoch 5/50\n",
      "59/59 [==============================] - 0s 2ms/step - loss: 0.1355 - accuracy: 0.9437 - val_loss: 0.2898 - val_accuracy: 0.8804\n",
      "Epoch 6/50\n",
      "59/59 [==============================] - 0s 2ms/step - loss: 0.1329 - accuracy: 0.9439 - val_loss: 0.2963 - val_accuracy: 0.8840\n",
      "Epoch 7/50\n",
      "59/59 [==============================] - 0s 2ms/step - loss: 0.1102 - accuracy: 0.9568 - val_loss: 0.3046 - val_accuracy: 0.8808\n",
      "Epoch 8/50\n",
      "59/59 [==============================] - 0s 3ms/step - loss: 0.1109 - accuracy: 0.9559 - val_loss: 0.3112 - val_accuracy: 0.8868\n",
      "Epoch 9/50\n",
      "59/59 [==============================] - 0s 3ms/step - loss: 0.1067 - accuracy: 0.9568 - val_loss: 0.3190 - val_accuracy: 0.8792\n",
      "Epoch 10/50\n",
      "59/59 [==============================] - 0s 3ms/step - loss: 0.1011 - accuracy: 0.9621 - val_loss: 0.3333 - val_accuracy: 0.8792\n",
      "Epoch 11/50\n",
      "59/59 [==============================] - 0s 3ms/step - loss: 0.0993 - accuracy: 0.9613 - val_loss: 0.3292 - val_accuracy: 0.8792\n",
      "Epoch 12/50\n",
      "59/59 [==============================] - 0s 4ms/step - loss: 0.0850 - accuracy: 0.9663 - val_loss: 0.3609 - val_accuracy: 0.8756\n",
      "Epoch 13/50\n",
      "59/59 [==============================] - 0s 5ms/step - loss: 0.0919 - accuracy: 0.9648 - val_loss: 0.3334 - val_accuracy: 0.8784\n",
      "Epoch 14/50\n",
      "59/59 [==============================] - 0s 8ms/step - loss: 0.0826 - accuracy: 0.9683 - val_loss: 0.3496 - val_accuracy: 0.8808\n",
      "Epoch 15/50\n",
      "59/59 [==============================] - 1s 13ms/step - loss: 0.0785 - accuracy: 0.9701 - val_loss: 0.3532 - val_accuracy: 0.8788\n",
      "Epoch 16/50\n",
      "59/59 [==============================] - 1s 17ms/step - loss: 0.0750 - accuracy: 0.9732 - val_loss: 0.3439 - val_accuracy: 0.8824\n",
      "Epoch 17/50\n",
      "59/59 [==============================] - 1s 19ms/step - loss: 0.0655 - accuracy: 0.9763 - val_loss: 0.3536 - val_accuracy: 0.8836\n",
      "Epoch 18/50\n",
      "59/59 [==============================] - 1s 17ms/step - loss: 0.0653 - accuracy: 0.9753 - val_loss: 0.3777 - val_accuracy: 0.8840\n",
      "Epoch 19/50\n",
      "59/59 [==============================] - 1s 15ms/step - loss: 0.0696 - accuracy: 0.9711 - val_loss: 0.3800 - val_accuracy: 0.8792\n",
      "Epoch 20/50\n",
      "59/59 [==============================] - 1s 11ms/step - loss: 0.0721 - accuracy: 0.9707 - val_loss: 0.3641 - val_accuracy: 0.8784\n",
      "Epoch 21/50\n",
      "59/59 [==============================] - 1s 10ms/step - loss: 0.0637 - accuracy: 0.9757 - val_loss: 0.3675 - val_accuracy: 0.8796\n",
      "Epoch 22/50\n",
      "59/59 [==============================] - 1s 10ms/step - loss: 0.0573 - accuracy: 0.9816 - val_loss: 0.3935 - val_accuracy: 0.8844\n",
      "Epoch 23/50\n",
      "59/59 [==============================] - 1s 9ms/step - loss: 0.0569 - accuracy: 0.9788 - val_loss: 0.3999 - val_accuracy: 0.8768\n",
      "Epoch 24/50\n",
      "59/59 [==============================] - 1s 10ms/step - loss: 0.0507 - accuracy: 0.9815 - val_loss: 0.4099 - val_accuracy: 0.8788\n",
      "313/313 [==============================] - 1s 4ms/step\n"
     ]
    },
    {
     "data": {
      "text/plain": [
       "array([[8.1061959e-01],\n",
       "       [3.7775788e-02],\n",
       "       [4.9157324e-03],\n",
       "       [4.6264890e-05],\n",
       "       [9.2667971e-05],\n",
       "       [1.0623911e-01],\n",
       "       [4.9746808e-01],\n",
       "       [3.2566047e-01],\n",
       "       [4.6828613e-01],\n",
       "       [6.1984509e-02]], dtype=float32)"
      ]
     },
     "execution_count": 10,
     "metadata": {},
     "output_type": "execute_result"
    }
   ],
   "source": [
    "# -----------------------------------\n",
    "# early stopping\n",
    "# -----------------------------------\n",
    "from keras.callbacks import EarlyStopping\n",
    "\n",
    "# early stopping의 round를 20으로 설정\n",
    "# restore_best_weights을 설정하므로 최적의 압축 모델을 사용\n",
    "epochs = 50\n",
    "early_stopping = EarlyStopping(monitor='val_loss', patience=20, restore_best_weights=True)\n",
    "\n",
    "history = model.fit(tr_x, tr_y,\n",
    "                    batch_size=batch_size, epochs=epochs,\n",
    "                    verbose=1, validation_data=(va_x, va_y), \n",
    "                    callbacks=[early_stopping])\n",
    "\n",
    "pred = model.predict(test_x)\n",
    "pred[0:10]"
   ]
  },
  {
   "cell_type": "code",
   "execution_count": null,
   "id": "1e7bd384",
   "metadata": {},
   "outputs": [],
   "source": []
  }
 ],
 "metadata": {
  "kernelspec": {
   "display_name": "Python 3 (ipykernel)",
   "language": "python",
   "name": "python3"
  },
  "language_info": {
   "codemirror_mode": {
    "name": "ipython",
    "version": 3
   },
   "file_extension": ".py",
   "mimetype": "text/x-python",
   "name": "python",
   "nbconvert_exporter": "python",
   "pygments_lexer": "ipython3",
   "version": "3.9.13"
  }
 },
 "nbformat": 4,
 "nbformat_minor": 5
}
