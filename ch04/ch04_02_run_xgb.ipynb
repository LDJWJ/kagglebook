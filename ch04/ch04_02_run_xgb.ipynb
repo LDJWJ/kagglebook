{
 "cells": [
  {
   "cell_type": "markdown",
   "id": "837e1af7",
   "metadata": {},
   "source": [
    "### XGBOOST 라이브러리를 활용한 머신러닝 이진 분류와 모니터링"
   ]
  },
  {
   "cell_type": "markdown",
   "id": "77a3136c",
   "metadata": {},
   "source": [
    "* XGBoost는 대표적인 부스팅 알고리즘 중 하나로, 대용량 데이터셋 및 복잡한 특징을 다루는 데 효과적"
   ]
  },
  {
   "cell_type": "markdown",
   "id": "6891057d",
   "metadata": {},
   "source": [
    "### 학습 내용\n",
    " * 데이터 및 라이브러리 사전 준비\n",
    " * XGBoost 모델의 구현\n",
    " * 검증 데이터의 점수 확인\n",
    " * 학습 데이터와 검증 데이터의 점수 모니터링"
   ]
  },
  {
   "cell_type": "markdown",
   "id": "a2c9f555",
   "metadata": {},
   "source": [
    "### 데이터 및 라이브러리 사전 준비"
   ]
  },
  {
   "cell_type": "code",
   "execution_count": 1,
   "id": "32cb5b1f",
   "metadata": {},
   "outputs": [],
   "source": [
    "import numpy as np\n",
    "import pandas as pd\n",
    "\n",
    "# train_x는 학습 데이터, train_y는 목적 변수, test_x는 테스트 데이터\n",
    "# pandas의 DataFrame, Series로 유지합니다.(numpy의 array로 유지하기도 합니다)\n",
    "\n",
    "train = pd.read_csv('../input/sample-data/train_preprocessed.csv')\n",
    "train_x = train.drop(['target'], axis=1)\n",
    "train_y = train['target']\n",
    "test_x = pd.read_csv('../input/sample-data/test_preprocessed.csv')"
   ]
  },
  {
   "cell_type": "code",
   "execution_count": 2,
   "id": "b7617592",
   "metadata": {},
   "outputs": [
    {
     "data": {
      "text/plain": [
       "((10000, 28), (10000,), (10000, 28))"
      ]
     },
     "execution_count": 2,
     "metadata": {},
     "output_type": "execute_result"
    }
   ],
   "source": [
    "train_x.shape, train_y.shape, test_x.shape"
   ]
  },
  {
   "cell_type": "code",
   "execution_count": 3,
   "id": "a7b6ce62",
   "metadata": {},
   "outputs": [],
   "source": [
    "# 학습 데이터를 학습 데이터와 검증(평가용) 데이터로 나눕니다.\n",
    "from sklearn.model_selection import KFold\n",
    "\n",
    "kf = KFold(n_splits=4, shuffle=True, random_state=71)\n",
    "tr_idx, va_idx = list(kf.split(train_x))[0]\n",
    "tr_x, va_x = train_x.iloc[tr_idx], train_x.iloc[va_idx]\n",
    "tr_y, va_y = train_y.iloc[tr_idx], train_y.iloc[va_idx]"
   ]
  },
  {
   "cell_type": "markdown",
   "id": "4de6b116",
   "metadata": {},
   "source": [
    "### xgboost 머신러닝 구현"
   ]
  },
  {
   "cell_type": "code",
   "execution_count": 7,
   "id": "e883b10e",
   "metadata": {},
   "outputs": [
    {
     "name": "stdout",
     "output_type": "stream",
     "text": [
      "[15:50:57] WARNING: C:\\buildkite-agent\\builds\\buildkite-windows-cpu-autoscaling-group-i-07593ffd91cd9da33-1\\xgboost\\xgboost-ci-windows\\src\\learner.cc:767: \n",
      "Parameters: { \"silent\" } are not used.\n",
      "\n",
      "[0]\ttrain-logloss:0.54088\teval-logloss:0.55003\n",
      "[1]\ttrain-logloss:0.45269\teval-logloss:0.47182\n",
      "[2]\ttrain-logloss:0.39482\teval-logloss:0.42026\n",
      "[3]\ttrain-logloss:0.35198\teval-logloss:0.38520\n",
      "[4]\ttrain-logloss:0.32021\teval-logloss:0.36150\n",
      "[5]\ttrain-logloss:0.29673\teval-logloss:0.34463\n",
      "[6]\ttrain-logloss:0.27610\teval-logloss:0.32900\n",
      "[7]\ttrain-logloss:0.25886\teval-logloss:0.31670\n",
      "[8]\ttrain-logloss:0.24363\teval-logloss:0.30775\n",
      "[9]\ttrain-logloss:0.23153\teval-logloss:0.30093\n",
      "[10]\ttrain-logloss:0.22016\teval-logloss:0.29413\n",
      "[11]\ttrain-logloss:0.20963\teval-logloss:0.28528\n",
      "[12]\ttrain-logloss:0.19951\teval-logloss:0.27912\n",
      "[13]\ttrain-logloss:0.19324\teval-logloss:0.27642\n",
      "[14]\ttrain-logloss:0.18547\teval-logloss:0.27154\n",
      "[15]\ttrain-logloss:0.17474\teval-logloss:0.26516\n",
      "[16]\ttrain-logloss:0.16900\teval-logloss:0.26089\n",
      "[17]\ttrain-logloss:0.16323\teval-logloss:0.25849\n",
      "[18]\ttrain-logloss:0.15950\teval-logloss:0.25691\n",
      "[19]\ttrain-logloss:0.15637\teval-logloss:0.25511\n",
      "[20]\ttrain-logloss:0.14722\teval-logloss:0.25035\n",
      "[21]\ttrain-logloss:0.14290\teval-logloss:0.24734\n",
      "[22]\ttrain-logloss:0.13782\teval-logloss:0.24612\n",
      "[23]\ttrain-logloss:0.13362\teval-logloss:0.24387\n",
      "[24]\ttrain-logloss:0.13047\teval-logloss:0.24251\n",
      "[25]\ttrain-logloss:0.12654\teval-logloss:0.24094\n",
      "[26]\ttrain-logloss:0.12268\teval-logloss:0.24005\n",
      "[27]\ttrain-logloss:0.11966\teval-logloss:0.23803\n",
      "[28]\ttrain-logloss:0.11506\teval-logloss:0.23699\n",
      "[29]\ttrain-logloss:0.11027\teval-logloss:0.23626\n",
      "[30]\ttrain-logloss:0.10827\teval-logloss:0.23621\n",
      "[31]\ttrain-logloss:0.10262\teval-logloss:0.23269\n",
      "[32]\ttrain-logloss:0.10062\teval-logloss:0.23212\n",
      "[33]\ttrain-logloss:0.09913\teval-logloss:0.23180\n",
      "[34]\ttrain-logloss:0.09582\teval-logloss:0.23184\n",
      "[35]\ttrain-logloss:0.09378\teval-logloss:0.22998\n",
      "[36]\ttrain-logloss:0.09243\teval-logloss:0.22980\n",
      "[37]\ttrain-logloss:0.08952\teval-logloss:0.22913\n",
      "[38]\ttrain-logloss:0.08732\teval-logloss:0.22870\n",
      "[39]\ttrain-logloss:0.08576\teval-logloss:0.22786\n",
      "[40]\ttrain-logloss:0.08340\teval-logloss:0.22857\n",
      "[41]\ttrain-logloss:0.08125\teval-logloss:0.22695\n",
      "[42]\ttrain-logloss:0.08027\teval-logloss:0.22646\n",
      "[43]\ttrain-logloss:0.07829\teval-logloss:0.22660\n",
      "[44]\ttrain-logloss:0.07616\teval-logloss:0.22607\n",
      "[45]\ttrain-logloss:0.07522\teval-logloss:0.22499\n",
      "[46]\ttrain-logloss:0.07313\teval-logloss:0.22316\n",
      "[47]\ttrain-logloss:0.07198\teval-logloss:0.22293\n",
      "[48]\ttrain-logloss:0.07026\teval-logloss:0.22265\n",
      "[49]\ttrain-logloss:0.06948\teval-logloss:0.22226\n"
     ]
    }
   ],
   "source": [
    "import xgboost as xgb\n",
    "from sklearn.metrics import log_loss\n",
    "\n",
    "# 특징(입력)과 Target(목적변수)를 xgboost의 데이터 구조로 변환\n",
    "dtrain = xgb.DMatrix(tr_x, label=tr_y)\n",
    "dvalid = xgb.DMatrix(va_x, label=va_y)\n",
    "dtest = xgb.DMatrix(test_x)\n",
    "\n",
    "# 하이퍼파라미터 설정\n",
    "params = {'objective': 'binary:logistic', 'silent': 1, 'random_state': 71}\n",
    "num_round = 50\n",
    "\n",
    "# 학습의 실행\n",
    "# 검증 데이터도 모델에 제공하여 학습 진행과 함께 점수가 어떻게 달라지는지 모니터링\n",
    "# watchlist로 학습 데이터 및 검증 데이터를 준비\n",
    "watchlist = [(dtrain, 'train'), (dvalid, 'eval')]\n",
    "model = xgb.train(params, dtrain, num_round, evals=watchlist)"
   ]
  },
  {
   "cell_type": "code",
   "execution_count": 8,
   "id": "ea9f26f5",
   "metadata": {},
   "outputs": [
    {
     "name": "stdout",
     "output_type": "stream",
     "text": [
      "logloss: 0.2223\n"
     ]
    },
    {
     "data": {
      "text/plain": [
       "array([2.0640090e-01, 2.4007071e-02, 3.8863444e-03, 9.1364473e-04,\n",
       "       3.0064746e-03, 4.6773311e-01, 9.6380478e-01, 7.5712699e-01,\n",
       "       1.5055874e-01, 6.6642754e-02], dtype=float32)"
      ]
     },
     "execution_count": 8,
     "metadata": {},
     "output_type": "execute_result"
    }
   ],
   "source": [
    "# 검증 데이터의 점수를 확인\n",
    "va_pred = model.predict(dvalid)\n",
    "score = log_loss(va_y, va_pred)\n",
    "print(f'logloss: {score:.4f}')\n",
    "\n",
    "# 예측 - 두 값(0 or 1)의 예측이 아닌 양성(1)일 확률을 출력\n",
    "pred = model.predict(dtest)\n",
    "pred[0:10]"
   ]
  },
  {
   "cell_type": "code",
   "execution_count": 9,
   "id": "13a5d360",
   "metadata": {},
   "outputs": [
    {
     "name": "stdout",
     "output_type": "stream",
     "text": [
      "[15:51:55] WARNING: C:\\buildkite-agent\\builds\\buildkite-windows-cpu-autoscaling-group-i-07593ffd91cd9da33-1\\xgboost\\xgboost-ci-windows\\src\\learner.cc:767: \n",
      "Parameters: { \"silent\" } are not used.\n",
      "\n",
      "[0]\ttrain-logloss:0.54088\teval-logloss:0.55003\n",
      "[1]\ttrain-logloss:0.45269\teval-logloss:0.47182\n",
      "[2]\ttrain-logloss:0.39482\teval-logloss:0.42026\n",
      "[3]\ttrain-logloss:0.35198\teval-logloss:0.38520\n",
      "[4]\ttrain-logloss:0.32021\teval-logloss:0.36150\n",
      "[5]\ttrain-logloss:0.29673\teval-logloss:0.34463\n",
      "[6]\ttrain-logloss:0.27610\teval-logloss:0.32900\n",
      "[7]\ttrain-logloss:0.25886\teval-logloss:0.31670\n",
      "[8]\ttrain-logloss:0.24363\teval-logloss:0.30775\n",
      "[9]\ttrain-logloss:0.23153\teval-logloss:0.30093\n",
      "[10]\ttrain-logloss:0.22016\teval-logloss:0.29413\n",
      "[11]\ttrain-logloss:0.20963\teval-logloss:0.28528\n",
      "[12]\ttrain-logloss:0.19951\teval-logloss:0.27912\n",
      "[13]\ttrain-logloss:0.19324\teval-logloss:0.27642\n",
      "[14]\ttrain-logloss:0.18547\teval-logloss:0.27154\n",
      "[15]\ttrain-logloss:0.17474\teval-logloss:0.26516\n",
      "[16]\ttrain-logloss:0.16900\teval-logloss:0.26089\n",
      "[17]\ttrain-logloss:0.16323\teval-logloss:0.25849\n",
      "[18]\ttrain-logloss:0.15950\teval-logloss:0.25691\n",
      "[19]\ttrain-logloss:0.15637\teval-logloss:0.25511\n",
      "[20]\ttrain-logloss:0.14722\teval-logloss:0.25035\n",
      "[21]\ttrain-logloss:0.14290\teval-logloss:0.24734\n",
      "[22]\ttrain-logloss:0.13782\teval-logloss:0.24612\n",
      "[23]\ttrain-logloss:0.13362\teval-logloss:0.24387\n",
      "[24]\ttrain-logloss:0.13047\teval-logloss:0.24251\n",
      "[25]\ttrain-logloss:0.12654\teval-logloss:0.24094\n",
      "[26]\ttrain-logloss:0.12268\teval-logloss:0.24005\n",
      "[27]\ttrain-logloss:0.11966\teval-logloss:0.23803\n",
      "[28]\ttrain-logloss:0.11506\teval-logloss:0.23699\n",
      "[29]\ttrain-logloss:0.11027\teval-logloss:0.23626\n",
      "[30]\ttrain-logloss:0.10827\teval-logloss:0.23621\n",
      "[31]\ttrain-logloss:0.10262\teval-logloss:0.23269\n",
      "[32]\ttrain-logloss:0.10062\teval-logloss:0.23212\n",
      "[33]\ttrain-logloss:0.09913\teval-logloss:0.23180\n",
      "[34]\ttrain-logloss:0.09582\teval-logloss:0.23184\n",
      "[35]\ttrain-logloss:0.09378\teval-logloss:0.22998\n",
      "[36]\ttrain-logloss:0.09243\teval-logloss:0.22980\n",
      "[37]\ttrain-logloss:0.08952\teval-logloss:0.22913\n",
      "[38]\ttrain-logloss:0.08732\teval-logloss:0.22870\n",
      "[39]\ttrain-logloss:0.08576\teval-logloss:0.22786\n",
      "[40]\ttrain-logloss:0.08340\teval-logloss:0.22857\n",
      "[41]\ttrain-logloss:0.08125\teval-logloss:0.22695\n",
      "[42]\ttrain-logloss:0.08027\teval-logloss:0.22646\n",
      "[43]\ttrain-logloss:0.07829\teval-logloss:0.22660\n",
      "[44]\ttrain-logloss:0.07616\teval-logloss:0.22607\n",
      "[45]\ttrain-logloss:0.07522\teval-logloss:0.22499\n",
      "[46]\ttrain-logloss:0.07313\teval-logloss:0.22316\n",
      "[47]\ttrain-logloss:0.07198\teval-logloss:0.22293\n",
      "[48]\ttrain-logloss:0.07026\teval-logloss:0.22265\n",
      "[49]\ttrain-logloss:0.06948\teval-logloss:0.22226\n",
      "[50]\ttrain-logloss:0.06725\teval-logloss:0.22227\n",
      "[51]\ttrain-logloss:0.06608\teval-logloss:0.22189\n",
      "[52]\ttrain-logloss:0.06474\teval-logloss:0.22258\n",
      "[53]\ttrain-logloss:0.06343\teval-logloss:0.22279\n",
      "[54]\ttrain-logloss:0.06259\teval-logloss:0.22280\n",
      "[55]\ttrain-logloss:0.06163\teval-logloss:0.22262\n",
      "[56]\ttrain-logloss:0.06056\teval-logloss:0.22149\n",
      "[57]\ttrain-logloss:0.05859\teval-logloss:0.22114\n",
      "[58]\ttrain-logloss:0.05796\teval-logloss:0.22093\n",
      "[59]\ttrain-logloss:0.05692\teval-logloss:0.21983\n",
      "[60]\ttrain-logloss:0.05564\teval-logloss:0.22027\n",
      "[61]\ttrain-logloss:0.05500\teval-logloss:0.22076\n",
      "[62]\ttrain-logloss:0.05393\teval-logloss:0.22038\n",
      "[63]\ttrain-logloss:0.05339\teval-logloss:0.22014\n",
      "[64]\ttrain-logloss:0.05252\teval-logloss:0.21951\n",
      "[65]\ttrain-logloss:0.05096\teval-logloss:0.21760\n",
      "[66]\ttrain-logloss:0.05005\teval-logloss:0.21717\n",
      "[67]\ttrain-logloss:0.04909\teval-logloss:0.21699\n",
      "[68]\ttrain-logloss:0.04820\teval-logloss:0.21623\n",
      "[69]\ttrain-logloss:0.04725\teval-logloss:0.21541\n",
      "[70]\ttrain-logloss:0.04671\teval-logloss:0.21559\n",
      "[71]\ttrain-logloss:0.04575\teval-logloss:0.21541\n",
      "[72]\ttrain-logloss:0.04463\teval-logloss:0.21407\n",
      "[73]\ttrain-logloss:0.04405\teval-logloss:0.21397\n",
      "[74]\ttrain-logloss:0.04301\teval-logloss:0.21496\n",
      "[75]\ttrain-logloss:0.04262\teval-logloss:0.21554\n",
      "[76]\ttrain-logloss:0.04218\teval-logloss:0.21631\n",
      "[77]\ttrain-logloss:0.04157\teval-logloss:0.21579\n",
      "[78]\ttrain-logloss:0.04077\teval-logloss:0.21591\n",
      "[79]\ttrain-logloss:0.04003\teval-logloss:0.21606\n",
      "[80]\ttrain-logloss:0.03972\teval-logloss:0.21642\n",
      "[81]\ttrain-logloss:0.03874\teval-logloss:0.21528\n",
      "[82]\ttrain-logloss:0.03837\teval-logloss:0.21606\n",
      "[83]\ttrain-logloss:0.03807\teval-logloss:0.21593\n",
      "[84]\ttrain-logloss:0.03737\teval-logloss:0.21665\n",
      "[85]\ttrain-logloss:0.03669\teval-logloss:0.21784\n",
      "[86]\ttrain-logloss:0.03576\teval-logloss:0.21918\n",
      "[87]\ttrain-logloss:0.03553\teval-logloss:0.21912\n",
      "[88]\ttrain-logloss:0.03480\teval-logloss:0.21967\n",
      "[89]\ttrain-logloss:0.03425\teval-logloss:0.21976\n",
      "[90]\ttrain-logloss:0.03402\teval-logloss:0.21996\n",
      "[91]\ttrain-logloss:0.03342\teval-logloss:0.21972\n",
      "[92]\ttrain-logloss:0.03248\teval-logloss:0.21991\n"
     ]
    },
    {
     "name": "stderr",
     "output_type": "stream",
     "text": [
      "C:\\Users\\daniel_wj\\anaconda3\\lib\\site-packages\\xgboost\\core.py:122: UserWarning: ntree_limit is deprecated, use `iteration_range` or model slicing instead.\n",
      "  warnings.warn(\n"
     ]
    },
    {
     "data": {
      "text/plain": [
       "array([2.0979232e-01, 1.1668997e-02, 2.1548264e-03, 2.1623065e-04,\n",
       "       1.0843581e-03, 5.2126783e-01, 9.5567137e-01, 8.0202556e-01,\n",
       "       1.8773586e-01, 3.7838366e-02], dtype=float32)"
      ]
     },
     "execution_count": 9,
     "metadata": {},
     "output_type": "execute_result"
    }
   ],
   "source": [
    "# -----------------------------------\n",
    "# 학습 데이터와 검증 데이터의 점수를 모니터링\n",
    "# -----------------------------------\n",
    "# 모니터링을 logloss로 수행. early_stopping_rounds를 20라운드로 설정\n",
    "\n",
    "params = {'objective': 'binary:logistic', \n",
    "          'silent': 1, 'random_state': 71,\n",
    "          'eval_metric': 'logloss'}\n",
    "\n",
    "num_round = 500\n",
    "watchlist = [(dtrain, 'train'), (dvalid, 'eval')]\n",
    "model = xgb.train(params, dtrain, num_round,\n",
    "                  evals=watchlist,\n",
    "                  early_stopping_rounds=20)\n",
    "\n",
    "# 최적의 결정 트리의 개수로 예측\n",
    "pred = model.predict(dtest, ntree_limit=model.best_ntree_limit)\n",
    "pred[0:10]"
   ]
  }
 ],
 "metadata": {
  "kernelspec": {
   "display_name": "Python 3 (ipykernel)",
   "language": "python",
   "name": "python3"
  },
  "language_info": {
   "codemirror_mode": {
    "name": "ipython",
    "version": 3
   },
   "file_extension": ".py",
   "mimetype": "text/x-python",
   "name": "python",
   "nbconvert_exporter": "python",
   "pygments_lexer": "ipython3",
   "version": "3.9.13"
  }
 },
 "nbformat": 4,
 "nbformat_minor": 5
}
