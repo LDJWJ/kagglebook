{
 "cells": [
  {
   "attachments": {},
   "cell_type": "markdown",
   "metadata": {},
   "source": [
    "### 임곗값(threshold)의 최적화"
   ]
  },
  {
   "attachments": {},
   "cell_type": "markdown",
   "metadata": {},
   "source": [
    "* 학습 내용\n",
    "   * 어떻게 가장 좋은 성능을 갖는 임곗값을 찾을 수 있을까?\n",
    "     * 평가지표(F1-score)"
   ]
  },
  {
   "attachments": {},
   "cell_type": "markdown",
   "metadata": {},
   "source": [
    "### 라이브러리 불러오기"
   ]
  },
  {
   "cell_type": "code",
   "execution_count": 3,
   "metadata": {},
   "outputs": [],
   "source": [
    "import numpy as np\n",
    "import pandas as pd\n",
    "\n",
    "\n",
    "from sklearn.metrics import f1_score\n",
    "from scipy.optimize import minimize"
   ]
  },
  {
   "cell_type": "code",
   "execution_count": 8,
   "metadata": {},
   "outputs": [
    {
     "data": {
      "text/plain": [
       "((10000,),\n",
       " array([0.        , 0.00010001, 0.00020002, 0.00030003, 0.00040004,\n",
       "        0.00050005, 0.00060006, 0.00070007, 0.00080008, 0.00090009]))"
      ]
     },
     "execution_count": 8,
     "metadata": {},
     "output_type": "execute_result"
    }
   ],
   "source": [
    "# 0~1 사이의 값 준비 (10개의 값 확인)\n",
    "rand = np.random.RandomState(seed=71)\n",
    "train_y_prob = np.linspace(0, 1.0, 10000)\n",
    "train_y_prob.shape, train_y_prob[0:10]"
   ]
  },
  {
   "cell_type": "code",
   "execution_count": 12,
   "metadata": {},
   "outputs": [
    {
     "name": "stdout",
     "output_type": "stream",
     "text": [
      "0     False\n",
      "1     False\n",
      "2     False\n",
      "3     False\n",
      "4     False\n",
      "5     False\n",
      "6     False\n",
      "7     False\n",
      "8     False\n",
      "9     False\n",
      "10    False\n",
      "11    False\n",
      "12    False\n",
      "13    False\n",
      "14    False\n",
      "dtype: bool [0.         0.00022027 0.00036054 0.00031804 0.00037484 0.00035137\n",
      " 0.00081335 0.00092438 0.00109668 0.00073556 0.00080953 0.00087939\n",
      " 0.00159474 0.00168023 0.00162518]\n"
     ]
    }
   ],
   "source": [
    "# train_y(True, False의 10000개의 값)\n",
    "# train_pred_prob(예측값 - 확률 표현)\n",
    "train_y = pd.Series(rand.uniform(0.0, 1.0, train_y_prob.size) < train_y_prob)\n",
    "train_pred_prob = np.clip(train_y_prob * np.exp(rand.standard_normal(train_y_prob.shape) * 0.3), 0.0, 1.0)\n",
    "\n",
    "print(train_y[0:15], train_pred_prob[0:15])"
   ]
  },
  {
   "cell_type": "code",
   "execution_count": null,
   "metadata": {},
   "outputs": [],
   "source": [
    "### 임곗값(threshold)를 0.5로 지정했을 때의 F1-score"
   ]
  },
  {
   "cell_type": "code",
   "execution_count": 13,
   "metadata": {},
   "outputs": [
    {
     "name": "stdout",
     "output_type": "stream",
     "text": [
      "0.5 0.7170388498011624\n"
     ]
    }
   ],
   "source": [
    "# 임곗값(threshold)을 0.5로 하면, F1은 0.722\n",
    "init_threshold = 0.5\n",
    "init_score = f1_score(train_y, train_pred_prob >= init_threshold)\n",
    "print(init_threshold, init_score)"
   ]
  },
  {
   "cell_type": "code",
   "execution_count": 14,
   "metadata": {},
   "outputs": [],
   "source": [
    "# 최적화의 목적함수를 설정\n",
    "def f1_opt(x):\n",
    "    return -f1_score(train_y, train_pred_prob >= x)"
   ]
  },
  {
   "attachments": {},
   "cell_type": "markdown",
   "metadata": {},
   "source": [
    "### 가장 F1-score가 좋은 값을 찾기"
   ]
  },
  {
   "cell_type": "code",
   "execution_count": 15,
   "metadata": {},
   "outputs": [
    {
     "name": "stdout",
     "output_type": "stream",
     "text": [
      "0.3314453124999998 0.7531003382187147\n"
     ]
    }
   ],
   "source": [
    "# scipy.optimize의 minimize 메소드에서 최적의 임곗값 구하기\n",
    "# 구한 최적의 임곗값을 바탕으로 F1을 구하면 0.756이 됨\n",
    "result = minimize(f1_opt, x0=np.array([0.5]), method='Nelder-Mead')\n",
    "best_threshold = result['x'].item()\n",
    "best_score = f1_score(train_y, train_pred_prob >= best_threshold)\n",
    "print(best_threshold, best_score)"
   ]
  },
  {
   "cell_type": "code",
   "execution_count": null,
   "metadata": {},
   "outputs": [],
   "source": []
  }
 ],
 "metadata": {
  "kernelspec": {
   "display_name": "base",
   "language": "python",
   "name": "python3"
  },
  "language_info": {
   "codemirror_mode": {
    "name": "ipython",
    "version": 3
   },
   "file_extension": ".py",
   "mimetype": "text/x-python",
   "name": "python",
   "nbconvert_exporter": "python",
   "pygments_lexer": "ipython3",
   "version": "3.9.13"
  },
  "orig_nbformat": 4
 },
 "nbformat": 4,
 "nbformat_minor": 2
}
