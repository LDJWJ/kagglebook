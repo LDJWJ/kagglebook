{
 "cells": [
  {
   "cell_type": "markdown",
   "metadata": {},
   "source": [
    "### 사용자 정의 함수"
   ]
  },
  {
   "cell_type": "markdown",
   "metadata": {},
   "source": [
    "### 라이브러리 불러오기"
   ]
  },
  {
   "cell_type": "code",
   "execution_count": 3,
   "metadata": {},
   "outputs": [],
   "source": [
    "import numpy as np\n",
    "import pandas as pd"
   ]
  },
  {
   "cell_type": "markdown",
   "metadata": {},
   "source": [
    "### 사용자 정의 함수"
   ]
  },
  {
   "cell_type": "markdown",
   "metadata": {},
   "source": [
    "### 함수의 매개변수 설명\n",
    "  * preds : 모델의 예측값\n",
    "  * dtrain : 학습 데이터 셋"
   ]
  },
  {
   "cell_type": "code",
   "execution_count": 6,
   "metadata": {},
   "outputs": [],
   "source": [
    "# fair 함수\n",
    "def fair(preds, dtrain):\n",
    "    x = preds - dtrain.get_labels()  # 오차 확인\n",
    "    c = 1.0                  # fair 함수 파라미터 (편향과 분산 사이의 Tradeoff를 조절하는 역할)\n",
    "    den = abs(x) + c         # 그레이디언트 식의 분모 계산\n",
    "    grad = c * x / den       # 그레이디언트\n",
    "    hess = c * c / den ** 2  # 이차 미분값\n",
    "    return grad, hess       "
   ]
  },
  {
   "cell_type": "code",
   "execution_count": 5,
   "metadata": {},
   "outputs": [],
   "source": [
    "# Pseudo-Huber 함수\n",
    "def psuedo_huber(preds, dtrain):\n",
    "    d = preds - dtrain.get_labels()  # 오차 획득(예측 - 실제)\n",
    "    delta = 1.0                    # Pseudo-Huber 함수 파라미터\n",
    "    scale = 1 + (d / delta) ** 2\n",
    "    scale_sqrt = np.sqrt(scale)\n",
    "    grad = d / scale_sqrt          # 그레이디언트\n",
    "    hess = 1 / scale / scale_sqrt  # 이차 미분값\n",
    "    return grad, hess"
   ]
  }
 ],
 "metadata": {
  "kernelspec": {
   "display_name": "Python 3 (ipykernel)",
   "language": "python",
   "name": "python3"
  },
  "language_info": {
   "codemirror_mode": {
    "name": "ipython",
    "version": 3
   },
   "file_extension": ".py",
   "mimetype": "text/x-python",
   "name": "python",
   "nbconvert_exporter": "python",
   "pygments_lexer": "ipython3",
   "version": "3.9.13"
  }
 },
 "nbformat": 4,
 "nbformat_minor": 2
}
