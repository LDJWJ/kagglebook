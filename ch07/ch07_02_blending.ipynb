{
 "cells": [
  {
   "cell_type": "markdown",
   "id": "73ef1ea3",
   "metadata": {},
   "source": [
    "### Hold-out 데이터 예측치를 이용한 앙상블 (Ensemble using Hold-out Predictions)"
   ]
  },
  {
   "cell_type": "markdown",
   "id": "e69a27fc",
   "metadata": {},
   "source": [
    "### 학습 내용\n",
    " * 데이터 준비\n",
    " * 1계층 모델 학습 및 예측\n",
    " * hold-out 데이터 정밀도 평가\n",
    " * 2계층 모델 학습 및 예측"
   ]
  },
  {
   "cell_type": "markdown",
   "id": "f6e46cfb",
   "metadata": {},
   "source": [
    "### 데이터 준비"
   ]
  },
  {
   "cell_type": "code",
   "execution_count": 1,
   "id": "7a616f1b",
   "metadata": {},
   "outputs": [],
   "source": [
    "# ---------------------------------\n",
    "# 데이터 등의 사전 준비\n",
    "# ----------------------------------\n",
    "import numpy as np\n",
    "import pandas as pd\n",
    "\n",
    "# train_x는 학습 데이터, train_y는 목적 변수, test_x는 테스트 데이터\n",
    "# pandas의 DataFrame, Series의 자료형 사용(numpy의 array의 자료형을 사용하기도 함)\n",
    "\n",
    "train = pd.read_csv('../input/sample-data/train_preprocessed.csv')\n",
    "train_x = train.drop(['target'], axis=1)\n",
    "train_y = train['target']\n",
    "test_x = pd.read_csv('../input/sample-data/test_preprocessed.csv')\n",
    "\n",
    "# neural net용의 데이터\n",
    "train_nn = pd.read_csv('../input/sample-data/train_preprocessed_onehot.csv')\n",
    "train_x_nn = train_nn.drop(['target'], axis=1)\n",
    "train_y_nn = train_nn['target']\n",
    "test_x_nn = pd.read_csv('../input/sample-data/test_preprocessed_onehot.csv')"
   ]
  },
  {
   "cell_type": "code",
   "execution_count": 2,
   "id": "854bfb40",
   "metadata": {},
   "outputs": [
    {
     "data": {
      "text/plain": [
       "((10000, 29), (10000, 28), (10000,), (10000, 28))"
      ]
     },
     "execution_count": 2,
     "metadata": {},
     "output_type": "execute_result"
    }
   ],
   "source": [
    "train.shape, train_x.shape, train_y.shape, test_x.shape"
   ]
  },
  {
   "cell_type": "code",
   "execution_count": 3,
   "id": "a78a549a",
   "metadata": {},
   "outputs": [
    {
     "data": {
      "text/plain": [
       "((10000, 60), (10000, 59), (10000,), (10000, 59))"
      ]
     },
     "execution_count": 3,
     "metadata": {},
     "output_type": "execute_result"
    }
   ],
   "source": [
    "train_nn.shape, train_x_nn.shape, train_y_nn.shape, test_x_nn.shape"
   ]
  },
  {
   "cell_type": "code",
   "execution_count": 4,
   "id": "a3658b80",
   "metadata": {},
   "outputs": [],
   "source": [
    "# ---------------------------------\n",
    "# hold-out 데이터 예측치를 이용한 앙상블\n",
    "# ----------------------------------\n",
    "from sklearn.metrics import log_loss\n",
    "from sklearn.model_selection import KFold\n",
    "\n",
    "kf = KFold(n_splits=4, shuffle=True, random_state=71)\n",
    "tr_idx, va_index = list(kf.split(train_x))[0]\n",
    "tr_x, va_x = train_x.iloc[tr_idx], train_x.iloc[va_index]\n",
    "tr_y, va_y = train_y.iloc[tr_idx], train_y.iloc[va_index]\n",
    "tr_x_nn, va_x_nn = train_x_nn.iloc[tr_idx], train_x_nn.iloc[va_index]"
   ]
  },
  {
   "cell_type": "code",
   "execution_count": 5,
   "id": "a79bb802",
   "metadata": {},
   "outputs": [
    {
     "data": {
      "text/plain": [
       "((7500, 28), (7500,), (2500, 28), (2500,))"
      ]
     },
     "execution_count": 5,
     "metadata": {},
     "output_type": "execute_result"
    }
   ],
   "source": [
    "tr_x.shape, tr_y.shape, va_x.shape, va_y.shape"
   ]
  },
  {
   "cell_type": "code",
   "execution_count": 6,
   "id": "9becc31c",
   "metadata": {},
   "outputs": [
    {
     "data": {
      "text/plain": [
       "((7500, 59), (2500, 59))"
      ]
     },
     "execution_count": 6,
     "metadata": {},
     "output_type": "execute_result"
    }
   ],
   "source": [
    "tr_x_nn.shape, va_x_nn.shape"
   ]
  },
  {
   "cell_type": "markdown",
   "id": "f6020eae",
   "metadata": {},
   "source": [
    "### 모델 학습 및 예측"
   ]
  },
  {
   "cell_type": "code",
   "execution_count": 8,
   "id": "420b4330",
   "metadata": {},
   "outputs": [
    {
     "name": "stdout",
     "output_type": "stream",
     "text": [
      "[14:03:30] WARNING: C:\\buildkite-agent\\builds\\buildkite-windows-cpu-autoscaling-group-i-07593ffd91cd9da33-1\\xgboost\\xgboost-ci-windows\\src\\learner.cc:767: \n",
      "Parameters: { \"silent\" } are not used.\n",
      "\n",
      "[0]\ttrain-logloss:0.54088\teval-logloss:0.55003\n",
      "[1]\ttrain-logloss:0.45269\teval-logloss:0.47182\n",
      "[2]\ttrain-logloss:0.39482\teval-logloss:0.42026\n",
      "[3]\ttrain-logloss:0.35198\teval-logloss:0.38520\n",
      "[4]\ttrain-logloss:0.32021\teval-logloss:0.36150\n",
      "[5]\ttrain-logloss:0.29673\teval-logloss:0.34463\n",
      "[6]\ttrain-logloss:0.27610\teval-logloss:0.32900\n",
      "[7]\ttrain-logloss:0.25886\teval-logloss:0.31670\n",
      "[8]\ttrain-logloss:0.24363\teval-logloss:0.30775\n",
      "[9]\ttrain-logloss:0.23153\teval-logloss:0.30093\n"
     ]
    }
   ],
   "source": [
    "# models.py에 Model1_1, Model1_2, Model2를 정의하고 있는 것으로 함\n",
    "# 각 클래스는 fit로 학습하고 predict로 예측값 확률을 출력한다\n",
    "from models import Model1Xgb, Model1NN, Model2Linear\n",
    "\n",
    "# 1층모델\n",
    "# 학습 데이터로 학습하고 hold-out 데이터와 테스트 데이터에 대한 예측 값을 출력\n",
    "model_1a = Model1Xgb()\n",
    "model_1a.fit(tr_x, tr_y, va_x, va_y)\n",
    "va_pred_1a = model_1a.predict(va_x)\n",
    "test_pred_1a = model_1a.predict(test_x)"
   ]
  },
  {
   "cell_type": "code",
   "execution_count": 9,
   "id": "e7f13f76",
   "metadata": {},
   "outputs": [
    {
     "name": "stdout",
     "output_type": "stream",
     "text": [
      "Epoch 1/10\n",
      "59/59 [==============================] - 1s 3ms/step - loss: 0.4353 - val_loss: 0.3855\n",
      "Epoch 2/10\n",
      "59/59 [==============================] - 0s 3ms/step - loss: 0.3662 - val_loss: 0.3811\n",
      "Epoch 3/10\n",
      "59/59 [==============================] - 0s 3ms/step - loss: 0.3394 - val_loss: 0.3798\n",
      "Epoch 4/10\n",
      "59/59 [==============================] - 0s 3ms/step - loss: 0.3195 - val_loss: 0.3668\n",
      "Epoch 5/10\n",
      "59/59 [==============================] - 0s 2ms/step - loss: 0.3004 - val_loss: 0.3648\n",
      "Epoch 6/10\n",
      "59/59 [==============================] - 0s 2ms/step - loss: 0.2747 - val_loss: 0.3414\n",
      "Epoch 7/10\n",
      "59/59 [==============================] - 0s 3ms/step - loss: 0.2492 - val_loss: 0.3227\n",
      "Epoch 8/10\n",
      "59/59 [==============================] - 0s 3ms/step - loss: 0.2249 - val_loss: 0.3101\n",
      "Epoch 9/10\n",
      "59/59 [==============================] - 0s 3ms/step - loss: 0.2013 - val_loss: 0.2989\n",
      "Epoch 10/10\n",
      "59/59 [==============================] - 0s 4ms/step - loss: 0.1826 - val_loss: 0.2876\n",
      "79/79 [==============================] - 0s 915us/step\n",
      "313/313 [==============================] - 0s 1ms/step\n"
     ]
    }
   ],
   "source": [
    "model_1b = Model1NN()\n",
    "model_1b.fit(tr_x_nn, tr_y, va_x_nn, va_y)\n",
    "va_pred_1b = model_1b.predict(va_x_nn)\n",
    "test_pred_1b = model_1b.predict(test_x_nn)"
   ]
  },
  {
   "cell_type": "code",
   "execution_count": 10,
   "id": "70b22d9e",
   "metadata": {},
   "outputs": [
    {
     "name": "stdout",
     "output_type": "stream",
     "text": [
      "logloss: 0.3009\n",
      "logloss: 0.2876\n"
     ]
    }
   ],
   "source": [
    "# hold-out 데이터에서의 정밀도 평가하기\n",
    "print(f'logloss: {log_loss(va_y, va_pred_1a, eps=1e-7):.4f}')\n",
    "print(f'logloss: {log_loss(va_y, va_pred_1b, eps=1e-7):.4f}')"
   ]
  },
  {
   "cell_type": "code",
   "execution_count": 11,
   "id": "116f5a62",
   "metadata": {},
   "outputs": [],
   "source": [
    "# hold-out 데이터와 테스트 데이터에 대한 예측 값을 특징량으로 데이터 프레임 생성\n",
    "va_x_2 = pd.DataFrame({'pred_1a': va_pred_1a, 'pred_1b': va_pred_1b})\n",
    "test_x_2 = pd.DataFrame({'pred_1a': test_pred_1a, 'pred_1b': test_pred_1b})\n",
    "\n",
    "# 2층모델\n",
    "# Hold-out 데이터 모두에서 학습하고 있으므로 평가할 수 없다.\n",
    "# 평가를 실시하기 위해서는 Hold-out 데이터를 더욱 크로스밸리데이션하는 방법을 생각할 수 있음.\n",
    "model2 = Model2Linear()\n",
    "model2.fit(va_x_2, va_y, None, None)\n",
    "pred_test_2 = model2.predict(test_x_2)"
   ]
  },
  {
   "cell_type": "code",
   "execution_count": null,
   "id": "044a7a55",
   "metadata": {},
   "outputs": [],
   "source": []
  }
 ],
 "metadata": {
  "kernelspec": {
   "display_name": "Python 3 (ipykernel)",
   "language": "python",
   "name": "python3"
  },
  "language_info": {
   "codemirror_mode": {
    "name": "ipython",
    "version": 3
   },
   "file_extension": ".py",
   "mimetype": "text/x-python",
   "name": "python",
   "nbconvert_exporter": "python",
   "pygments_lexer": "ipython3",
   "version": "3.9.13"
  }
 },
 "nbformat": 4,
 "nbformat_minor": 5
}
