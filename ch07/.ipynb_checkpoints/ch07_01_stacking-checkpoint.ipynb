{
 "cells": [
  {
   "cell_type": "markdown",
   "id": "f438dc70",
   "metadata": {},
   "source": [
    "### 스태킹(Stacking)"
   ]
  },
  {
   "cell_type": "markdown",
   "id": "106749d5",
   "metadata": {},
   "source": [
    "### 학습 내용"
   ]
  },
  {
   "cell_type": "markdown",
   "id": "ab518371",
   "metadata": {},
   "source": [
    "* 데이터 준비\n",
    "* 1계층 모델\n",
    "* 1계층 모델 평가\n",
    "* 2계층 모델 \n",
    "* 2계층 모델 평가"
   ]
  },
  {
   "cell_type": "markdown",
   "id": "7acc0db3",
   "metadata": {},
   "source": [
    "### 데이터 준비"
   ]
  },
  {
   "cell_type": "code",
   "execution_count": 1,
   "id": "47b2c257",
   "metadata": {},
   "outputs": [],
   "source": [
    "# ---------------------------------\n",
    "# 데이터 등의 사전 준비\n",
    "# ----------------------------------\n",
    "import numpy as np\n",
    "import pandas as pd\n",
    "\n",
    "# train_x는 학습 데이터, train_y는 목적 변수, test_x는 테스트 데이터\n",
    "# pandas의 DataFrame, Series로 유지합니다.(numpy의 array로 유지하기도 합니다)\n",
    "\n",
    "train = pd.read_csv('../input/sample-data/train_preprocessed.csv')\n",
    "train_x = train.drop(['target'], axis=1)\n",
    "train_y = train['target']\n",
    "test_x = pd.read_csv('../input/sample-data/test_preprocessed.csv')\n",
    "\n",
    "# neural net용의 데이터\n",
    "train_nn = pd.read_csv('../input/sample-data/train_preprocessed_onehot.csv')\n",
    "train_x_nn = train_nn.drop(['target'], axis=1)\n",
    "train_y_nn = train_nn['target']\n",
    "test_x_nn = pd.read_csv('../input/sample-data/test_preprocessed_onehot.csv')"
   ]
  },
  {
   "cell_type": "code",
   "execution_count": 2,
   "id": "161ed57f",
   "metadata": {},
   "outputs": [
    {
     "data": {
      "text/plain": [
       "((10000, 29), (10000, 28), (10000,), (10000, 28))"
      ]
     },
     "execution_count": 2,
     "metadata": {},
     "output_type": "execute_result"
    }
   ],
   "source": [
    "train.shape, train_x.shape, train_y.shape, test_x.shape"
   ]
  },
  {
   "cell_type": "code",
   "execution_count": 3,
   "id": "6d36f76e",
   "metadata": {},
   "outputs": [
    {
     "data": {
      "text/plain": [
       "((10000, 60), (10000, 59), (10000,), (10000, 59))"
      ]
     },
     "execution_count": 3,
     "metadata": {},
     "output_type": "execute_result"
    }
   ],
   "source": [
    "train_nn.shape, train_x_nn.shape, train_y_nn.shape, test_x_nn.shape"
   ]
  },
  {
   "cell_type": "markdown",
   "id": "67b41ec8",
   "metadata": {},
   "source": [
    "### 스태킹(stacking)"
   ]
  },
  {
   "cell_type": "code",
   "execution_count": 4,
   "id": "504faee2",
   "metadata": {},
   "outputs": [],
   "source": [
    "# ---------------------------------\n",
    "# 스태킹(stacking)\n",
    "# ----------------------------------\n",
    "from sklearn.metrics import log_loss\n",
    "from sklearn.model_selection import KFold\n",
    "\n",
    "# models.py에 Model1Xgb, Model1NN, Model2Linear을 정의하는 것으로 함\n",
    "# 각 클래스는 fit로 학습하고 predict로 예측값 확률을 출력\n",
    "\n",
    "from models import Model1Xgb, Model1NN, Model2Linear\n",
    "\n",
    "# 학습 데이터에 대한 ‘목적변수를 모르는’예측값과, 테스트 데이터에 대한 예측값을 반환하는 함수\n",
    "def predict_cv(model, train_x, train_y, test_x):\n",
    "    preds = []\n",
    "    preds_test = []\n",
    "    va_idxes = []\n",
    "\n",
    "    kf = KFold(n_splits=4, shuffle=True, random_state=71)\n",
    "\n",
    "    # 교차 검증으로 학습・예측하여 예측값과 인덱스를 보존\n",
    "    for i, (tr_idx, va_idx) in enumerate(kf.split(train_x)):\n",
    "        tr_x, va_x = train_x.iloc[tr_idx], train_x.iloc[va_idx]\n",
    "        tr_y, va_y = train_y.iloc[tr_idx], train_y.iloc[va_idx]\n",
    "        model.fit(tr_x, tr_y, va_x, va_y)\n",
    "        pred = model.predict(va_x)\n",
    "        preds.append(pred)\n",
    "        pred_test = model.predict(test_x)\n",
    "        preds_test.append(pred_test)\n",
    "        va_idxes.append(va_idx)\n",
    "\n",
    "    # 검증에 대한 예측값을 연결하고 이후 원래 순서로 정렬\n",
    "    va_idxes = np.concatenate(va_idxes)\n",
    "    preds = np.concatenate(preds, axis=0)\n",
    "    order = np.argsort(va_idxes)\n",
    "    pred_train = preds[order]\n",
    "\n",
    "    # 테스트 데이터에 대한 예측값의 평균 획득\n",
    "    preds_test = np.mean(preds_test, axis=0)\n",
    "    return pred_train, preds_test"
   ]
  },
  {
   "cell_type": "code",
   "execution_count": 5,
   "id": "4d465e17",
   "metadata": {},
   "outputs": [
    {
     "name": "stdout",
     "output_type": "stream",
     "text": [
      "[14:00:15] WARNING: C:\\buildkite-agent\\builds\\buildkite-windows-cpu-autoscaling-group-i-07593ffd91cd9da33-1\\xgboost\\xgboost-ci-windows\\src\\learner.cc:767: \n",
      "Parameters: { \"silent\" } are not used.\n",
      "\n",
      "[0]\ttrain-logloss:0.54088\teval-logloss:0.55003\n",
      "[1]\ttrain-logloss:0.45269\teval-logloss:0.47182\n",
      "[2]\ttrain-logloss:0.39482\teval-logloss:0.42026\n",
      "[3]\ttrain-logloss:0.35198\teval-logloss:0.38520\n",
      "[4]\ttrain-logloss:0.32021\teval-logloss:0.36150\n",
      "[5]\ttrain-logloss:0.29673\teval-logloss:0.34463\n",
      "[6]\ttrain-logloss:0.27610\teval-logloss:0.32900\n",
      "[7]\ttrain-logloss:0.25886\teval-logloss:0.31670\n",
      "[8]\ttrain-logloss:0.24363\teval-logloss:0.30775\n",
      "[9]\ttrain-logloss:0.23153\teval-logloss:0.30093\n",
      "[14:00:15] WARNING: C:\\buildkite-agent\\builds\\buildkite-windows-cpu-autoscaling-group-i-07593ffd91cd9da33-1\\xgboost\\xgboost-ci-windows\\src\\learner.cc:767: \n",
      "Parameters: { \"silent\" } are not used.\n",
      "\n",
      "[0]\ttrain-logloss:0.53891\teval-logloss:0.54864\n",
      "[1]\ttrain-logloss:0.45219\teval-logloss:0.47149\n",
      "[2]\ttrain-logloss:0.39574\teval-logloss:0.41998\n",
      "[3]\ttrain-logloss:0.35476\teval-logloss:0.38413\n",
      "[4]\ttrain-logloss:0.32218\teval-logloss:0.35626\n",
      "[5]\ttrain-logloss:0.29945\teval-logloss:0.33910\n",
      "[6]\ttrain-logloss:0.27783\teval-logloss:0.32552\n",
      "[7]\ttrain-logloss:0.26326\teval-logloss:0.31573\n",
      "[8]\ttrain-logloss:0.24780\teval-logloss:0.30592\n",
      "[9]\ttrain-logloss:0.23369\teval-logloss:0.29596\n",
      "[14:00:15] WARNING: C:\\buildkite-agent\\builds\\buildkite-windows-cpu-autoscaling-group-i-07593ffd91cd9da33-1\\xgboost\\xgboost-ci-windows\\src\\learner.cc:767: \n",
      "Parameters: { \"silent\" } are not used.\n",
      "\n",
      "[0]\ttrain-logloss:0.54332\teval-logloss:0.55058\n",
      "[1]\ttrain-logloss:0.45437\teval-logloss:0.46830\n",
      "[2]\ttrain-logloss:0.39712\teval-logloss:0.41763\n",
      "[3]\ttrain-logloss:0.35413\teval-logloss:0.38086\n",
      "[4]\ttrain-logloss:0.32187\teval-logloss:0.35824\n",
      "[5]\ttrain-logloss:0.29769\teval-logloss:0.33834\n",
      "[6]\ttrain-logloss:0.27822\teval-logloss:0.32579\n",
      "[7]\ttrain-logloss:0.26050\teval-logloss:0.31308\n",
      "[8]\ttrain-logloss:0.24437\teval-logloss:0.30016\n",
      "[9]\ttrain-logloss:0.23099\teval-logloss:0.29331\n",
      "[14:00:15] WARNING: C:\\buildkite-agent\\builds\\buildkite-windows-cpu-autoscaling-group-i-07593ffd91cd9da33-1\\xgboost\\xgboost-ci-windows\\src\\learner.cc:767: \n",
      "Parameters: { \"silent\" } are not used.\n",
      "\n",
      "[0]\ttrain-logloss:0.54166\teval-logloss:0.55012\n",
      "[1]\ttrain-logloss:0.45309\teval-logloss:0.46965\n",
      "[2]\ttrain-logloss:0.39439\teval-logloss:0.41932\n",
      "[3]\ttrain-logloss:0.35366\teval-logloss:0.38286\n",
      "[4]\ttrain-logloss:0.31902\teval-logloss:0.35792\n",
      "[5]\ttrain-logloss:0.29187\teval-logloss:0.33824\n",
      "[6]\ttrain-logloss:0.27289\teval-logloss:0.32628\n",
      "[7]\ttrain-logloss:0.25669\teval-logloss:0.31550\n",
      "[8]\ttrain-logloss:0.23894\teval-logloss:0.30375\n",
      "[9]\ttrain-logloss:0.22701\teval-logloss:0.29646\n"
     ]
    }
   ],
   "source": [
    "# 1계층 모델\n",
    "# pred_train_1a, pred_train_1b는 학습 데이터의 검증에서의 예측값\n",
    "# pred_test_1a, pred_test_1b는 테스트 데이터의 예측값\n",
    "model_1a = Model1Xgb()\n",
    "pred_train_1a, pred_test_1a = predict_cv(model_1a, train_x, train_y, test_x)"
   ]
  },
  {
   "cell_type": "code",
   "execution_count": 6,
   "id": "2ed5a529",
   "metadata": {},
   "outputs": [
    {
     "name": "stdout",
     "output_type": "stream",
     "text": [
      "Epoch 1/10\n",
      "59/59 [==============================] - 1s 4ms/step - loss: 0.4259 - val_loss: 0.3907\n",
      "Epoch 2/10\n",
      "59/59 [==============================] - 0s 3ms/step - loss: 0.3624 - val_loss: 0.3819\n",
      "Epoch 3/10\n",
      "59/59 [==============================] - 0s 2ms/step - loss: 0.3401 - val_loss: 0.3686\n",
      "Epoch 4/10\n",
      "59/59 [==============================] - 0s 2ms/step - loss: 0.3204 - val_loss: 0.3617\n",
      "Epoch 5/10\n",
      "59/59 [==============================] - 0s 2ms/step - loss: 0.2970 - val_loss: 0.3489\n",
      "Epoch 6/10\n",
      "59/59 [==============================] - 0s 2ms/step - loss: 0.2645 - val_loss: 0.3345\n",
      "Epoch 7/10\n",
      "59/59 [==============================] - 0s 2ms/step - loss: 0.2405 - val_loss: 0.3167\n",
      "Epoch 8/10\n",
      "59/59 [==============================] - 0s 2ms/step - loss: 0.2141 - val_loss: 0.3055\n",
      "Epoch 9/10\n",
      "59/59 [==============================] - 0s 2ms/step - loss: 0.1979 - val_loss: 0.2922\n",
      "Epoch 10/10\n",
      "59/59 [==============================] - 0s 2ms/step - loss: 0.1909 - val_loss: 0.2926\n",
      "79/79 [==============================] - 0s 809us/step\n",
      "313/313 [==============================] - 0s 618us/step\n",
      "Epoch 1/10\n",
      "59/59 [==============================] - 1s 3ms/step - loss: 0.4323 - val_loss: 0.3845\n",
      "Epoch 2/10\n",
      "59/59 [==============================] - 0s 3ms/step - loss: 0.3693 - val_loss: 0.3699\n",
      "Epoch 3/10\n",
      "59/59 [==============================] - 0s 3ms/step - loss: 0.3469 - val_loss: 0.3617\n",
      "Epoch 4/10\n",
      "59/59 [==============================] - 0s 2ms/step - loss: 0.3300 - val_loss: 0.3543\n",
      "Epoch 5/10\n",
      "59/59 [==============================] - 0s 2ms/step - loss: 0.3096 - val_loss: 0.3425\n",
      "Epoch 6/10\n",
      "59/59 [==============================] - 0s 3ms/step - loss: 0.2868 - val_loss: 0.3234\n",
      "Epoch 7/10\n",
      "59/59 [==============================] - 0s 2ms/step - loss: 0.2627 - val_loss: 0.3032\n",
      "Epoch 8/10\n",
      "59/59 [==============================] - 0s 2ms/step - loss: 0.2364 - val_loss: 0.2812\n",
      "Epoch 9/10\n",
      "59/59 [==============================] - 0s 3ms/step - loss: 0.2074 - val_loss: 0.2761\n",
      "Epoch 10/10\n",
      "59/59 [==============================] - 0s 2ms/step - loss: 0.1898 - val_loss: 0.2672\n",
      "79/79 [==============================] - 0s 741us/step\n",
      "313/313 [==============================] - 0s 623us/step\n",
      "Epoch 1/10\n",
      "59/59 [==============================] - 1s 3ms/step - loss: 0.4464 - val_loss: 0.3700\n",
      "Epoch 2/10\n",
      "59/59 [==============================] - 0s 2ms/step - loss: 0.3717 - val_loss: 0.3549\n",
      "Epoch 3/10\n",
      "59/59 [==============================] - 0s 2ms/step - loss: 0.3476 - val_loss: 0.3468\n",
      "Epoch 4/10\n",
      "59/59 [==============================] - 0s 2ms/step - loss: 0.3308 - val_loss: 0.3357\n",
      "Epoch 5/10\n",
      "59/59 [==============================] - 0s 2ms/step - loss: 0.3020 - val_loss: 0.3166\n",
      "Epoch 6/10\n",
      "59/59 [==============================] - 0s 2ms/step - loss: 0.2759 - val_loss: 0.3035\n",
      "Epoch 7/10\n",
      "59/59 [==============================] - 0s 2ms/step - loss: 0.2470 - val_loss: 0.2843\n",
      "Epoch 8/10\n",
      "59/59 [==============================] - 0s 2ms/step - loss: 0.2200 - val_loss: 0.2815\n",
      "Epoch 9/10\n",
      "59/59 [==============================] - 0s 2ms/step - loss: 0.1997 - val_loss: 0.2883\n",
      "Epoch 10/10\n",
      "59/59 [==============================] - 0s 2ms/step - loss: 0.1782 - val_loss: 0.2719\n",
      "79/79 [==============================] - 0s 667us/step\n",
      "313/313 [==============================] - 0s 638us/step\n",
      "Epoch 1/10\n",
      "59/59 [==============================] - 1s 4ms/step - loss: 0.4301 - val_loss: 0.3736\n",
      "Epoch 2/10\n",
      "59/59 [==============================] - 0s 2ms/step - loss: 0.3683 - val_loss: 0.3696\n",
      "Epoch 3/10\n",
      "59/59 [==============================] - 0s 2ms/step - loss: 0.3446 - val_loss: 0.3553\n",
      "Epoch 4/10\n",
      "59/59 [==============================] - 0s 2ms/step - loss: 0.3212 - val_loss: 0.3499\n",
      "Epoch 5/10\n",
      "59/59 [==============================] - 0s 2ms/step - loss: 0.3028 - val_loss: 0.3461\n",
      "Epoch 6/10\n",
      "59/59 [==============================] - 0s 2ms/step - loss: 0.2794 - val_loss: 0.3339\n",
      "Epoch 7/10\n",
      "59/59 [==============================] - 0s 2ms/step - loss: 0.2519 - val_loss: 0.3380\n",
      "Epoch 8/10\n",
      "59/59 [==============================] - 0s 3ms/step - loss: 0.2242 - val_loss: 0.2992\n",
      "Epoch 9/10\n",
      "59/59 [==============================] - 0s 3ms/step - loss: 0.1982 - val_loss: 0.2942\n",
      "Epoch 10/10\n",
      "59/59 [==============================] - 0s 2ms/step - loss: 0.1836 - val_loss: 0.2820\n",
      "79/79 [==============================] - 0s 738us/step\n",
      "313/313 [==============================] - 0s 597us/step\n"
     ]
    }
   ],
   "source": [
    "model_1b = Model1NN()\n",
    "pred_train_1b, pred_test_1b = predict_cv(model_1b, train_x_nn, train_y, test_x_nn)"
   ]
  },
  {
   "cell_type": "code",
   "execution_count": 7,
   "id": "dc3a82fa",
   "metadata": {},
   "outputs": [
    {
     "name": "stdout",
     "output_type": "stream",
     "text": [
      "logloss: 0.2967\n",
      "logloss: 0.2784\n"
     ]
    }
   ],
   "source": [
    "# 1계층 모델의 평가\n",
    "print(f'logloss: {log_loss(train_y, pred_train_1a, eps=1e-7):.4f}')\n",
    "print(f'logloss: {log_loss(train_y, pred_train_1b, eps=1e-7):.4f}')"
   ]
  },
  {
   "cell_type": "markdown",
   "id": "83cefb11",
   "metadata": {},
   "source": [
    "### 2계층 모델"
   ]
  },
  {
   "cell_type": "code",
   "execution_count": 8,
   "id": "fbcc2fde",
   "metadata": {},
   "outputs": [
    {
     "name": "stdout",
     "output_type": "stream",
     "text": [
      "logloss: 0.2487\n"
     ]
    }
   ],
   "source": [
    "# 예측값을 특징으로 데이터 프레임을 작성\n",
    "train_x_2 = pd.DataFrame({'pred_1a': pred_train_1a, 'pred_1b': pred_train_1b})\n",
    "test_x_2 = pd.DataFrame({'pred_1a': pred_test_1a, 'pred_1b': pred_test_1b})\n",
    "\n",
    "# 2계층 모델\n",
    "# pred_train_2는 2계층 모델의 학습 데이터로 교차 검증에서의 예측값\n",
    "# pred_test_2는 2계층 모델의 테스트 데이터 예측값\n",
    "model_2 = Model2Linear()\n",
    "pred_train_2, pred_test_2 = predict_cv(model_2, train_x_2, train_y, test_x_2)\n",
    "print(f'logloss: {log_loss(train_y, pred_train_2, eps=1e-7):.4f}')"
   ]
  }
 ],
 "metadata": {
  "kernelspec": {
   "display_name": "Python 3 (ipykernel)",
   "language": "python",
   "name": "python3"
  },
  "language_info": {
   "codemirror_mode": {
    "name": "ipython",
    "version": 3
   },
   "file_extension": ".py",
   "mimetype": "text/x-python",
   "name": "python",
   "nbconvert_exporter": "python",
   "pygments_lexer": "ipython3",
   "version": "3.9.13"
  }
 },
 "nbformat": 4,
 "nbformat_minor": 5
}
