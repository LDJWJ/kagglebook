{
 "cells": [
  {
   "cell_type": "markdown",
   "id": "aad3abe6",
   "metadata": {},
   "source": [
    "### Adversarial Stochastic Blending"
   ]
  },
  {
   "cell_type": "markdown",
   "id": "9edd586b",
   "metadata": {},
   "source": [
    "### 학습 내용"
   ]
  },
  {
   "cell_type": "markdown",
   "id": "b889eaad",
   "metadata": {},
   "source": [
    "* 데이터 준비\n",
    "* Adversarial Stochastic Blending\n",
    "* 모델 가중치 값 계산"
   ]
  },
  {
   "cell_type": "markdown",
   "id": "fe9d4c8f",
   "metadata": {},
   "source": [
    "### 데이터 준비"
   ]
  },
  {
   "cell_type": "code",
   "execution_count": 1,
   "id": "9121bac1",
   "metadata": {},
   "outputs": [],
   "source": [
    "# ---------------------------------\n",
    "# 데이터 등의 사전 준비\n",
    "# ----------------------------------\n",
    "import numpy as np\n",
    "import pandas as pd\n",
    "\n",
    "# 데이터의 작성(랜덤 데이터로 하고 있음.)\n",
    "rand = np.random.RandomState(71)\n",
    "train_x = pd.DataFrame(rand.uniform(0.0, 1.0, (10000, 2)), columns=['model1', 'model2'])\n",
    "adv_train = pd.Series(rand.uniform(0.0, 1.0, 10000))\n",
    "w = np.array([0.3, 0.7]).reshape(1, -1)\n",
    "train_y = pd.Series((train_x.values * w).sum(axis=1) > 0.5)"
   ]
  },
  {
   "cell_type": "code",
   "execution_count": 2,
   "id": "a3fcd2ea",
   "metadata": {},
   "outputs": [],
   "source": [
    "# ---------------------------------\n",
    "# adversarial stochastic blending\n",
    "# ----------------------------------\n",
    "# 모델의 예측값을 가중평균하는 가중치 값을 적대적 검증(adversarial validation)으로 구함\n",
    "# train_x: 각 모델에 의한 확률 예측값(실제로는 순위로 변환한 것을 사용)\n",
    "# train_y: 목적변수\n",
    "# adv_train: 학습 데이터의 테스트 데이터다움을 확률로 나타낸 값\n",
    "\n",
    "from scipy.optimize import minimize\n",
    "from sklearn.metrics import roc_auc_score\n",
    "\n",
    "n_sampling = 50      # 샘플링 횟수\n",
    "frac_sampling = 0.5  # 샘플링에서 학습 데이터를 추출하는 비율"
   ]
  },
  {
   "cell_type": "code",
   "execution_count": 3,
   "id": "17a77b7b",
   "metadata": {},
   "outputs": [],
   "source": [
    "def score(x, data_x, data_y):\n",
    "    # 평가지표는 AUC로 함\n",
    "    y_prob = data_x['model1'] * x + data_x['model2'] * (1 - x)\n",
    "    return -roc_auc_score(data_y, y_prob)\n",
    "\n",
    "# 샘플링으로 가중평균의 가중치 값을 구하는 작업을 반복\n",
    "results = []\n",
    "for i in range(n_sampling):\n",
    "    # 샘플링을 수행\n",
    "    seed = i\n",
    "    idx = pd.Series(np.arange(len(train_y))).sample(frac=frac_sampling, replace=False,\n",
    "                                                    random_state=seed, weights=adv_train)\n",
    "    x_sample = train_x.iloc[idx]\n",
    "    y_sample = train_y.iloc[idx]\n",
    "\n",
    "    # 샘플링한 데이터에 대하여 가중평균의 가중치 값을 최적화로 구하기\n",
    "    # 제약식을 갖도록 알고리즘은 COBYLA를 선택\n",
    "    init_x = np.array(0.5)\n",
    "    constraints = (\n",
    "        {'type': 'ineq', 'fun': lambda x: x},\n",
    "        {'type': 'ineq', 'fun': lambda x: 1.0 - x},\n",
    "    )\n",
    "    result = minimize(score, x0=init_x,\n",
    "                      args=(x_sample, y_sample),\n",
    "                      constraints=constraints,\n",
    "                      method='COBYLA')\n",
    "    results.append((result.x, 1.0 - result.x))\n",
    "\n",
    "# model1, model2의 가중평균의 가중치\n",
    "results = np.array(results)\n",
    "w_model1, w_model2 = results.mean(axis=0)"
   ]
  },
  {
   "cell_type": "code",
   "execution_count": null,
   "id": "058d91c9",
   "metadata": {},
   "outputs": [],
   "source": []
  }
 ],
 "metadata": {
  "kernelspec": {
   "display_name": "Python 3 (ipykernel)",
   "language": "python",
   "name": "python3"
  },
  "language_info": {
   "codemirror_mode": {
    "name": "ipython",
    "version": 3
   },
   "file_extension": ".py",
   "mimetype": "text/x-python",
   "name": "python",
   "nbconvert_exporter": "python",
   "pygments_lexer": "ipython3",
   "version": "3.9.13"
  }
 },
 "nbformat": 4,
 "nbformat_minor": 5
}
