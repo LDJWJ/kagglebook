{
 "cells": [
  {
   "cell_type": "markdown",
   "id": "9a530f8f",
   "metadata": {},
   "source": [
    "### Greedy Forward Selection를 사용한 특징 선택"
   ]
  },
  {
   "cell_type": "markdown",
   "id": "e8c9b65f",
   "metadata": {},
   "source": [
    "### 학습 내용\n",
    " * 데이터 준비\n",
    " * evaluate 함수 정의\n",
    " * Greedy Forward Selection\n",
    " * 단순화한 Greedy Forward Selection"
   ]
  },
  {
   "cell_type": "markdown",
   "id": "66153ca6",
   "metadata": {},
   "source": [
    "### 데이터 준비"
   ]
  },
  {
   "cell_type": "code",
   "execution_count": 7,
   "id": "2bffdb68",
   "metadata": {},
   "outputs": [],
   "source": [
    "# ---------------------------------\n",
    "# 데이터 등의 사전 준비\n",
    "# ----------------------------------\n",
    "import numpy as np\n",
    "import pandas as pd\n",
    "\n",
    "# train_x는 학습 데이터, train_y는 목적 변수, test_x는 테스트 데이터\n",
    "# pandas의 DataFrame, Series로 유지합니다.(numpy의 array로 유지하기도 합니다)\n",
    "\n",
    "train = pd.read_csv('../input/sample-data/train_preprocessed.csv')\n",
    "train_x = train.drop(['target'], axis=1)\n",
    "train_y = train['target']\n",
    "test_x = pd.read_csv('../input/sample-data/test_preprocessed.csv')"
   ]
  },
  {
   "cell_type": "code",
   "execution_count": 8,
   "id": "12175a5e",
   "metadata": {},
   "outputs": [
    {
     "data": {
      "text/plain": [
       "((10000, 29), (10000, 28), (10000,), (10000, 28))"
      ]
     },
     "execution_count": 8,
     "metadata": {},
     "output_type": "execute_result"
    }
   ],
   "source": [
    "train.shape, train_x.shape, train_y.shape, test_x.shape"
   ]
  },
  {
   "cell_type": "markdown",
   "id": "b18e8ede",
   "metadata": {},
   "source": [
    "### 데이터 나누기"
   ]
  },
  {
   "cell_type": "code",
   "execution_count": 9,
   "id": "d03b719b",
   "metadata": {},
   "outputs": [
    {
     "data": {
      "text/plain": [
       "((7500, 28), (2500, 28), (7500,), (2500,))"
      ]
     },
     "execution_count": 9,
     "metadata": {},
     "output_type": "execute_result"
    }
   ],
   "source": [
    "# 학습 데이터를 학습 데이터와 검증 데이터로 나누기\n",
    "from sklearn.model_selection import KFold\n",
    "\n",
    "kf = KFold(n_splits=4, shuffle=True, random_state=71)\n",
    "tr_idx, va_idx = list(kf.split(train_x))[0]\n",
    "tr_x, va_x = train_x.iloc[tr_idx], train_x.iloc[va_idx]\n",
    "tr_y, va_y = train_y.iloc[tr_idx], train_y.iloc[va_idx]\n",
    "\n",
    "tr_x.shape, va_x.shape, tr_y.shape, va_y.shape"
   ]
  },
  {
   "cell_type": "markdown",
   "id": "617f13f4",
   "metadata": {},
   "source": [
    "### evaluate 함수 정의"
   ]
  },
  {
   "cell_type": "code",
   "execution_count": 10,
   "id": "9551fffb",
   "metadata": {},
   "outputs": [],
   "source": [
    "# 특징의 리스트에 대해 정밀도를 평가하는 evaluate 함수 정의\n",
    "import xgboost as xgb\n",
    "from sklearn.metrics import log_loss\n",
    "\n",
    "\n",
    "def evaluate(features):\n",
    "    dtrain = xgb.DMatrix(tr_x[features], label=tr_y)\n",
    "    dvalid = xgb.DMatrix(va_x[features], label=va_y)\n",
    "    # params = {'objective': 'binary:logistic', 'silent': 1, 'random_state': 71}  # 기존\n",
    "    params = {'objective': 'binary:logistic', 'verbosity': 0, 'random_state': 71}    # 이슈 대응\n",
    "    num_round = 10     # 실제로는 더 많은 round수가 필요함\n",
    "    early_stopping_rounds = 3\n",
    "    watchlist = [(dtrain, 'train'), (dvalid, 'eval')]\n",
    "    model = xgb.train(params, dtrain, num_round,\n",
    "                      evals=watchlist, early_stopping_rounds=early_stopping_rounds,\n",
    "                      verbose_eval=0)\n",
    "    va_pred = model.predict(dvalid)\n",
    "    score = log_loss(va_y, va_pred)\n",
    "\n",
    "    return score"
   ]
  },
  {
   "cell_type": "markdown",
   "id": "969255fb",
   "metadata": {},
   "source": [
    "### Greedy Forward Selection\n",
    " * 각 특징에 대해 evaluate 함수를 호출하여 점수를 계산하고, 가장 좋은 점수를 가지는 특징을 선택하여 추가\n",
    " * 선택된 특징과 해당 특징의 점수를 출력하고, 점수가 개선되지 않을 경우 종료.\n",
    " * 최종적으로 선택된 특징들을 출력."
   ]
  },
  {
   "cell_type": "code",
   "execution_count": 11,
   "id": "74190a74",
   "metadata": {},
   "outputs": [
    {
     "name": "stdout",
     "output_type": "stream",
     "text": [
      "start greedy forward selection\n",
      "selected:medical_info_a1\n",
      "score:0.4638764099634843\n",
      "selected:weight\n",
      "score:0.4346644402457856\n",
      "selected:height\n",
      "score:0.39207130266144324\n",
      "selected:medical_keyword_5\n",
      "score:0.37057836959580936\n",
      "selected:age\n",
      "score:0.3486370122790483\n",
      "selected:medical_info_a2\n",
      "score:0.34086903247488837\n",
      "selected:medical_keyword_4\n",
      "score:0.331715060720503\n",
      "selected:medical_keyword_2\n",
      "score:0.32059751101174727\n",
      "selected:medical_keyword_3\n",
      "score:0.31387996595027773\n",
      "selected:product\n",
      "score:0.30854146987522024\n",
      "selected:sex\n",
      "score:0.2988285641023615\n",
      "selected features: {'age', 'weight', 'medical_keyword_2', 'sex', 'medical_keyword_4', 'medical_keyword_3', 'medical_info_a2', 'medical_info_a1', 'medical_keyword_5', 'product', 'height'}\n"
     ]
    }
   ],
   "source": [
    "# ---------------------------------\n",
    "# Greedy Forward Selection\n",
    "# ----------------------------------\n",
    "best_score = 9999.0\n",
    "selected = set([])\n",
    "\n",
    "print('start greedy forward selection')\n",
    "\n",
    "while True:\n",
    "    if len(selected) == len(train_x.columns):\n",
    "        # 모든 특징이 선정되어 종료\n",
    "        break\n",
    "\n",
    "    scores = []\n",
    "    for feature in train_x.columns:\n",
    "        if feature not in selected:\n",
    "            # 특징의 리스트에 대해서 정도를 평가하는 evaluate 함수로 수행\n",
    "            fs = list(selected) + [feature]\n",
    "            score = evaluate(fs)\n",
    "            scores.append((feature, score))\n",
    "\n",
    "    # 점수는 낮은 쪽이 좋다고 가정\n",
    "    b_feature, b_score = sorted(scores, key=lambda tpl: tpl[1])[0]\n",
    "    if b_score < best_score:\n",
    "        selected.add(b_feature)\n",
    "        best_score = b_score\n",
    "        print(f'selected:{b_feature}')\n",
    "        print(f'score:{b_score}')\n",
    "    else:\n",
    "        # 어떤 특징을 추가해도 점수가 오르지 않으므로 종료\n",
    "        break\n",
    "\n",
    "print(f'selected features: {selected}')"
   ]
  },
  {
   "cell_type": "markdown",
   "id": "0e9a7c42",
   "metadata": {},
   "source": [
    "### 단순화한 Greedy Forward Selection"
   ]
  },
  {
   "cell_type": "code",
   "execution_count": 12,
   "id": "a0b89e1f",
   "metadata": {},
   "outputs": [
    {
     "name": "stdout",
     "output_type": "stream",
     "text": [
      "start simple selection\n",
      "selected:product\n",
      "score:0.48586676302888027\n",
      "selected:weight\n",
      "score:0.46565555967529015\n",
      "selected:height\n",
      "score:0.4196039056537238\n",
      "selected:medical_keyword_4\n",
      "score:0.4172736471297666\n",
      "selected:medical_keyword_1\n",
      "score:0.4127028714151444\n",
      "selected:medical_keyword_2\n",
      "score:0.4013172811195767\n",
      "selected:age\n",
      "score:0.37954424205939585\n",
      "selected:medical_info_a1\n",
      "score:0.3471448002356393\n",
      "selected:medical_keyword_3\n",
      "score:0.33311759233573063\n",
      "selected:sex\n",
      "score:0.33044960464462875\n",
      "selected:medical_keyword_5\n",
      "score:0.3093475101700445\n",
      "selected:medical_keyword_10\n",
      "score:0.30531590318201407\n",
      "selected features: {'weight', 'age', 'medical_keyword_2', 'sex', 'medical_keyword_4', 'medical_keyword_10', 'medical_keyword_1', 'medical_keyword_3', 'medical_info_a1', 'medical_keyword_5', 'product', 'height'}\n"
     ]
    }
   ],
   "source": [
    "# ---------------------------------\n",
    "# Greedy Forward Selection 단순화한 기법\n",
    "# ----------------------------------\n",
    "\n",
    "best_score = 9999.0\n",
    "candidates = np.random.RandomState(71).permutation(train_x.columns)\n",
    "selected = set([])\n",
    "\n",
    "print('start simple selection')\n",
    "for feature in candidates:\n",
    "    # 특징의 리스트에 대해서 정밀도를 평가하는 evaluate 함수로 수행\n",
    "    fs = list(selected) + [feature]\n",
    "    score = evaluate(fs)\n",
    "\n",
    "    # 점수는 낮은 쪽이 좋다고 가정\n",
    "    if score < best_score:\n",
    "        selected.add(feature)\n",
    "        best_score = score\n",
    "        print(f'selected:{feature}')\n",
    "        print(f'score:{score}')\n",
    "\n",
    "print(f'selected features: {selected}')"
   ]
  }
 ],
 "metadata": {
  "kernelspec": {
   "display_name": "Python 3 (ipykernel)",
   "language": "python",
   "name": "python3"
  },
  "language_info": {
   "codemirror_mode": {
    "name": "ipython",
    "version": 3
   },
   "file_extension": ".py",
   "mimetype": "text/x-python",
   "name": "python",
   "nbconvert_exporter": "python",
   "pygments_lexer": "ipython3",
   "version": "3.10.9"
  }
 },
 "nbformat": 4,
 "nbformat_minor": 5
}
