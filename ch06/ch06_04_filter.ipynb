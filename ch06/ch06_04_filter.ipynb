{
 "cells": [
  {
   "cell_type": "markdown",
   "id": "0f1279d2",
   "metadata": {},
   "source": [
    "### 다양한 방법의 특성 중요도 계산"
   ]
  },
  {
   "cell_type": "markdown",
   "id": "6580677e",
   "metadata": {},
   "source": [
    "### 학습 내용\n",
    " * 데이터 및 라이브러리 준비\n",
    " * 상관계수\n",
    " * 스피어만 상관계수\n",
    " * \n",
    " * \n",
    " "
   ]
  },
  {
   "cell_type": "markdown",
   "id": "5ad839e5",
   "metadata": {},
   "source": [
    "### 데이터 및 라이브러리 준비"
   ]
  },
  {
   "cell_type": "code",
   "execution_count": 2,
   "id": "fc8991eb",
   "metadata": {},
   "outputs": [],
   "source": [
    "# ---------------------------------\n",
    "# 데이터 등의 사전 준비\n",
    "# ----------------------------------\n",
    "import numpy as np\n",
    "import pandas as pd\n",
    "\n",
    "# train_x는 학습 데이터, train_y는 목적 변수, test_x는 테스트 데이터\n",
    "# pandas의 DataFrame, Series로 유지합니다.(numpy의 array로 유지하기도 합니다)\n",
    "\n",
    "train = pd.read_csv('../input/sample-data/train_preprocessed_onehot.csv')\n",
    "train_x = train.drop(['target'], axis=1)\n",
    "train_y = train['target']\n",
    "test_x = pd.read_csv('../input/sample-data/test_preprocessed_onehot.csv')"
   ]
  },
  {
   "cell_type": "code",
   "execution_count": 3,
   "id": "fe7f8593",
   "metadata": {},
   "outputs": [
    {
     "data": {
      "text/plain": [
       "((10000, 60), (10000, 59), (10000,), (10000, 59))"
      ]
     },
     "execution_count": 3,
     "metadata": {},
     "output_type": "execute_result"
    }
   ],
   "source": [
    "train.shape, train_x.shape, train_y.shape, test_x.shape"
   ]
  },
  {
   "cell_type": "markdown",
   "id": "46c89c9b",
   "metadata": {},
   "source": [
    "### 상관계수"
   ]
  },
  {
   "cell_type": "code",
   "execution_count": 4,
   "id": "aa4b64f4",
   "metadata": {},
   "outputs": [
    {
     "name": "stdout",
     "output_type": "stream",
     "text": [
      "[3 0 1 2]\n",
      "[2 1 0 3]\n",
      "[30 20 10]\n"
     ]
    }
   ],
   "source": [
    "# ---------------------------------\n",
    "# argsort에 의한 인덱스 정렬\n",
    "# ---------------------------------\n",
    "# argsort을 사용하면 배열 값이 작은 순서/큰 순서로 인덱스를 정렬할 수 있음\n",
    "ary = np.array([10, 20, 30, 0])\n",
    "idx = ary.argsort()\n",
    "print(idx)        # 내림차순 - [3 0 1 2]\n",
    "print(idx[::-1])  # 오름차순 - [2 1 0 3]\n",
    "\n",
    "print(ary[idx[::-1][:3]])  # 베스트 3을 출력 - [30, 20, 10]"
   ]
  },
  {
   "cell_type": "code",
   "execution_count": 5,
   "id": "6efffe2c",
   "metadata": {},
   "outputs": [
    {
     "data": {
      "text/plain": [
       "array([ 0.15155308, -0.03848035, -0.01587774,  0.00437808, -0.05745262,\n",
       "        0.01244317, -0.04818237, -0.00645934,  0.00929829, -0.0161238 ,\n",
       "       -0.01654847,  0.02064493, -0.02566237,  0.11706115,  0.06674623,\n",
       "        0.03151524,  0.21805214, -0.09160657,  0.05898138,  0.01112385,\n",
       "        0.01577078, -0.0086167 , -0.00781526, -0.00465227,  0.0169584 ,\n",
       "        0.01027572,  0.00180568, -0.01968441,  0.00918564,  0.0048    ,\n",
       "       -0.01249621, -0.0061446 , -0.01798412, -0.01033541,  0.00798182,\n",
       "        0.00611048,  0.01136556,  0.00770744, -0.00688464, -0.00883057,\n",
       "        0.00662131,  0.05565687, -0.00061789,  0.05258075,  0.1184609 ,\n",
       "        0.16723961,  0.18109642,  0.21368557,  0.02593691, -0.00323286,\n",
       "       -0.00410098,  0.00132831, -0.0082405 , -0.01214077,  0.00790928,\n",
       "        0.00977458, -0.00654726, -0.09447413,  0.00140585])"
      ]
     },
     "execution_count": 5,
     "metadata": {},
     "output_type": "execute_result"
    }
   ],
   "source": [
    "# ---------------------------------\n",
    "# 상관계수\n",
    "# ---------------------------------\n",
    "import scipy.stats as st\n",
    "\n",
    "# 상관계수\n",
    "corrs = []\n",
    "for c in train_x.columns:\n",
    "    corr = np.corrcoef(train_x[c], train_y)[0, 1]\n",
    "    corrs.append(corr)\n",
    "corrs = np.array(corrs)\n",
    "corrs"
   ]
  },
  {
   "cell_type": "markdown",
   "id": "20a9026f",
   "metadata": {},
   "source": [
    "### 스피어만 상관계수"
   ]
  },
  {
   "cell_type": "markdown",
   "id": "804df6c0",
   "metadata": {},
   "source": [
    "* 스피어만 상관계수\n",
    "  * 두 변수 간의 순위 관계에 기반한 상관관계를 측정하는 방법.\n",
    "  * 피어슨 상관계수와 달리 변수들이 선형적인 관계를 가지지 않을 때에도 적용 가능.\n",
    "  * 값의 범위는 -1~1까지 범위를 갖는다."
   ]
  },
  {
   "cell_type": "code",
   "execution_count": 6,
   "id": "c09be9eb",
   "metadata": {},
   "outputs": [
    {
     "data": {
      "text/plain": [
       "array([ 0.15170291, -0.03848035, -0.01537461, -0.01277672, -0.05745262,\n",
       "        0.01244317, -0.04818237, -0.00645934,  0.00929829, -0.0161238 ,\n",
       "       -0.01654847,  0.02064493, -0.02566237,  0.11706115,  0.06674623,\n",
       "        0.03241061,  0.22182331, -0.08996273,  0.04639233,  0.01106225,\n",
       "        0.01577078, -0.0086167 , -0.00781526, -0.00465227,  0.0169584 ,\n",
       "        0.01027572,  0.00180568, -0.01968441,  0.00918564,  0.0048    ,\n",
       "       -0.01249621, -0.0061446 , -0.01798412, -0.01033541,  0.00798182,\n",
       "        0.00611048,  0.01136556,  0.00770744, -0.00688464, -0.00883057,\n",
       "        0.00662131,  0.03929422,  0.00287572,  0.05258075,  0.1184609 ,\n",
       "        0.16723961,  0.18109642,  0.21368557,  0.02593691, -0.00323286,\n",
       "       -0.00410098,  0.00132831, -0.0082405 , -0.01214077,  0.00796594,\n",
       "        0.00970581, -0.00655618, -0.09447413,  0.00140585])"
      ]
     },
     "execution_count": 6,
     "metadata": {},
     "output_type": "execute_result"
    }
   ],
   "source": [
    "# 스피어만 상관계수\n",
    "corrs_sp = []\n",
    "for c in train_x.columns:\n",
    "    corr_sp = st.spearmanr(train_x[c], train_y).correlation\n",
    "    corrs_sp.append(corr_sp)\n",
    "    \n",
    "corrs_sp = np.array(corrs_sp)\n",
    "corrs_sp"
   ]
  },
  {
   "cell_type": "markdown",
   "id": "dd31efb5",
   "metadata": {},
   "source": [
    "### 상관계수, 스피어만상관계수의 상위 중요도 출력"
   ]
  },
  {
   "cell_type": "code",
   "execution_count": 7,
   "id": "0314867d",
   "metadata": {},
   "outputs": [
    {
     "name": "stdout",
     "output_type": "stream",
     "text": [
      "['medical_info_a1' 'medical_keyword_5' 'medical_keyword_4'\n",
      " 'medical_keyword_3' 'age'] [0.21805214 0.21368557 0.18109642 0.16723961 0.15155308]\n",
      "['medical_info_a1' 'medical_keyword_5' 'medical_keyword_4'\n",
      " 'medical_keyword_3' 'age'] [0.22182331 0.21368557 0.18109642 0.16723961 0.15170291]\n"
     ]
    }
   ],
   "source": [
    "# 중요도의 상위를 출력(상위 5개까지).\n",
    "# np.argsort을 사용하여 값의 순서대로 나열한 인덱스를 취득할 수 있음\n",
    "idx = np.argsort(np.abs(corrs))[::-1]\n",
    "top_cols, top_importances = train_x.columns.values[idx][:5], corrs[idx][:5]\n",
    "print(top_cols, top_importances)\n",
    "\n",
    "idx2 = np.argsort(np.abs(corrs_sp))[::-1]\n",
    "top_cols2, top_importances2 = train_x.columns.values[idx][:5], corrs_sp[idx][:5]\n",
    "print(top_cols2, top_importances2)"
   ]
  },
  {
   "cell_type": "markdown",
   "id": "6f8413ea",
   "metadata": {},
   "source": [
    "### 카이제곱 통계량"
   ]
  },
  {
   "cell_type": "code",
   "execution_count": 8,
   "id": "92e5b628",
   "metadata": {},
   "outputs": [
    {
     "name": "stdout",
     "output_type": "stream",
     "text": [
      "['medical_keyword_5' 'medical_keyword_4' 'medical_keyword_3' 'product_9'\n",
      " 'medical_keyword_2'] [0.21368557 0.18109642 0.16723961 0.11706115 0.1184609 ]\n"
     ]
    }
   ],
   "source": [
    "# ---------------------------------\n",
    "# 카이제곱 통계량\n",
    "# ---------------------------------\n",
    "from sklearn.feature_selection import chi2\n",
    "from sklearn.preprocessing import MinMaxScaler\n",
    "\n",
    "# 카이제곱 통계량\n",
    "x = MinMaxScaler().fit_transform(train_x)\n",
    "c2, _ = chi2(x, train_y)\n",
    "\n",
    "# 중요도의 상윗값을 출력(상위 5개까지).\n",
    "idx = np.argsort(c2)[::-1]\n",
    "top_cols, top_importances = train_x.columns.values[idx][:5], corrs[idx][:5]\n",
    "print(top_cols, top_importances)"
   ]
  },
  {
   "cell_type": "markdown",
   "id": "01639d1c",
   "metadata": {},
   "source": [
    "### 상호정보량"
   ]
  },
  {
   "cell_type": "code",
   "execution_count": 9,
   "id": "df83a9a5",
   "metadata": {},
   "outputs": [
    {
     "name": "stdout",
     "output_type": "stream",
     "text": [
      "['medical_info_a1' 'weight' 'age' 'medical_keyword_5' 'medical_keyword_2'] [0.21805214 0.00437808 0.15155308 0.21368557 0.1184609 ]\n"
     ]
    }
   ],
   "source": [
    "# ---------------------------------\n",
    "# 상호정보량\n",
    "# ---------------------------------\n",
    "from sklearn.feature_selection import mutual_info_classif\n",
    "\n",
    "# 상호정보량\n",
    "mi = mutual_info_classif(train_x, train_y)\n",
    "\n",
    "# 중요도의 상위를 출력(상위 5개까지).\n",
    "idx = np.argsort(mi)[::-1]\n",
    "top_cols, top_importances = train_x.columns.values[idx][:5], corrs[idx][:5]\n",
    "print(top_cols, top_importances)"
   ]
  }
 ],
 "metadata": {
  "kernelspec": {
   "display_name": "Python 3 (ipykernel)",
   "language": "python",
   "name": "python3"
  },
  "language_info": {
   "codemirror_mode": {
    "name": "ipython",
    "version": 3
   },
   "file_extension": ".py",
   "mimetype": "text/x-python",
   "name": "python",
   "nbconvert_exporter": "python",
   "pygments_lexer": "ipython3",
   "version": "3.10.9"
  }
 },
 "nbformat": 4,
 "nbformat_minor": 5
}
