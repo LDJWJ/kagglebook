{
 "cells": [
  {
   "cell_type": "markdown",
   "id": "1c04a1a5",
   "metadata": {},
   "source": [
    "### XGBoost 모델의 매개변수 탐색 범위 설정 예제"
   ]
  },
  {
   "cell_type": "markdown",
   "id": "9cfd9606",
   "metadata": {},
   "source": [
    "### 학습 내용\n",
    " * 기본 베이스라인 매개변수 설정\n",
    " * 매개변수 탐색 범위 지정\n",
    " * 추가적인 매개변수 조정 가능성 소개 (alpha, lambda)"
   ]
  },
  {
   "cell_type": "code",
   "execution_count": 1,
   "id": "6af6f812",
   "metadata": {},
   "outputs": [],
   "source": [
    "import numpy as np\n",
    "from hyperopt import hp"
   ]
  },
  {
   "cell_type": "code",
   "execution_count": 3,
   "id": "351f006b",
   "metadata": {},
   "outputs": [],
   "source": [
    "# -----------------------------------\n",
    "# xgboost의 파라미터 공간의 예\n",
    "# -----------------------------------\n",
    "\n",
    "# 베이스라인 매개변수\n",
    "params = {\n",
    "    'booster': 'gbtree',             # 트리의 유형\n",
    "    'objective': 'binary:logistic',  # 목적 함수\n",
    "    'eta': 0.1,                      # 학습률\n",
    "    'gamma': 0.0,                    # 가지치기 매개변수\n",
    "    'alpha': 0.0,                    # L1 규제 하이퍼파라미터\n",
    "    'lambda': 1.0,                   # L2 규제 하이퍼파라미터\n",
    "    'min_child_weight': 1,           # 최소 자식 가중치\n",
    "    'max_depth': 5,                  # 트리의 최대 깊이\n",
    "    'subsample': 0.8,                # 훈련 샘플의 샘플링 비율\n",
    "    'colsample_bytree': 0.8,         # 특성의 샘플링 비율\n",
    "    'random_state': 71,              # 난수 생성기의 시드\n",
    "}"
   ]
  },
  {
   "cell_type": "code",
   "execution_count": 4,
   "id": "2c1c5371",
   "metadata": {},
   "outputs": [],
   "source": [
    "# 매개변수의 탐색범위\n",
    "param_space = {\n",
    "    'min_child_weight': hp.loguniform('min_child_weight', np.log(0.1), np.log(10)),\n",
    "    'max_depth': hp.quniform('max_depth', 3, 9, 1),\n",
    "    'subsample': hp.quniform('subsample', 0.6, 0.95, 0.05),\n",
    "    'colsample_bytree': hp.quniform('subsample', 0.6, 0.95, 0.05),\n",
    "    'gamma': hp.loguniform('gamma', np.log(1e-8), np.log(1.0)),\n",
    "\n",
    "    # 여유가 있으면 alpha, lambda도 조정\n",
    "    # 'alpha' : hp.loguniform('alpha', np.log(1e-8), np.log(1.0)),\n",
    "    # 'lambda' : hp.loguniform('lambda', np.log(1e-6), np.log(10.0)),\n",
    "}\n"
   ]
  }
 ],
 "metadata": {
  "kernelspec": {
   "display_name": "Python 3 (ipykernel)",
   "language": "python",
   "name": "python3"
  },
  "language_info": {
   "codemirror_mode": {
    "name": "ipython",
    "version": 3
   },
   "file_extension": ".py",
   "mimetype": "text/x-python",
   "name": "python",
   "nbconvert_exporter": "python",
   "pygments_lexer": "ipython3",
   "version": "3.10.9"
  }
 },
 "nbformat": 4,
 "nbformat_minor": 5
}
