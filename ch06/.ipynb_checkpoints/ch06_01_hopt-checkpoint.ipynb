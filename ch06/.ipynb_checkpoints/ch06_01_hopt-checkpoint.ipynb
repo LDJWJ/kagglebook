{
 "cells": [
  {
   "cell_type": "markdown",
   "id": "d1528023",
   "metadata": {},
   "source": [
    "### XGBoost 모델의 매개변수 탐색을 위한 Hyperopt을 활용한 파라미터 최적화"
   ]
  },
  {
   "cell_type": "markdown",
   "id": "eee5b2c8",
   "metadata": {},
   "source": [
    "### 학습 내용\n",
    " * 데이터 준비 및 전처리\n",
    " * XGBoost 모델 학습 및 예측\n",
    " * Hyperopt을 사용한 파라미터 탐색"
   ]
  },
  {
   "cell_type": "markdown",
   "id": "f76c99ab",
   "metadata": {},
   "source": [
    "* Hyperopt은 파라미터 최적화를 위한 파이썬 라이브러리입니다. 주어진 하이퍼파라미터 공간에서 가장 우수한 조합을 찾는데 사용됩니다. Hyperopt은 베이지안 최적화 알고리즘 중 하나인 트리-파라미터(TPE)를 구현한 tpe 알고리즘을 제공"
   ]
  },
  {
   "cell_type": "markdown",
   "id": "b07da869",
   "metadata": {},
   "source": [
    "### 사전 준비 및 코드 실행 환경\n",
    " * xgboost, hyperopt 설치가 되어 있어야 함.\n",
    " * 라이브러리 버전(23/06)\n",
    "    * xgboost 버전 : 1.7.5\n",
    "    * hyperopt 버전 : 0.2.7"
   ]
  },
  {
   "cell_type": "markdown",
   "id": "21fff9ed",
   "metadata": {},
   "source": [
    "### 데이터 준비 및 전처리"
   ]
  },
  {
   "cell_type": "code",
   "execution_count": 1,
   "id": "26462e16",
   "metadata": {},
   "outputs": [],
   "source": [
    "# ---------------------------------\n",
    "# 데이터 등의 사전 준비\n",
    "# ----------------------------------\n",
    "import numpy as np\n",
    "import pandas as pd\n",
    "\n",
    "# train_x는 학습 데이터, train_y는 목적 변수, test_x는 테스트 데이터\n",
    "# pandas의 DataFrame, Series로 유지합니다.(numpy의 array로 유지하기도 합니다)\n",
    "\n",
    "train = pd.read_csv('../input/sample-data/train_preprocessed.csv')\n",
    "train_x = train.drop(['target'], axis=1)\n",
    "train_y = train['target']\n",
    "test_x = pd.read_csv('../input/sample-data/test_preprocessed.csv')"
   ]
  },
  {
   "cell_type": "code",
   "execution_count": 2,
   "id": "ca313601",
   "metadata": {},
   "outputs": [
    {
     "data": {
      "text/plain": [
       "((10000, 29), (10000, 28), (10000,), (10000, 28))"
      ]
     },
     "execution_count": 2,
     "metadata": {},
     "output_type": "execute_result"
    }
   ],
   "source": [
    "train.shape, train_x.shape, train_y.shape, test_x.shape"
   ]
  },
  {
   "cell_type": "markdown",
   "id": "3d27ddac",
   "metadata": {},
   "source": [
    "### 데이터 나누기 및 XGB 모델 클래스 생성"
   ]
  },
  {
   "cell_type": "code",
   "execution_count": 3,
   "id": "d4b4ba0d",
   "metadata": {},
   "outputs": [],
   "source": [
    "# 학습 데이터를 학습 데이터와 검증 데이터로 나눔\n",
    "from sklearn.model_selection import KFold\n",
    "\n",
    "kf = KFold(n_splits=4, shuffle=True, random_state=71)\n",
    "tr_idx, va_idx = list(kf.split(train_x))[0]\n",
    "tr_x, va_x = train_x.iloc[tr_idx], train_x.iloc[va_idx]\n",
    "tr_y, va_y = train_y.iloc[tr_idx], train_y.iloc[va_idx]\n",
    "\n",
    "# xgboost로 학습 및 예측을 수행\n",
    "import xgboost as xgb\n",
    "\n",
    "\n",
    "class Model:\n",
    "\n",
    "    def __init__(self, params=None):\n",
    "        self.model = None\n",
    "        if params is None:\n",
    "            self.params = {}\n",
    "        else:\n",
    "            self.params = params\n",
    "\n",
    "    def fit(self, tr_x, tr_y, va_x, va_y):\n",
    "        #params = {'objective': 'binary:logistic', 'silent': 1, 'random_state': 71}\n",
    "        params = {'objective': 'binary:logistic', 'verbosity': 0, 'random_state': 71}\n",
    "        params.update(self.params)\n",
    "        num_round = 10\n",
    "        dtrain = xgb.DMatrix(tr_x, label=tr_y)\n",
    "        dvalid = xgb.DMatrix(va_x, label=va_y)\n",
    "        watchlist = [(dtrain, 'train'), (dvalid, 'eval')]\n",
    "        self.model = xgb.train(params, dtrain, num_round, evals=watchlist)\n",
    "\n",
    "    def predict(self, x):\n",
    "        data = xgb.DMatrix(x)\n",
    "        pred = self.model.predict(data)\n",
    "        return pred"
   ]
  },
  {
   "cell_type": "code",
   "execution_count": 4,
   "id": "f4059c00",
   "metadata": {},
   "outputs": [],
   "source": [
    "# -----------------------------------\n",
    "# 탐색할 파라미터의 공간의 지정\n",
    "# -----------------------------------\n",
    "# hp.choice에서는 복수의 선택사항에서 고르기\n",
    "# hp.uniform에서는 하한상한을 지정한 동일분포로부터 추출. 인수는 하한상한\n",
    "# hp.quniform에서는 하한상한을 지정한 균등분포 중 일정 간격마다의 점으로부터 추출. 인수는 하한상한간격\n",
    "# hp.loguniform에서는 하한상한을 지정한 로그을 취한 값이 균등분포를 따르는 분포로부터 추출. 인수는 하한상한의 로그를 취한 값\n",
    "\n",
    "# 만약 moduleNotFoundError 발생시 hyperopt 설치 후 진행\n",
    "# 2023/06/16 hyperopt 설치 및 실행 확인 : 0.2.7\n",
    "# pip install hyperopt\n",
    "from hyperopt import hp\n",
    "\n",
    "space = {\n",
    "    'activation': hp.choice('activation', ['prelu', 'relu']),\n",
    "    'dropout': hp.uniform('dropout', 0, 0.2),\n",
    "    'units': hp.quniform('units', 32, 256, 32),\n",
    "    'learning_rate': hp.loguniform('learning_rate', np.log(0.00001), np.log(0.01)),\n",
    "}"
   ]
  },
  {
   "cell_type": "markdown",
   "id": "103bce9d",
   "metadata": {},
   "source": [
    "### 모델 학습 "
   ]
  },
  {
   "cell_type": "code",
   "execution_count": 8,
   "id": "566c225d",
   "metadata": {},
   "outputs": [
    {
     "name": "stdout",
     "output_type": "stream",
     "text": [
      "[0]\ttrain-logloss:0.54916\teval-logloss:0.55556                                                                         \n",
      "[1]\ttrain-logloss:0.46704\teval-logloss:0.47825                                                                         \n",
      "[2]\ttrain-logloss:0.41289\teval-logloss:0.42694                                                                         \n",
      "[3]\ttrain-logloss:0.37646\teval-logloss:0.39516                                                                         \n",
      "[4]\ttrain-logloss:0.34842\teval-logloss:0.37219                                                                         \n",
      "[5]\ttrain-logloss:0.32789\teval-logloss:0.35661                                                                         \n",
      "[6]\ttrain-logloss:0.30931\teval-logloss:0.34235                                                                         \n",
      "[7]\ttrain-logloss:0.29330\teval-logloss:0.32852                                                                         \n",
      "[8]\ttrain-logloss:0.28254\teval-logloss:0.32099                                                                         \n",
      "[9]\ttrain-logloss:0.27036\teval-logloss:0.31086                                                                         \n",
      "params: {'gamma': 0.30000000000000004, 'max_depth': 5, 'min_child_weight': 3.0}, logloss: 0.3109                       \n",
      "[0]\ttrain-logloss:0.54255\teval-logloss:0.54999                                                                         \n",
      "[1]\ttrain-logloss:0.45543\teval-logloss:0.47201                                                                         \n",
      "[2]\ttrain-logloss:0.39886\teval-logloss:0.42224                                                                         \n",
      "[3]\ttrain-logloss:0.35725\teval-logloss:0.38506                                                                         \n",
      "[4]\ttrain-logloss:0.32719\teval-logloss:0.36165                                                                         \n",
      "[5]\ttrain-logloss:0.30536\teval-logloss:0.34539                                                                         \n",
      "[6]\ttrain-logloss:0.28747\teval-logloss:0.33193                                                                         \n",
      "[7]\ttrain-logloss:0.27137\teval-logloss:0.32088                                                                         \n",
      "[8]\ttrain-logloss:0.25744\teval-logloss:0.31153                                                                         \n",
      "[9]\ttrain-logloss:0.24180\teval-logloss:0.29945                                                                         \n",
      "params: {'gamma': 0.2, 'max_depth': 6, 'min_child_weight': 4.0}, logloss: 0.2994                                       \n",
      "[0]\ttrain-logloss:0.54889\teval-logloss:0.55547                                                                         \n",
      "[1]\ttrain-logloss:0.46664\teval-logloss:0.47833                                                                         \n",
      "[2]\ttrain-logloss:0.41213\teval-logloss:0.42719                                                                         \n",
      "[3]\ttrain-logloss:0.37602\teval-logloss:0.39348                                                                         \n",
      "[4]\ttrain-logloss:0.34862\teval-logloss:0.37070                                                                         \n",
      "[5]\ttrain-logloss:0.32795\teval-logloss:0.35369                                                                         \n",
      "[6]\ttrain-logloss:0.30792\teval-logloss:0.33791                                                                         \n",
      "[7]\ttrain-logloss:0.29458\teval-logloss:0.32981                                                                         \n",
      "[8]\ttrain-logloss:0.28011\teval-logloss:0.31538                                                                         \n",
      "[9]\ttrain-logloss:0.26937\teval-logloss:0.30821                                                                         \n",
      "params: {'gamma': 0.1, 'max_depth': 5, 'min_child_weight': 2.0}, logloss: 0.3082                                       \n",
      "[0]\ttrain-logloss:0.54919\teval-logloss:0.55554                                                                         \n",
      "[1]\ttrain-logloss:0.46685\teval-logloss:0.47875                                                                         \n",
      "[2]\ttrain-logloss:0.41348\teval-logloss:0.42662                                                                         \n",
      "[3]\ttrain-logloss:0.37749\teval-logloss:0.39559                                                                         \n",
      "[4]\ttrain-logloss:0.34903\teval-logloss:0.37150                                                                         \n",
      "[5]\ttrain-logloss:0.32872\teval-logloss:0.35619                                                                         \n",
      "[6]\ttrain-logloss:0.31085\teval-logloss:0.34109                                                                         \n",
      "[7]\ttrain-logloss:0.29650\teval-logloss:0.32870                                                                         \n",
      "[8]\ttrain-logloss:0.28471\teval-logloss:0.32078                                                                         \n",
      "[9]\ttrain-logloss:0.27339\teval-logloss:0.31473                                                                         \n",
      "params: {'gamma': 0.0, 'max_depth': 5, 'min_child_weight': 4.0}, logloss: 0.3147                                       \n",
      "[0]\ttrain-logloss:0.54253\teval-logloss:0.54985                                                                         \n",
      "[1]\ttrain-logloss:0.45548\teval-logloss:0.47196                                                                         \n",
      "[2]\ttrain-logloss:0.39890\teval-logloss:0.42222                                                                         \n",
      "[3]\ttrain-logloss:0.35728\teval-logloss:0.38502                                                                         \n",
      "[4]\ttrain-logloss:0.32804\teval-logloss:0.36261                                                                         \n",
      "[5]\ttrain-logloss:0.30609\teval-logloss:0.34748                                                                         \n",
      "[6]\ttrain-logloss:0.28800\teval-logloss:0.33525                                                                         \n",
      "[7]\ttrain-logloss:0.27104\teval-logloss:0.32293                                                                         \n",
      "[8]\ttrain-logloss:0.25775\teval-logloss:0.31414                                                                         \n",
      "[9]\ttrain-logloss:0.24307\teval-logloss:0.30191                                                                         \n",
      "params: {'gamma': 0.0, 'max_depth': 6, 'min_child_weight': 4.0}, logloss: 0.3019                                       \n",
      "[0]\ttrain-logloss:0.54133\teval-logloss:0.54996                                                                         \n",
      "[1]\ttrain-logloss:0.45344\teval-logloss:0.47162                                                                         \n",
      "[2]\ttrain-logloss:0.39696\teval-logloss:0.42188                                                                         \n",
      "[3]\ttrain-logloss:0.35558\teval-logloss:0.38491                                                                         \n",
      "[4]\ttrain-logloss:0.32209\teval-logloss:0.35813                                                                         \n",
      "[5]\ttrain-logloss:0.29993\teval-logloss:0.34286                                                                         \n",
      "[6]\ttrain-logloss:0.27821\teval-logloss:0.32637                                                                         \n",
      "[7]\ttrain-logloss:0.26269\teval-logloss:0.31476                                                                         \n",
      "[8]\ttrain-logloss:0.24802\teval-logloss:0.30618                                                                         \n",
      "[9]\ttrain-logloss:0.23665\teval-logloss:0.29957                                                                         \n",
      "params: {'gamma': 0.0, 'max_depth': 6, 'min_child_weight': 2.0}, logloss: 0.2996                                       \n",
      "[0]\ttrain-logloss:0.53314\teval-logloss:0.54359                                                                         \n",
      "[1]\ttrain-logloss:0.43985\teval-logloss:0.46092                                                                         \n"
     ]
    },
    {
     "name": "stdout",
     "output_type": "stream",
     "text": [
      "[2]\ttrain-logloss:0.37612\teval-logloss:0.40783                                                                         \n",
      "[3]\ttrain-logloss:0.33334\teval-logloss:0.37238                                                                         \n",
      "[4]\ttrain-logloss:0.29993\teval-logloss:0.34467                                                                         \n",
      "[5]\ttrain-logloss:0.27425\teval-logloss:0.32465                                                                         \n",
      "[6]\ttrain-logloss:0.25230\teval-logloss:0.30979                                                                         \n",
      "[7]\ttrain-logloss:0.23468\teval-logloss:0.30111                                                                         \n",
      "[8]\ttrain-logloss:0.21924\teval-logloss:0.29117                                                                         \n",
      "[9]\ttrain-logloss:0.20572\teval-logloss:0.28550                                                                         \n",
      "params: {'gamma': 0.4, 'max_depth': 8, 'min_child_weight': 4.0}, logloss: 0.2855                                       \n",
      "[0]\ttrain-logloss:0.54916\teval-logloss:0.55556                                                                         \n",
      "[1]\ttrain-logloss:0.46703\teval-logloss:0.47826                                                                         \n",
      "[2]\ttrain-logloss:0.41288\teval-logloss:0.42695                                                                         \n",
      "[3]\ttrain-logloss:0.37742\teval-logloss:0.39472                                                                         \n",
      "[4]\ttrain-logloss:0.35052\teval-logloss:0.37351                                                                         \n",
      "[5]\ttrain-logloss:0.32987\teval-logloss:0.35761                                                                         \n",
      "[6]\ttrain-logloss:0.30919\teval-logloss:0.33759                                                                         \n",
      "[7]\ttrain-logloss:0.29467\teval-logloss:0.32771                                                                         \n",
      "[8]\ttrain-logloss:0.27953\teval-logloss:0.31422                                                                         \n",
      "[9]\ttrain-logloss:0.26855\teval-logloss:0.30580                                                                         \n",
      "params: {'gamma': 0.0, 'max_depth': 5, 'min_child_weight': 3.0}, logloss: 0.3058                                       \n",
      "[0]\ttrain-logloss:0.52736\teval-logloss:0.54061                                                                         \n",
      "[1]\ttrain-logloss:0.43062\teval-logloss:0.46019                                                                         \n",
      "[2]\ttrain-logloss:0.36466\teval-logloss:0.40682                                                                         \n",
      "[3]\ttrain-logloss:0.31438\teval-logloss:0.37029                                                                         \n",
      "[4]\ttrain-logloss:0.27615\teval-logloss:0.34321                                                                         \n",
      "[5]\ttrain-logloss:0.24467\teval-logloss:0.32122                                                                         \n",
      "[6]\ttrain-logloss:0.22101\teval-logloss:0.30667                                                                         \n",
      "[7]\ttrain-logloss:0.20049\teval-logloss:0.29472                                                                         \n",
      "[8]\ttrain-logloss:0.18279\teval-logloss:0.28550                                                                         \n",
      "[9]\ttrain-logloss:0.16791\teval-logloss:0.28048                                                                         \n",
      "params: {'gamma': 0.4, 'max_depth': 8, 'min_child_weight': 1.0}, logloss: 0.2805                                       \n",
      "[0]\ttrain-logloss:0.54916\teval-logloss:0.55556                                                                         \n",
      "[1]\ttrain-logloss:0.46704\teval-logloss:0.47825                                                                         \n",
      "[2]\ttrain-logloss:0.41289\teval-logloss:0.42694                                                                         \n",
      "[3]\ttrain-logloss:0.37646\teval-logloss:0.39516                                                                         \n",
      "[4]\ttrain-logloss:0.34842\teval-logloss:0.37219                                                                         \n",
      "[5]\ttrain-logloss:0.32789\teval-logloss:0.35661                                                                         \n",
      "[6]\ttrain-logloss:0.30931\teval-logloss:0.34235                                                                         \n",
      "[7]\ttrain-logloss:0.29330\teval-logloss:0.32852                                                                         \n",
      "[8]\ttrain-logloss:0.28254\teval-logloss:0.32099                                                                         \n",
      "[9]\ttrain-logloss:0.27036\teval-logloss:0.31086                                                                         \n",
      "params: {'gamma': 0.2, 'max_depth': 5, 'min_child_weight': 3.0}, logloss: 0.3109                                       \n",
      "100%|███████████████████████████████████████████████| 10/10 [00:02<00:00,  4.21trial/s, best loss: 0.28048027534388964]\n"
     ]
    },
    {
     "data": {
      "text/plain": [
       "{'gamma': 0.4, 'max_depth': 8.0, 'min_child_weight': 1.0}"
      ]
     },
     "execution_count": 8,
     "metadata": {},
     "output_type": "execute_result"
    }
   ],
   "source": [
    "# 탐색할 매개변수의 공간을 지정\n",
    "space = {\n",
    "    'min_child_weight': hp.quniform('min_child_weight', 1, 5, 1),\n",
    "    'max_depth': hp.quniform('max_depth', 3, 9, 1),\n",
    "    'gamma': hp.quniform('gamma', 0, 0.4, 0.1),\n",
    "}\n",
    "\n",
    "# hyperopt에 의한 매개변수 탐색 실행\n",
    "max_evals = 10\n",
    "trials = Trials()\n",
    "history = []\n",
    "fmin(score, space, algo=tpe.suggest, trials=trials, max_evals=max_evals)"
   ]
  },
  {
   "cell_type": "code",
   "execution_count": 9,
   "id": "3f28bbed",
   "metadata": {},
   "outputs": [
    {
     "name": "stdout",
     "output_type": "stream",
     "text": [
      "best params:{'gamma': 0.4, 'max_depth': 8, 'min_child_weight': 1.0}, score:0.2805\n"
     ]
    }
   ],
   "source": [
    "# 기록한 정보에서 매개변수와 점수를 출력\n",
    "# (trials에서도 정보를 취득할 수 있지만 매개변수의 취득이 다소 어려움)\n",
    "history = sorted(history, key=lambda tpl: tpl[1])\n",
    "best = history[0]\n",
    "print(f'best params:{best[0]}, score:{best[1]:.4f}')"
   ]
  }
 ],
 "metadata": {
  "kernelspec": {
   "display_name": "Python 3 (ipykernel)",
   "language": "python",
   "name": "python3"
  },
  "language_info": {
   "codemirror_mode": {
    "name": "ipython",
    "version": 3
   },
   "file_extension": ".py",
   "mimetype": "text/x-python",
   "name": "python",
   "nbconvert_exporter": "python",
   "pygments_lexer": "ipython3",
   "version": "3.10.9"
  }
 },
 "nbformat": 4,
 "nbformat_minor": 5
}
